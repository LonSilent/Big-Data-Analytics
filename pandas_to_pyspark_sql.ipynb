{
 "cells": [
  {
   "cell_type": "code",
   "execution_count": 4,
   "metadata": {
    "collapsed": true
   },
   "outputs": [],
   "source": [
    "import pandas as pd"
   ]
  },
  {
   "cell_type": "code",
   "execution_count": 6,
   "metadata": {
    "collapsed": false
   },
   "outputs": [],
   "source": [
    "pandas_r = pd.read_csv('1101.csv')"
   ]
  },
  {
   "cell_type": "code",
   "execution_count": 9,
   "metadata": {
    "collapsed": false
   },
   "outputs": [
    {
     "data": {
      "text/plain": [
       "<pyspark.sql.context.SQLContext at 0x7f1ce745be50>"
      ]
     },
     "execution_count": 9,
     "metadata": {},
     "output_type": "execute_result"
    }
   ],
   "source": [
    "sql_sc = SQLContext(sc)\n",
    "sql_sc"
   ]
  },
  {
   "cell_type": "code",
   "execution_count": 11,
   "metadata": {
    "collapsed": false
   },
   "outputs": [],
   "source": [
    "s_df = sql_sc.createDataFrame(pandas_r)"
   ]
  },
  {
   "cell_type": "code",
   "execution_count": 13,
   "metadata": {
    "collapsed": false
   },
   "outputs": [
    {
     "name": "stdout",
     "output_type": "stream",
     "text": [
      "+---------+-----+-----+-----+-----+--------+--------+------+-----+\n",
      "|     Date| Open| High|  Low|Close|Volume_n|Volume_m|return|   PE|\n",
      "+---------+-----+-----+-----+-----+--------+--------+------+-----+\n",
      "| 1998/1/3|12.84|12.84| 12.6| 12.6|  1624.0| 62200.0| -1.81|26.76|\n",
      "| 1998/1/5| 12.6| 12.7|12.44|12.44|  4952.0|187464.0| -1.32|26.41|\n",
      "| 1998/1/6|12.44|12.44|12.21|12.24|  3408.0|126192.0|  -1.6|25.99|\n",
      "| 1998/1/7|12.27| 12.4|12.01|12.01|  3207.0|117772.0|  -1.9|25.49|\n",
      "| 1998/1/8|11.97|12.11|11.87|11.87|  3072.0|110927.0| -1.11|25.21|\n",
      "| 1998/1/9|11.87|11.91|11.61|11.77|  3892.0|137463.0| -0.84| 25.0|\n",
      "|1998/1/12|11.61|11.67|11.11|11.11|  2892.0| 99120.0| -5.63|23.59|\n",
      "|1998/1/13|11.28|11.38|11.11|11.34|  3604.0|121966.0|  2.09|24.08|\n",
      "|1998/1/14|11.51|11.64|11.38|11.58|  2606.0| 90755.0|  2.05|24.58|\n",
      "|1998/1/15|11.64|11.64|11.28|11.28|  2899.0|100153.0| -2.58|23.94|\n",
      "|1998/1/16|11.28|11.44|11.21|11.28|  3065.0|104470.0|   0.0|23.94|\n",
      "|1998/1/17|11.31|11.44|11.28|11.28|  1522.0| 51980.0|   0.0|23.94|\n",
      "|1998/1/19|11.41|11.48|11.31|11.31|  2204.0| 75370.0|  0.29|24.01|\n",
      "|1998/1/20|11.34|11.48|11.28|11.38|  2542.0| 86929.0|  0.59|24.15|\n",
      "|1998/1/21|11.41|11.48|11.34|11.48|  3390.0|116624.0|  0.87|24.37|\n",
      "|1998/1/22|11.54|11.58|11.28|11.34|  3479.0|119498.0| -1.16|24.08|\n",
      "| 1998/2/2|11.51|11.71|11.44|11.67|  4841.0|168455.0|  2.92|24.79|\n",
      "| 1998/2/3|11.77|11.81|11.44|11.48|  4826.0|168190.0|  -1.7|24.37|\n",
      "| 1998/2/4|11.48|11.61|11.48|11.54|  3080.0|107126.0|  0.58|24.51|\n",
      "| 1998/2/5|11.54|11.54|11.31|11.38|  2671.0| 91840.0| -1.44|24.15|\n",
      "+---------+-----+-----+-----+-----+--------+--------+------+-----+\n",
      "only showing top 20 rows\n",
      "\n"
     ]
    }
   ],
   "source": [
    "s_df.show()"
   ]
  },
  {
   "cell_type": "code",
   "execution_count": null,
   "metadata": {
    "collapsed": true
   },
   "outputs": [],
   "source": []
  },
  {
   "cell_type": "code",
   "execution_count": null,
   "metadata": {
    "collapsed": true
   },
   "outputs": [],
   "source": []
  },
  {
   "cell_type": "code",
   "execution_count": null,
   "metadata": {
    "collapsed": true
   },
   "outputs": [],
   "source": []
  }
 ],
 "metadata": {
  "kernelspec": {
   "display_name": "Python 2",
   "language": "python",
   "name": "python2"
  },
  "language_info": {
   "codemirror_mode": {
    "name": "ipython",
    "version": 2
   },
   "file_extension": ".py",
   "mimetype": "text/x-python",
   "name": "python",
   "nbconvert_exporter": "python",
   "pygments_lexer": "ipython2",
   "version": "2.7.11"
  }
 },
 "nbformat": 4,
 "nbformat_minor": 0
}
