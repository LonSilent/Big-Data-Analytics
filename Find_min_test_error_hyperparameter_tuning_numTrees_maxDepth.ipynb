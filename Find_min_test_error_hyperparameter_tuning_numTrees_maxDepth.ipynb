{
 "cells": [
  {
   "cell_type": "code",
   "execution_count": 99,
   "metadata": {
    "collapsed": false
   },
   "outputs": [
    {
     "name": "stdout",
     "output_type": "stream",
     "text": [
      "Populating the interactive namespace from numpy and matplotlib\n",
      "([3, 6], 0.52620053773870556)\n"
     ]
    }
   ],
   "source": [
    "%pylab inline\n",
    "import numpy as np\n",
    "import pandas as pd\n",
    "import matplotlib.pyplot as pl\n",
    "from pyspark.ml.feature import StringIndexer, VectorIndexer\n",
    "from pyspark.ml.feature import VectorAssembler\n",
    "from pyspark.ml import Pipeline\n",
    "from pyspark.ml.evaluation import MulticlassClassificationEvaluator\n",
    "from pyspark.ml.classification import RandomForestClassifier\n",
    "datapath = '/home/bigdatas16/1101.csv'\n",
    "data = pd.read_csv(datapath)\n",
    "def MA(data,day):\n",
    "    dataList = range(data['Date'].size)\n",
    "    tmpList = []\n",
    "    for i in dataList:\n",
    "        if i - day + 1 >= 0:\n",
    "            tmp = data['Close'][i-day+1:i+1].mean()\n",
    "            tmpList.append(tmp)\n",
    "        elif i - day + 1 < 0:\n",
    "            tmp = 0\n",
    "            tmpList.append(tmp)\n",
    "    tmpSeries = pd.Series(tmpList)\n",
    "    data['MA'+str(day)]=tmpSeries\n",
    "\n",
    "# 乖離率(BIAS_lag1)\n",
    "def BIAS_lag(data,day):\n",
    "    dataList = range(data['Date'].size)\n",
    "    tmpList = []\n",
    "    tmpList.append(0)\n",
    "    for item in dataList:\n",
    "        if item-day+1 >= 0:\n",
    "            tmp = (data['Close'][item]-data['MA'+str(day)][item])/(data['MA'+str(day)][item])*100\n",
    "            tmpList.append(tmp)\n",
    "        elif item - day + 1 < 0:\n",
    "            tmp = 0\n",
    "            tmpList.append(tmp)         \n",
    "    tmpSeries = pd.Series(tmpList)\n",
    "    data['BIAS'+str(day)] = tmpSeries\n",
    "for i in range(24):\n",
    "    MA(data,1+i)\n",
    "    BIAS_lag(data,1+i)\n",
    "def UP_DOWN(data):\n",
    "    data_day_number = range(data['Date'].size)\n",
    "    tmpList = []\n",
    "    \n",
    "    for item in data_day_number:\n",
    "        spread = data['Close'][item] - data['Open'][item]\n",
    "        if spread > 0 :\n",
    "            tmp = 1\n",
    "        elif spread <= 0:\n",
    "            tmp = 0\n",
    " \n",
    "        tmpList.append(tmp)\n",
    "    \n",
    "    tmpSeries = pd.Series(tmpList)\n",
    "    data['UP_DOWN']=tmpSeries\n",
    "UP_DOWN(data)\n",
    "data1 = data.drop(['Date', 'Open', 'High','Low','Close','Volume_n','Volume_m','return','PE','MA1','MA2','MA3','MA4','MA5','MA6','MA7','MA8','MA9','MA10','MA11','MA12','MA13','MA14','MA15','MA16','MA17','MA18','MA19','MA20','MA21','MA22','MA23','MA24'], axis=1)\n",
    "data1 = data1.fillna(-1)\n",
    "cols = data1.columns.tolist()\n",
    "cols[24]\n",
    "data1 = data1[[cols[24]] + cols[0:23]]\n",
    "X = data1.iloc[:,1:]\n",
    "Y = data1.iloc[:,0:1] \n",
    "#hyperparameter tuning\n",
    "test_error = []\n",
    "numTrees_maxDepth = []\n",
    "for j in range(1,7,1):\n",
    "    for i in range(1,21,1):\n",
    "        n = len(data['Date'])/2\n",
    "        sql_sc = SQLContext(sc)\n",
    "        train_data = data1.iloc[:n,:]\n",
    "        train_sql = sql_sc.createDataFrame(train_data)\n",
    "        test_data = data1.iloc[n:,:]\n",
    "        test_sql = sql_sc.createDataFrame(test_data)\n",
    "        assembler1 = VectorAssembler(inputCols=[\"BIAS1\", \"BIAS2\", \"BIAS3\",\"BIAS4\",\"BIAS5\",\"BIAS6\"\n",
    "                                               ,\"BIAS7\",\"BIAS8\",\"BIAS9\",\"BIAS10\",\"BIAS11\",\"BIAS12\"\n",
    "                                               ,\"BIAS13\",\"BIAS14\",\"BIAS15\",\"BIAS16\",\"BIAS17\",\"BIAS18\"\n",
    "                                               ,\"BIAS19\",\"BIAS20\",\"BIAS21\",\"BIAS22\",\"BIAS23\"],outputCol=\"features\")\n",
    "        train_sql = assembler1.transform(train_sql)\n",
    "        labelIndexer = StringIndexer(inputCol = \"UP_DOWN\", outputCol=\"indexedLabel\").fit(train_sql)\n",
    "        featureIndexer = VectorIndexer(inputCol = \"features\", outputCol=\"indexedFeatures\").fit(train_sql)\n",
    "        rf = RandomForestClassifier(labelCol=\"indexedLabel\", featuresCol=\"indexedFeatures\",numTrees = i,maxDepth = j)\n",
    "        pipeline = Pipeline(stages=[labelIndexer,featureIndexer,rf])\n",
    "        model = pipeline.fit(train_sql)\n",
    "        assembler = VectorAssembler(inputCols=[\"BIAS1\", \"BIAS2\", \"BIAS3\",\"BIAS4\",\"BIAS5\",\"BIAS6\"\n",
    "                                               ,\"BIAS7\",\"BIAS8\",\"BIAS9\",\"BIAS10\",\"BIAS11\",\"BIAS12\"\n",
    "                                               ,\"BIAS13\",\"BIAS14\",\"BIAS15\",\"BIAS16\",\"BIAS17\",\"BIAS18\"\n",
    "                                               ,\"BIAS19\",\"BIAS20\",\"BIAS21\",\"BIAS22\",\"BIAS23\"],outputCol=\"features\")\n",
    "        test_sql = assembler.transform(test_sql)\n",
    "        predictions = model.transform(test_sql)\n",
    "        evaluator = MulticlassClassificationEvaluator(labelCol=\"indexedLabel\", predictionCol=\"prediction\")#, metricName=\"accuracy\")\n",
    "        accuracy = evaluator.evaluate(predictions)\n",
    "        test_error.append(1.0 - accuracy)\n",
    "        numTrees_maxDepth.append([i,j])\n",
    "        #print(\"Test Error = %g , numTrees = %g , maxDepth = %g\" % (1.0 - accuracy , i, j))\n",
    "#for i in range(len(test_error)):\n",
    "    #print(numTrees_maxDepth[i],test_error[i],i)\n",
    "mintest = np.min(test_error)\n",
    "c = []\n",
    "for i in range(len(test_error)):\n",
    "    c.append(np.min(test_error) == test_error[i])\n",
    "    \n",
    "for i in range(len(test_error)):    \n",
    "    if c[i] == True:\n",
    "        print(numTrees_maxDepth[i],mintest)"
   ]
  },
  {
   "cell_type": "code",
   "execution_count": null,
   "metadata": {
    "collapsed": true
   },
   "outputs": [],
   "source": []
  },
  {
   "cell_type": "code",
   "execution_count": null,
   "metadata": {
    "collapsed": true
   },
   "outputs": [],
   "source": []
  },
  {
   "cell_type": "code",
   "execution_count": null,
   "metadata": {
    "collapsed": true
   },
   "outputs": [],
   "source": []
  },
  {
   "cell_type": "code",
   "execution_count": null,
   "metadata": {
    "collapsed": true
   },
   "outputs": [],
   "source": []
  }
 ],
 "metadata": {
  "kernelspec": {
   "display_name": "Python 2",
   "language": "python",
   "name": "python2"
  },
  "language_info": {
   "codemirror_mode": {
    "name": "ipython",
    "version": 2
   },
   "file_extension": ".py",
   "mimetype": "text/x-python",
   "name": "python",
   "nbconvert_exporter": "python",
   "pygments_lexer": "ipython2",
   "version": "2.7.11"
  }
 },
 "nbformat": 4,
 "nbformat_minor": 0
}
