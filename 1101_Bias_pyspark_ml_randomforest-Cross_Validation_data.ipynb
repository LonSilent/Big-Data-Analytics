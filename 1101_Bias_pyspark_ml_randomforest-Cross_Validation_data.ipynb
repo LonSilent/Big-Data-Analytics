{
 "cells": [
  {
   "cell_type": "code",
   "execution_count": 1,
   "metadata": {
    "collapsed": false
   },
   "outputs": [
    {
     "name": "stdout",
     "output_type": "stream",
     "text": [
      "Populating the interactive namespace from numpy and matplotlib\n"
     ]
    }
   ],
   "source": [
    "%pylab inline\n",
    "import numpy as np\n",
    "import pandas as pd\n",
    "import matplotlib.pyplot as pl"
   ]
  },
  {
   "cell_type": "code",
   "execution_count": 2,
   "metadata": {
    "collapsed": false
   },
   "outputs": [],
   "source": [
    "datapath = '/home/bigdatas16/1101.csv'\n",
    "data = pd.read_csv(datapath)"
   ]
  },
  {
   "cell_type": "code",
   "execution_count": 3,
   "metadata": {
    "collapsed": false
   },
   "outputs": [
    {
     "data": {
      "text/html": [
       "<div>\n",
       "<table border=\"1\" class=\"dataframe\">\n",
       "  <thead>\n",
       "    <tr style=\"text-align: right;\">\n",
       "      <th></th>\n",
       "      <th>Date</th>\n",
       "      <th>Open</th>\n",
       "      <th>High</th>\n",
       "      <th>Low</th>\n",
       "      <th>Close</th>\n",
       "      <th>Volume_n</th>\n",
       "      <th>Volume_m</th>\n",
       "      <th>return</th>\n",
       "      <th>PE</th>\n",
       "    </tr>\n",
       "  </thead>\n",
       "  <tbody>\n",
       "    <tr>\n",
       "      <th>0</th>\n",
       "      <td>1998/1/3</td>\n",
       "      <td>12.84</td>\n",
       "      <td>12.84</td>\n",
       "      <td>12.60</td>\n",
       "      <td>12.60</td>\n",
       "      <td>1624.0</td>\n",
       "      <td>62200.0</td>\n",
       "      <td>-1.81</td>\n",
       "      <td>26.76</td>\n",
       "    </tr>\n",
       "    <tr>\n",
       "      <th>1</th>\n",
       "      <td>1998/1/5</td>\n",
       "      <td>12.60</td>\n",
       "      <td>12.70</td>\n",
       "      <td>12.44</td>\n",
       "      <td>12.44</td>\n",
       "      <td>4952.0</td>\n",
       "      <td>187464.0</td>\n",
       "      <td>-1.32</td>\n",
       "      <td>26.41</td>\n",
       "    </tr>\n",
       "    <tr>\n",
       "      <th>2</th>\n",
       "      <td>1998/1/6</td>\n",
       "      <td>12.44</td>\n",
       "      <td>12.44</td>\n",
       "      <td>12.21</td>\n",
       "      <td>12.24</td>\n",
       "      <td>3408.0</td>\n",
       "      <td>126192.0</td>\n",
       "      <td>-1.60</td>\n",
       "      <td>25.99</td>\n",
       "    </tr>\n",
       "    <tr>\n",
       "      <th>3</th>\n",
       "      <td>1998/1/7</td>\n",
       "      <td>12.27</td>\n",
       "      <td>12.40</td>\n",
       "      <td>12.01</td>\n",
       "      <td>12.01</td>\n",
       "      <td>3207.0</td>\n",
       "      <td>117772.0</td>\n",
       "      <td>-1.90</td>\n",
       "      <td>25.49</td>\n",
       "    </tr>\n",
       "    <tr>\n",
       "      <th>4</th>\n",
       "      <td>1998/1/8</td>\n",
       "      <td>11.97</td>\n",
       "      <td>12.11</td>\n",
       "      <td>11.87</td>\n",
       "      <td>11.87</td>\n",
       "      <td>3072.0</td>\n",
       "      <td>110927.0</td>\n",
       "      <td>-1.11</td>\n",
       "      <td>25.21</td>\n",
       "    </tr>\n",
       "  </tbody>\n",
       "</table>\n",
       "</div>"
      ],
      "text/plain": [
       "       Date   Open   High    Low  Close  Volume_n  Volume_m  return     PE\n",
       "0  1998/1/3  12.84  12.84  12.60  12.60    1624.0   62200.0   -1.81  26.76\n",
       "1  1998/1/5  12.60  12.70  12.44  12.44    4952.0  187464.0   -1.32  26.41\n",
       "2  1998/1/6  12.44  12.44  12.21  12.24    3408.0  126192.0   -1.60  25.99\n",
       "3  1998/1/7  12.27  12.40  12.01  12.01    3207.0  117772.0   -1.90  25.49\n",
       "4  1998/1/8  11.97  12.11  11.87  11.87    3072.0  110927.0   -1.11  25.21"
      ]
     },
     "execution_count": 3,
     "metadata": {},
     "output_type": "execute_result"
    }
   ],
   "source": [
    "#A(data,2)\n",
    "data.head()"
   ]
  },
  {
   "cell_type": "code",
   "execution_count": 4,
   "metadata": {
    "collapsed": true
   },
   "outputs": [],
   "source": [
    "def MA(data,day):\n",
    "    dataList = range(data['Date'].size)\n",
    "    tmpList = []\n",
    "    for i in dataList:\n",
    "        if i - day + 1 >= 0:\n",
    "            # 移動平均數 = 採樣天數的股價合計 / 採樣天數\n",
    "            tmp = data['Close'][i-day+1:i+1].mean()\n",
    "            tmpList.append(tmp)\n",
    "        elif i - day + 1 < 0:\n",
    "            tmp = 0\n",
    "            tmpList.append(tmp)\n",
    "    tmpSeries = pd.Series(tmpList)\n",
    "    data['MA'+str(day)]=tmpSeries"
   ]
  },
  {
   "cell_type": "code",
   "execution_count": 5,
   "metadata": {
    "collapsed": true
   },
   "outputs": [],
   "source": [
    "# 乖離率(BIAS)\n",
    "def BIAS(data,day):\n",
    "    dataList = range(data['Date'].size)\n",
    "    tmpList = []\n",
    "    for item in dataList:\n",
    "        if item-day+1 >= 0:\n",
    "            tmp = (data['Close'][item]-data['MA'+str(day)][item])/(data['MA'+str(day)][item])*100\n",
    "            tmpList.append(tmp)\n",
    "        elif item - day + 1 < 0:\n",
    "            tmp = 0\n",
    "            tmpList.append(tmp)         \n",
    "    tmpSeries = pd.Series(tmpList)\n",
    "    data['BIAS'+str(day)] = tmpSeries"
   ]
  },
  {
   "cell_type": "code",
   "execution_count": 6,
   "metadata": {
    "collapsed": false
   },
   "outputs": [
    {
     "data": {
      "text/plain": [
       "-0.035237769414984674"
      ]
     },
     "execution_count": 6,
     "metadata": {},
     "output_type": "execute_result"
    }
   ],
   "source": [
    "(11.28 - 11.692)/11.692"
   ]
  },
  {
   "cell_type": "code",
   "execution_count": 7,
   "metadata": {
    "collapsed": false
   },
   "outputs": [
    {
     "data": {
      "text/html": [
       "<div>\n",
       "<table border=\"1\" class=\"dataframe\">\n",
       "  <thead>\n",
       "    <tr style=\"text-align: right;\">\n",
       "      <th></th>\n",
       "      <th>Date</th>\n",
       "      <th>Open</th>\n",
       "      <th>High</th>\n",
       "      <th>Low</th>\n",
       "      <th>Close</th>\n",
       "      <th>Volume_n</th>\n",
       "      <th>Volume_m</th>\n",
       "      <th>return</th>\n",
       "      <th>PE</th>\n",
       "      <th>MA10</th>\n",
       "      <th>BIAS10</th>\n",
       "    </tr>\n",
       "  </thead>\n",
       "  <tbody>\n",
       "    <tr>\n",
       "      <th>0</th>\n",
       "      <td>1998/1/3</td>\n",
       "      <td>12.84</td>\n",
       "      <td>12.84</td>\n",
       "      <td>12.60</td>\n",
       "      <td>12.60</td>\n",
       "      <td>1624.0</td>\n",
       "      <td>62200.0</td>\n",
       "      <td>-1.81</td>\n",
       "      <td>26.76</td>\n",
       "      <td>0.000</td>\n",
       "      <td>0.000000</td>\n",
       "    </tr>\n",
       "    <tr>\n",
       "      <th>1</th>\n",
       "      <td>1998/1/5</td>\n",
       "      <td>12.60</td>\n",
       "      <td>12.70</td>\n",
       "      <td>12.44</td>\n",
       "      <td>12.44</td>\n",
       "      <td>4952.0</td>\n",
       "      <td>187464.0</td>\n",
       "      <td>-1.32</td>\n",
       "      <td>26.41</td>\n",
       "      <td>0.000</td>\n",
       "      <td>0.000000</td>\n",
       "    </tr>\n",
       "    <tr>\n",
       "      <th>2</th>\n",
       "      <td>1998/1/6</td>\n",
       "      <td>12.44</td>\n",
       "      <td>12.44</td>\n",
       "      <td>12.21</td>\n",
       "      <td>12.24</td>\n",
       "      <td>3408.0</td>\n",
       "      <td>126192.0</td>\n",
       "      <td>-1.60</td>\n",
       "      <td>25.99</td>\n",
       "      <td>0.000</td>\n",
       "      <td>0.000000</td>\n",
       "    </tr>\n",
       "    <tr>\n",
       "      <th>3</th>\n",
       "      <td>1998/1/7</td>\n",
       "      <td>12.27</td>\n",
       "      <td>12.40</td>\n",
       "      <td>12.01</td>\n",
       "      <td>12.01</td>\n",
       "      <td>3207.0</td>\n",
       "      <td>117772.0</td>\n",
       "      <td>-1.90</td>\n",
       "      <td>25.49</td>\n",
       "      <td>0.000</td>\n",
       "      <td>0.000000</td>\n",
       "    </tr>\n",
       "    <tr>\n",
       "      <th>4</th>\n",
       "      <td>1998/1/8</td>\n",
       "      <td>11.97</td>\n",
       "      <td>12.11</td>\n",
       "      <td>11.87</td>\n",
       "      <td>11.87</td>\n",
       "      <td>3072.0</td>\n",
       "      <td>110927.0</td>\n",
       "      <td>-1.11</td>\n",
       "      <td>25.21</td>\n",
       "      <td>0.000</td>\n",
       "      <td>0.000000</td>\n",
       "    </tr>\n",
       "    <tr>\n",
       "      <th>5</th>\n",
       "      <td>1998/1/9</td>\n",
       "      <td>11.87</td>\n",
       "      <td>11.91</td>\n",
       "      <td>11.61</td>\n",
       "      <td>11.77</td>\n",
       "      <td>3892.0</td>\n",
       "      <td>137463.0</td>\n",
       "      <td>-0.84</td>\n",
       "      <td>25.00</td>\n",
       "      <td>0.000</td>\n",
       "      <td>0.000000</td>\n",
       "    </tr>\n",
       "    <tr>\n",
       "      <th>6</th>\n",
       "      <td>1998/1/12</td>\n",
       "      <td>11.61</td>\n",
       "      <td>11.67</td>\n",
       "      <td>11.11</td>\n",
       "      <td>11.11</td>\n",
       "      <td>2892.0</td>\n",
       "      <td>99120.0</td>\n",
       "      <td>-5.63</td>\n",
       "      <td>23.59</td>\n",
       "      <td>0.000</td>\n",
       "      <td>0.000000</td>\n",
       "    </tr>\n",
       "    <tr>\n",
       "      <th>7</th>\n",
       "      <td>1998/1/13</td>\n",
       "      <td>11.28</td>\n",
       "      <td>11.38</td>\n",
       "      <td>11.11</td>\n",
       "      <td>11.34</td>\n",
       "      <td>3604.0</td>\n",
       "      <td>121966.0</td>\n",
       "      <td>2.09</td>\n",
       "      <td>24.08</td>\n",
       "      <td>0.000</td>\n",
       "      <td>0.000000</td>\n",
       "    </tr>\n",
       "    <tr>\n",
       "      <th>8</th>\n",
       "      <td>1998/1/14</td>\n",
       "      <td>11.51</td>\n",
       "      <td>11.64</td>\n",
       "      <td>11.38</td>\n",
       "      <td>11.58</td>\n",
       "      <td>2606.0</td>\n",
       "      <td>90755.0</td>\n",
       "      <td>2.05</td>\n",
       "      <td>24.58</td>\n",
       "      <td>0.000</td>\n",
       "      <td>0.000000</td>\n",
       "    </tr>\n",
       "    <tr>\n",
       "      <th>9</th>\n",
       "      <td>1998/1/15</td>\n",
       "      <td>11.64</td>\n",
       "      <td>11.64</td>\n",
       "      <td>11.28</td>\n",
       "      <td>11.28</td>\n",
       "      <td>2899.0</td>\n",
       "      <td>100153.0</td>\n",
       "      <td>-2.58</td>\n",
       "      <td>23.94</td>\n",
       "      <td>11.824</td>\n",
       "      <td>-4.600812</td>\n",
       "    </tr>\n",
       "    <tr>\n",
       "      <th>10</th>\n",
       "      <td>1998/1/16</td>\n",
       "      <td>11.28</td>\n",
       "      <td>11.44</td>\n",
       "      <td>11.21</td>\n",
       "      <td>11.28</td>\n",
       "      <td>3065.0</td>\n",
       "      <td>104470.0</td>\n",
       "      <td>0.00</td>\n",
       "      <td>23.94</td>\n",
       "      <td>11.692</td>\n",
       "      <td>-3.523777</td>\n",
       "    </tr>\n",
       "  </tbody>\n",
       "</table>\n",
       "</div>"
      ],
      "text/plain": [
       "         Date   Open   High    Low  Close  Volume_n  Volume_m  return     PE  \\\n",
       "0    1998/1/3  12.84  12.84  12.60  12.60    1624.0   62200.0   -1.81  26.76   \n",
       "1    1998/1/5  12.60  12.70  12.44  12.44    4952.0  187464.0   -1.32  26.41   \n",
       "2    1998/1/6  12.44  12.44  12.21  12.24    3408.0  126192.0   -1.60  25.99   \n",
       "3    1998/1/7  12.27  12.40  12.01  12.01    3207.0  117772.0   -1.90  25.49   \n",
       "4    1998/1/8  11.97  12.11  11.87  11.87    3072.0  110927.0   -1.11  25.21   \n",
       "5    1998/1/9  11.87  11.91  11.61  11.77    3892.0  137463.0   -0.84  25.00   \n",
       "6   1998/1/12  11.61  11.67  11.11  11.11    2892.0   99120.0   -5.63  23.59   \n",
       "7   1998/1/13  11.28  11.38  11.11  11.34    3604.0  121966.0    2.09  24.08   \n",
       "8   1998/1/14  11.51  11.64  11.38  11.58    2606.0   90755.0    2.05  24.58   \n",
       "9   1998/1/15  11.64  11.64  11.28  11.28    2899.0  100153.0   -2.58  23.94   \n",
       "10  1998/1/16  11.28  11.44  11.21  11.28    3065.0  104470.0    0.00  23.94   \n",
       "\n",
       "      MA10    BIAS10  \n",
       "0    0.000  0.000000  \n",
       "1    0.000  0.000000  \n",
       "2    0.000  0.000000  \n",
       "3    0.000  0.000000  \n",
       "4    0.000  0.000000  \n",
       "5    0.000  0.000000  \n",
       "6    0.000  0.000000  \n",
       "7    0.000  0.000000  \n",
       "8    0.000  0.000000  \n",
       "9   11.824 -4.600812  \n",
       "10  11.692 -3.523777  "
      ]
     },
     "execution_count": 7,
     "metadata": {},
     "output_type": "execute_result"
    }
   ],
   "source": [
    "MA(data,10)\n",
    "BIAS(data,10)\n",
    "data.head(11)"
   ]
  },
  {
   "cell_type": "code",
   "execution_count": 8,
   "metadata": {
    "collapsed": false
   },
   "outputs": [
    {
     "data": {
      "image/png": "[encoded data removed]",
      "text/plain": [
       "<matplotlib.figure.Figure at 0x7f3eadfc9bd0>"
      ]
     },
     "metadata": {},
     "output_type": "display_data"
    },
    {
     "data": {
      "image/png": "[encoded data removed]",
      "text/plain": [
       "<matplotlib.figure.Figure at 0x7f3ea7a39090>"
      ]
     },
     "metadata": {},
     "output_type": "display_data"
    }
   ],
   "source": [
    "from IPython.core.pylabtools import figsize\n",
    "figsize(12.5, 4.5)\n",
    "data[[\"Close\"]][3621:4621].plot()\n",
    "data[[\"BIAS10\"]][3621:4621].plot()\n",
    "plt.axhline(4,color = 'g',linestyle = '-',label = '4')\n",
    "plt.axhline(-4,color = 'g',linestyle = '-',label = '-4')\n",
    "plt.grid()\n",
    "plt.legend();"
   ]
  },
  {
   "cell_type": "code",
   "execution_count": 9,
   "metadata": {
    "collapsed": true
   },
   "outputs": [],
   "source": [
    "# 乖離率(BIAS)\n",
    "def BIAS_lag(data,day):\n",
    "    dataList = range(data['Date'].size)\n",
    "    tmpList = []\n",
    "    tmpList.append(0)\n",
    "    for item in dataList:\n",
    "        if item-day+1 >= 0:\n",
    "            tmp = (data['Close'][item]-data['MA'+str(day)][item])/(data['MA'+str(day)][item])*100\n",
    "            tmpList.append(tmp)\n",
    "        elif item - day + 1 < 0:\n",
    "            tmp = 0\n",
    "            tmpList.append(tmp)         \n",
    "    tmpSeries = pd.Series(tmpList)\n",
    "    data['BIAS'+str(day)] = tmpSeries"
   ]
  },
  {
   "cell_type": "code",
   "execution_count": 10,
   "metadata": {
    "collapsed": true
   },
   "outputs": [],
   "source": [
    "MA(data,10)\n",
    "BIAS_lag(data,10)"
   ]
  },
  {
   "cell_type": "code",
   "execution_count": 11,
   "metadata": {
    "collapsed": false
   },
   "outputs": [
    {
     "data": {
      "text/html": [
       "<div>\n",
       "<table border=\"1\" class=\"dataframe\">\n",
       "  <thead>\n",
       "    <tr style=\"text-align: right;\">\n",
       "      <th></th>\n",
       "      <th>Date</th>\n",
       "      <th>Open</th>\n",
       "      <th>High</th>\n",
       "      <th>Low</th>\n",
       "      <th>Close</th>\n",
       "      <th>Volume_n</th>\n",
       "      <th>Volume_m</th>\n",
       "      <th>return</th>\n",
       "      <th>PE</th>\n",
       "      <th>MA10</th>\n",
       "      <th>BIAS10</th>\n",
       "    </tr>\n",
       "  </thead>\n",
       "  <tbody>\n",
       "    <tr>\n",
       "      <th>0</th>\n",
       "      <td>1998/1/3</td>\n",
       "      <td>12.84</td>\n",
       "      <td>12.84</td>\n",
       "      <td>12.60</td>\n",
       "      <td>12.60</td>\n",
       "      <td>1624.0</td>\n",
       "      <td>62200.0</td>\n",
       "      <td>-1.81</td>\n",
       "      <td>26.76</td>\n",
       "      <td>0.000</td>\n",
       "      <td>0.000000</td>\n",
       "    </tr>\n",
       "    <tr>\n",
       "      <th>1</th>\n",
       "      <td>1998/1/5</td>\n",
       "      <td>12.60</td>\n",
       "      <td>12.70</td>\n",
       "      <td>12.44</td>\n",
       "      <td>12.44</td>\n",
       "      <td>4952.0</td>\n",
       "      <td>187464.0</td>\n",
       "      <td>-1.32</td>\n",
       "      <td>26.41</td>\n",
       "      <td>0.000</td>\n",
       "      <td>0.000000</td>\n",
       "    </tr>\n",
       "    <tr>\n",
       "      <th>2</th>\n",
       "      <td>1998/1/6</td>\n",
       "      <td>12.44</td>\n",
       "      <td>12.44</td>\n",
       "      <td>12.21</td>\n",
       "      <td>12.24</td>\n",
       "      <td>3408.0</td>\n",
       "      <td>126192.0</td>\n",
       "      <td>-1.60</td>\n",
       "      <td>25.99</td>\n",
       "      <td>0.000</td>\n",
       "      <td>0.000000</td>\n",
       "    </tr>\n",
       "    <tr>\n",
       "      <th>3</th>\n",
       "      <td>1998/1/7</td>\n",
       "      <td>12.27</td>\n",
       "      <td>12.40</td>\n",
       "      <td>12.01</td>\n",
       "      <td>12.01</td>\n",
       "      <td>3207.0</td>\n",
       "      <td>117772.0</td>\n",
       "      <td>-1.90</td>\n",
       "      <td>25.49</td>\n",
       "      <td>0.000</td>\n",
       "      <td>0.000000</td>\n",
       "    </tr>\n",
       "    <tr>\n",
       "      <th>4</th>\n",
       "      <td>1998/1/8</td>\n",
       "      <td>11.97</td>\n",
       "      <td>12.11</td>\n",
       "      <td>11.87</td>\n",
       "      <td>11.87</td>\n",
       "      <td>3072.0</td>\n",
       "      <td>110927.0</td>\n",
       "      <td>-1.11</td>\n",
       "      <td>25.21</td>\n",
       "      <td>0.000</td>\n",
       "      <td>0.000000</td>\n",
       "    </tr>\n",
       "    <tr>\n",
       "      <th>5</th>\n",
       "      <td>1998/1/9</td>\n",
       "      <td>11.87</td>\n",
       "      <td>11.91</td>\n",
       "      <td>11.61</td>\n",
       "      <td>11.77</td>\n",
       "      <td>3892.0</td>\n",
       "      <td>137463.0</td>\n",
       "      <td>-0.84</td>\n",
       "      <td>25.00</td>\n",
       "      <td>0.000</td>\n",
       "      <td>0.000000</td>\n",
       "    </tr>\n",
       "    <tr>\n",
       "      <th>6</th>\n",
       "      <td>1998/1/12</td>\n",
       "      <td>11.61</td>\n",
       "      <td>11.67</td>\n",
       "      <td>11.11</td>\n",
       "      <td>11.11</td>\n",
       "      <td>2892.0</td>\n",
       "      <td>99120.0</td>\n",
       "      <td>-5.63</td>\n",
       "      <td>23.59</td>\n",
       "      <td>0.000</td>\n",
       "      <td>0.000000</td>\n",
       "    </tr>\n",
       "    <tr>\n",
       "      <th>7</th>\n",
       "      <td>1998/1/13</td>\n",
       "      <td>11.28</td>\n",
       "      <td>11.38</td>\n",
       "      <td>11.11</td>\n",
       "      <td>11.34</td>\n",
       "      <td>3604.0</td>\n",
       "      <td>121966.0</td>\n",
       "      <td>2.09</td>\n",
       "      <td>24.08</td>\n",
       "      <td>0.000</td>\n",
       "      <td>0.000000</td>\n",
       "    </tr>\n",
       "    <tr>\n",
       "      <th>8</th>\n",
       "      <td>1998/1/14</td>\n",
       "      <td>11.51</td>\n",
       "      <td>11.64</td>\n",
       "      <td>11.38</td>\n",
       "      <td>11.58</td>\n",
       "      <td>2606.0</td>\n",
       "      <td>90755.0</td>\n",
       "      <td>2.05</td>\n",
       "      <td>24.58</td>\n",
       "      <td>0.000</td>\n",
       "      <td>0.000000</td>\n",
       "    </tr>\n",
       "    <tr>\n",
       "      <th>9</th>\n",
       "      <td>1998/1/15</td>\n",
       "      <td>11.64</td>\n",
       "      <td>11.64</td>\n",
       "      <td>11.28</td>\n",
       "      <td>11.28</td>\n",
       "      <td>2899.0</td>\n",
       "      <td>100153.0</td>\n",
       "      <td>-2.58</td>\n",
       "      <td>23.94</td>\n",
       "      <td>11.824</td>\n",
       "      <td>0.000000</td>\n",
       "    </tr>\n",
       "    <tr>\n",
       "      <th>10</th>\n",
       "      <td>1998/1/16</td>\n",
       "      <td>11.28</td>\n",
       "      <td>11.44</td>\n",
       "      <td>11.21</td>\n",
       "      <td>11.28</td>\n",
       "      <td>3065.0</td>\n",
       "      <td>104470.0</td>\n",
       "      <td>0.00</td>\n",
       "      <td>23.94</td>\n",
       "      <td>11.692</td>\n",
       "      <td>-4.600812</td>\n",
       "    </tr>\n",
       "    <tr>\n",
       "      <th>11</th>\n",
       "      <td>1998/1/17</td>\n",
       "      <td>11.31</td>\n",
       "      <td>11.44</td>\n",
       "      <td>11.28</td>\n",
       "      <td>11.28</td>\n",
       "      <td>1522.0</td>\n",
       "      <td>51980.0</td>\n",
       "      <td>0.00</td>\n",
       "      <td>23.94</td>\n",
       "      <td>11.576</td>\n",
       "      <td>-3.523777</td>\n",
       "    </tr>\n",
       "    <tr>\n",
       "      <th>12</th>\n",
       "      <td>1998/1/19</td>\n",
       "      <td>11.41</td>\n",
       "      <td>11.48</td>\n",
       "      <td>11.31</td>\n",
       "      <td>11.31</td>\n",
       "      <td>2204.0</td>\n",
       "      <td>75370.0</td>\n",
       "      <td>0.29</td>\n",
       "      <td>24.01</td>\n",
       "      <td>11.483</td>\n",
       "      <td>-2.557015</td>\n",
       "    </tr>\n",
       "    <tr>\n",
       "      <th>13</th>\n",
       "      <td>1998/1/20</td>\n",
       "      <td>11.34</td>\n",
       "      <td>11.48</td>\n",
       "      <td>11.28</td>\n",
       "      <td>11.38</td>\n",
       "      <td>2542.0</td>\n",
       "      <td>86929.0</td>\n",
       "      <td>0.59</td>\n",
       "      <td>24.15</td>\n",
       "      <td>11.420</td>\n",
       "      <td>-1.506575</td>\n",
       "    </tr>\n",
       "    <tr>\n",
       "      <th>14</th>\n",
       "      <td>1998/1/21</td>\n",
       "      <td>11.41</td>\n",
       "      <td>11.48</td>\n",
       "      <td>11.34</td>\n",
       "      <td>11.48</td>\n",
       "      <td>3390.0</td>\n",
       "      <td>116624.0</td>\n",
       "      <td>0.87</td>\n",
       "      <td>24.37</td>\n",
       "      <td>11.381</td>\n",
       "      <td>-0.350263</td>\n",
       "    </tr>\n",
       "    <tr>\n",
       "      <th>15</th>\n",
       "      <td>1998/1/22</td>\n",
       "      <td>11.54</td>\n",
       "      <td>11.58</td>\n",
       "      <td>11.28</td>\n",
       "      <td>11.34</td>\n",
       "      <td>3479.0</td>\n",
       "      <td>119498.0</td>\n",
       "      <td>-1.16</td>\n",
       "      <td>24.08</td>\n",
       "      <td>11.338</td>\n",
       "      <td>0.869871</td>\n",
       "    </tr>\n",
       "    <tr>\n",
       "      <th>16</th>\n",
       "      <td>1998/2/2</td>\n",
       "      <td>11.51</td>\n",
       "      <td>11.71</td>\n",
       "      <td>11.44</td>\n",
       "      <td>11.67</td>\n",
       "      <td>4841.0</td>\n",
       "      <td>168455.0</td>\n",
       "      <td>2.92</td>\n",
       "      <td>24.79</td>\n",
       "      <td>11.394</td>\n",
       "      <td>0.017640</td>\n",
       "    </tr>\n",
       "    <tr>\n",
       "      <th>17</th>\n",
       "      <td>1998/2/3</td>\n",
       "      <td>11.77</td>\n",
       "      <td>11.81</td>\n",
       "      <td>11.44</td>\n",
       "      <td>11.48</td>\n",
       "      <td>4826.0</td>\n",
       "      <td>168190.0</td>\n",
       "      <td>-1.70</td>\n",
       "      <td>24.37</td>\n",
       "      <td>11.408</td>\n",
       "      <td>2.422328</td>\n",
       "    </tr>\n",
       "    <tr>\n",
       "      <th>18</th>\n",
       "      <td>1998/2/4</td>\n",
       "      <td>11.48</td>\n",
       "      <td>11.61</td>\n",
       "      <td>11.48</td>\n",
       "      <td>11.54</td>\n",
       "      <td>3080.0</td>\n",
       "      <td>107126.0</td>\n",
       "      <td>0.58</td>\n",
       "      <td>24.51</td>\n",
       "      <td>11.404</td>\n",
       "      <td>0.631136</td>\n",
       "    </tr>\n",
       "    <tr>\n",
       "      <th>19</th>\n",
       "      <td>1998/2/5</td>\n",
       "      <td>11.54</td>\n",
       "      <td>11.54</td>\n",
       "      <td>11.31</td>\n",
       "      <td>11.38</td>\n",
       "      <td>2671.0</td>\n",
       "      <td>91840.0</td>\n",
       "      <td>-1.44</td>\n",
       "      <td>24.15</td>\n",
       "      <td>11.414</td>\n",
       "      <td>1.192564</td>\n",
       "    </tr>\n",
       "    <tr>\n",
       "      <th>20</th>\n",
       "      <td>1998/2/6</td>\n",
       "      <td>11.41</td>\n",
       "      <td>11.44</td>\n",
       "      <td>11.28</td>\n",
       "      <td>11.28</td>\n",
       "      <td>3389.0</td>\n",
       "      <td>116100.0</td>\n",
       "      <td>-0.87</td>\n",
       "      <td>23.94</td>\n",
       "      <td>11.414</td>\n",
       "      <td>-0.297880</td>\n",
       "    </tr>\n",
       "    <tr>\n",
       "      <th>21</th>\n",
       "      <td>1998/2/7</td>\n",
       "      <td>11.28</td>\n",
       "      <td>11.34</td>\n",
       "      <td>11.21</td>\n",
       "      <td>11.28</td>\n",
       "      <td>2699.0</td>\n",
       "      <td>91807.0</td>\n",
       "      <td>0.00</td>\n",
       "      <td>23.94</td>\n",
       "      <td>11.414</td>\n",
       "      <td>-1.173997</td>\n",
       "    </tr>\n",
       "    <tr>\n",
       "      <th>22</th>\n",
       "      <td>1998/2/9</td>\n",
       "      <td>11.28</td>\n",
       "      <td>11.54</td>\n",
       "      <td>11.28</td>\n",
       "      <td>11.31</td>\n",
       "      <td>3572.0</td>\n",
       "      <td>122509.0</td>\n",
       "      <td>0.29</td>\n",
       "      <td>24.01</td>\n",
       "      <td>11.414</td>\n",
       "      <td>-1.173997</td>\n",
       "    </tr>\n",
       "    <tr>\n",
       "      <th>23</th>\n",
       "      <td>1998/2/10</td>\n",
       "      <td>11.31</td>\n",
       "      <td>11.51</td>\n",
       "      <td>11.28</td>\n",
       "      <td>11.34</td>\n",
       "      <td>3097.0</td>\n",
       "      <td>106095.0</td>\n",
       "      <td>0.29</td>\n",
       "      <td>24.08</td>\n",
       "      <td>11.410</td>\n",
       "      <td>-0.911162</td>\n",
       "    </tr>\n",
       "    <tr>\n",
       "      <th>24</th>\n",
       "      <td>1998/2/11</td>\n",
       "      <td>11.34</td>\n",
       "      <td>11.34</td>\n",
       "      <td>11.18</td>\n",
       "      <td>11.28</td>\n",
       "      <td>3302.0</td>\n",
       "      <td>112273.0</td>\n",
       "      <td>-0.58</td>\n",
       "      <td>23.94</td>\n",
       "      <td>11.390</td>\n",
       "      <td>-0.613497</td>\n",
       "    </tr>\n",
       "    <tr>\n",
       "      <th>25</th>\n",
       "      <td>1998/2/12</td>\n",
       "      <td>11.28</td>\n",
       "      <td>11.28</td>\n",
       "      <td>11.18</td>\n",
       "      <td>11.18</td>\n",
       "      <td>3157.0</td>\n",
       "      <td>106885.0</td>\n",
       "      <td>-0.88</td>\n",
       "      <td>23.73</td>\n",
       "      <td>11.374</td>\n",
       "      <td>-0.965759</td>\n",
       "    </tr>\n",
       "    <tr>\n",
       "      <th>26</th>\n",
       "      <td>1998/2/13</td>\n",
       "      <td>11.21</td>\n",
       "      <td>11.28</td>\n",
       "      <td>11.18</td>\n",
       "      <td>11.18</td>\n",
       "      <td>3839.0</td>\n",
       "      <td>129928.0</td>\n",
       "      <td>0.00</td>\n",
       "      <td>23.73</td>\n",
       "      <td>11.325</td>\n",
       "      <td>-1.705644</td>\n",
       "    </tr>\n",
       "    <tr>\n",
       "      <th>27</th>\n",
       "      <td>1998/2/16</td>\n",
       "      <td>11.21</td>\n",
       "      <td>11.24</td>\n",
       "      <td>11.14</td>\n",
       "      <td>11.18</td>\n",
       "      <td>2912.0</td>\n",
       "      <td>98353.0</td>\n",
       "      <td>0.00</td>\n",
       "      <td>23.73</td>\n",
       "      <td>11.295</td>\n",
       "      <td>-1.280353</td>\n",
       "    </tr>\n",
       "    <tr>\n",
       "      <th>28</th>\n",
       "      <td>1998/2/17</td>\n",
       "      <td>11.11</td>\n",
       "      <td>11.14</td>\n",
       "      <td>11.04</td>\n",
       "      <td>11.08</td>\n",
       "      <td>2143.0</td>\n",
       "      <td>71589.0</td>\n",
       "      <td>-0.89</td>\n",
       "      <td>23.52</td>\n",
       "      <td>11.249</td>\n",
       "      <td>-1.018150</td>\n",
       "    </tr>\n",
       "    <tr>\n",
       "      <th>29</th>\n",
       "      <td>1998/2/18</td>\n",
       "      <td>11.11</td>\n",
       "      <td>11.28</td>\n",
       "      <td>11.11</td>\n",
       "      <td>11.14</td>\n",
       "      <td>3562.0</td>\n",
       "      <td>120098.0</td>\n",
       "      <td>0.60</td>\n",
       "      <td>23.66</td>\n",
       "      <td>11.225</td>\n",
       "      <td>-1.502356</td>\n",
       "    </tr>\n",
       "    <tr>\n",
       "      <th>30</th>\n",
       "      <td>1998/2/19</td>\n",
       "      <td>11.14</td>\n",
       "      <td>11.38</td>\n",
       "      <td>11.14</td>\n",
       "      <td>11.34</td>\n",
       "      <td>4385.0</td>\n",
       "      <td>148742.0</td>\n",
       "      <td>1.79</td>\n",
       "      <td>24.08</td>\n",
       "      <td>11.231</td>\n",
       "      <td>-0.757238</td>\n",
       "    </tr>\n",
       "    <tr>\n",
       "      <th>31</th>\n",
       "      <td>1998/2/20</td>\n",
       "      <td>11.38</td>\n",
       "      <td>11.48</td>\n",
       "      <td>11.28</td>\n",
       "      <td>11.44</td>\n",
       "      <td>6595.0</td>\n",
       "      <td>226263.0</td>\n",
       "      <td>0.88</td>\n",
       "      <td>24.30</td>\n",
       "      <td>11.247</td>\n",
       "      <td>0.970528</td>\n",
       "    </tr>\n",
       "    <tr>\n",
       "      <th>32</th>\n",
       "      <td>1998/2/21</td>\n",
       "      <td>11.51</td>\n",
       "      <td>11.61</td>\n",
       "      <td>11.44</td>\n",
       "      <td>11.48</td>\n",
       "      <td>6218.0</td>\n",
       "      <td>215971.0</td>\n",
       "      <td>0.29</td>\n",
       "      <td>24.37</td>\n",
       "      <td>11.264</td>\n",
       "      <td>1.716013</td>\n",
       "    </tr>\n",
       "    <tr>\n",
       "      <th>33</th>\n",
       "      <td>1998/2/23</td>\n",
       "      <td>11.87</td>\n",
       "      <td>12.27</td>\n",
       "      <td>11.87</td>\n",
       "      <td>12.27</td>\n",
       "      <td>21317.0</td>\n",
       "      <td>784554.0</td>\n",
       "      <td>6.94</td>\n",
       "      <td>26.06</td>\n",
       "      <td>11.357</td>\n",
       "      <td>1.917614</td>\n",
       "    </tr>\n",
       "    <tr>\n",
       "      <th>34</th>\n",
       "      <td>1998/2/24</td>\n",
       "      <td>12.60</td>\n",
       "      <td>12.60</td>\n",
       "      <td>11.87</td>\n",
       "      <td>12.01</td>\n",
       "      <td>18791.0</td>\n",
       "      <td>697078.0</td>\n",
       "      <td>-2.16</td>\n",
       "      <td>25.49</td>\n",
       "      <td>11.430</td>\n",
       "      <td>8.039095</td>\n",
       "    </tr>\n",
       "    <tr>\n",
       "      <th>35</th>\n",
       "      <td>1998/2/25</td>\n",
       "      <td>12.04</td>\n",
       "      <td>12.11</td>\n",
       "      <td>11.77</td>\n",
       "      <td>11.77</td>\n",
       "      <td>5755.0</td>\n",
       "      <td>206859.0</td>\n",
       "      <td>-1.93</td>\n",
       "      <td>25.00</td>\n",
       "      <td>11.489</td>\n",
       "      <td>5.074366</td>\n",
       "    </tr>\n",
       "    <tr>\n",
       "      <th>36</th>\n",
       "      <td>1998/2/26</td>\n",
       "      <td>11.81</td>\n",
       "      <td>12.11</td>\n",
       "      <td>11.77</td>\n",
       "      <td>12.11</td>\n",
       "      <td>6394.0</td>\n",
       "      <td>228875.0</td>\n",
       "      <td>2.82</td>\n",
       "      <td>25.70</td>\n",
       "      <td>11.582</td>\n",
       "      <td>2.445818</td>\n",
       "    </tr>\n",
       "    <tr>\n",
       "      <th>37</th>\n",
       "      <td>1998/2/27</td>\n",
       "      <td>12.17</td>\n",
       "      <td>12.24</td>\n",
       "      <td>11.97</td>\n",
       "      <td>12.01</td>\n",
       "      <td>6345.0</td>\n",
       "      <td>231897.0</td>\n",
       "      <td>-0.82</td>\n",
       "      <td>25.49</td>\n",
       "      <td>11.665</td>\n",
       "      <td>4.558798</td>\n",
       "    </tr>\n",
       "    <tr>\n",
       "      <th>38</th>\n",
       "      <td>1998/3/2</td>\n",
       "      <td>12.11</td>\n",
       "      <td>12.74</td>\n",
       "      <td>12.11</td>\n",
       "      <td>12.50</td>\n",
       "      <td>15338.0</td>\n",
       "      <td>575419.0</td>\n",
       "      <td>4.14</td>\n",
       "      <td>26.55</td>\n",
       "      <td>11.807</td>\n",
       "      <td>2.957565</td>\n",
       "    </tr>\n",
       "    <tr>\n",
       "      <th>39</th>\n",
       "      <td>1998/3/3</td>\n",
       "      <td>12.60</td>\n",
       "      <td>12.70</td>\n",
       "      <td>12.27</td>\n",
       "      <td>12.44</td>\n",
       "      <td>9548.0</td>\n",
       "      <td>359597.0</td>\n",
       "      <td>-0.53</td>\n",
       "      <td>26.41</td>\n",
       "      <td>11.937</td>\n",
       "      <td>5.869400</td>\n",
       "    </tr>\n",
       "    <tr>\n",
       "      <th>40</th>\n",
       "      <td>1998/3/4</td>\n",
       "      <td>12.57</td>\n",
       "      <td>12.64</td>\n",
       "      <td>12.27</td>\n",
       "      <td>12.37</td>\n",
       "      <td>8219.0</td>\n",
       "      <td>310000.0</td>\n",
       "      <td>-0.53</td>\n",
       "      <td>26.27</td>\n",
       "      <td>12.040</td>\n",
       "      <td>4.213789</td>\n",
       "    </tr>\n",
       "    <tr>\n",
       "      <th>41</th>\n",
       "      <td>1998/3/5</td>\n",
       "      <td>12.44</td>\n",
       "      <td>12.44</td>\n",
       "      <td>12.04</td>\n",
       "      <td>12.07</td>\n",
       "      <td>4539.0</td>\n",
       "      <td>166743.0</td>\n",
       "      <td>-2.41</td>\n",
       "      <td>25.63</td>\n",
       "      <td>12.103</td>\n",
       "      <td>2.740864</td>\n",
       "    </tr>\n",
       "    <tr>\n",
       "      <th>42</th>\n",
       "      <td>1998/3/6</td>\n",
       "      <td>11.94</td>\n",
       "      <td>12.17</td>\n",
       "      <td>11.94</td>\n",
       "      <td>12.11</td>\n",
       "      <td>3176.0</td>\n",
       "      <td>115682.0</td>\n",
       "      <td>0.27</td>\n",
       "      <td>25.70</td>\n",
       "      <td>12.166</td>\n",
       "      <td>-0.272660</td>\n",
       "    </tr>\n",
       "    <tr>\n",
       "      <th>43</th>\n",
       "      <td>1998/3/7</td>\n",
       "      <td>12.24</td>\n",
       "      <td>12.34</td>\n",
       "      <td>12.17</td>\n",
       "      <td>12.34</td>\n",
       "      <td>3854.0</td>\n",
       "      <td>142167.0</td>\n",
       "      <td>1.92</td>\n",
       "      <td>26.20</td>\n",
       "      <td>12.173</td>\n",
       "      <td>-0.460299</td>\n",
       "    </tr>\n",
       "    <tr>\n",
       "      <th>44</th>\n",
       "      <td>1998/3/9</td>\n",
       "      <td>12.50</td>\n",
       "      <td>12.94</td>\n",
       "      <td>12.44</td>\n",
       "      <td>12.84</td>\n",
       "      <td>17973.0</td>\n",
       "      <td>691685.0</td>\n",
       "      <td>4.03</td>\n",
       "      <td>27.25</td>\n",
       "      <td>12.256</td>\n",
       "      <td>1.371889</td>\n",
       "    </tr>\n",
       "    <tr>\n",
       "      <th>45</th>\n",
       "      <td>1998/3/10</td>\n",
       "      <td>12.90</td>\n",
       "      <td>13.00</td>\n",
       "      <td>12.47</td>\n",
       "      <td>12.60</td>\n",
       "      <td>9395.0</td>\n",
       "      <td>360035.0</td>\n",
       "      <td>-1.81</td>\n",
       "      <td>26.76</td>\n",
       "      <td>12.339</td>\n",
       "      <td>4.765013</td>\n",
       "    </tr>\n",
       "    <tr>\n",
       "      <th>46</th>\n",
       "      <td>1998/3/11</td>\n",
       "      <td>12.74</td>\n",
       "      <td>12.77</td>\n",
       "      <td>12.60</td>\n",
       "      <td>12.64</td>\n",
       "      <td>8340.0</td>\n",
       "      <td>319058.0</td>\n",
       "      <td>0.26</td>\n",
       "      <td>26.83</td>\n",
       "      <td>12.392</td>\n",
       "      <td>2.115244</td>\n",
       "    </tr>\n",
       "    <tr>\n",
       "      <th>47</th>\n",
       "      <td>1998/3/12</td>\n",
       "      <td>12.67</td>\n",
       "      <td>12.94</td>\n",
       "      <td>12.54</td>\n",
       "      <td>12.77</td>\n",
       "      <td>12203.0</td>\n",
       "      <td>468930.0</td>\n",
       "      <td>1.05</td>\n",
       "      <td>27.11</td>\n",
       "      <td>12.468</td>\n",
       "      <td>2.001291</td>\n",
       "    </tr>\n",
       "    <tr>\n",
       "      <th>48</th>\n",
       "      <td>1998/3/13</td>\n",
       "      <td>12.94</td>\n",
       "      <td>12.94</td>\n",
       "      <td>12.67</td>\n",
       "      <td>12.70</td>\n",
       "      <td>10650.0</td>\n",
       "      <td>410684.0</td>\n",
       "      <td>-0.52</td>\n",
       "      <td>26.97</td>\n",
       "      <td>12.488</td>\n",
       "      <td>2.422201</td>\n",
       "    </tr>\n",
       "    <tr>\n",
       "      <th>49</th>\n",
       "      <td>1998/3/16</td>\n",
       "      <td>12.77</td>\n",
       "      <td>12.77</td>\n",
       "      <td>12.47</td>\n",
       "      <td>12.47</td>\n",
       "      <td>4915.0</td>\n",
       "      <td>187164.0</td>\n",
       "      <td>-1.83</td>\n",
       "      <td>26.48</td>\n",
       "      <td>12.491</td>\n",
       "      <td>1.697630</td>\n",
       "    </tr>\n",
       "  </tbody>\n",
       "</table>\n",
       "</div>"
      ],
      "text/plain": [
       "         Date   Open   High    Low  Close  Volume_n  Volume_m  return     PE  \\\n",
       "0    1998/1/3  12.84  12.84  12.60  12.60    1624.0   62200.0   -1.81  26.76   \n",
       "1    1998/1/5  12.60  12.70  12.44  12.44    4952.0  187464.0   -1.32  26.41   \n",
       "2    1998/1/6  12.44  12.44  12.21  12.24    3408.0  126192.0   -1.60  25.99   \n",
       "3    1998/1/7  12.27  12.40  12.01  12.01    3207.0  117772.0   -1.90  25.49   \n",
       "4    1998/1/8  11.97  12.11  11.87  11.87    3072.0  110927.0   -1.11  25.21   \n",
       "5    1998/1/9  11.87  11.91  11.61  11.77    3892.0  137463.0   -0.84  25.00   \n",
       "6   1998/1/12  11.61  11.67  11.11  11.11    2892.0   99120.0   -5.63  23.59   \n",
       "7   1998/1/13  11.28  11.38  11.11  11.34    3604.0  121966.0    2.09  24.08   \n",
       "8   1998/1/14  11.51  11.64  11.38  11.58    2606.0   90755.0    2.05  24.58   \n",
       "9   1998/1/15  11.64  11.64  11.28  11.28    2899.0  100153.0   -2.58  23.94   \n",
       "10  1998/1/16  11.28  11.44  11.21  11.28    3065.0  104470.0    0.00  23.94   \n",
       "11  1998/1/17  11.31  11.44  11.28  11.28    1522.0   51980.0    0.00  23.94   \n",
       "12  1998/1/19  11.41  11.48  11.31  11.31    2204.0   75370.0    0.29  24.01   \n",
       "13  1998/1/20  11.34  11.48  11.28  11.38    2542.0   86929.0    0.59  24.15   \n",
       "14  1998/1/21  11.41  11.48  11.34  11.48    3390.0  116624.0    0.87  24.37   \n",
       "15  1998/1/22  11.54  11.58  11.28  11.34    3479.0  119498.0   -1.16  24.08   \n",
       "16   1998/2/2  11.51  11.71  11.44  11.67    4841.0  168455.0    2.92  24.79   \n",
       "17   1998/2/3  11.77  11.81  11.44  11.48    4826.0  168190.0   -1.70  24.37   \n",
       "18   1998/2/4  11.48  11.61  11.48  11.54    3080.0  107126.0    0.58  24.51   \n",
       "19   1998/2/5  11.54  11.54  11.31  11.38    2671.0   91840.0   -1.44  24.15   \n",
       "20   1998/2/6  11.41  11.44  11.28  11.28    3389.0  116100.0   -0.87  23.94   \n",
       "21   1998/2/7  11.28  11.34  11.21  11.28    2699.0   91807.0    0.00  23.94   \n",
       "22   1998/2/9  11.28  11.54  11.28  11.31    3572.0  122509.0    0.29  24.01   \n",
       "23  1998/2/10  11.31  11.51  11.28  11.34    3097.0  106095.0    0.29  24.08   \n",
       "24  1998/2/11  11.34  11.34  11.18  11.28    3302.0  112273.0   -0.58  23.94   \n",
       "25  1998/2/12  11.28  11.28  11.18  11.18    3157.0  106885.0   -0.88  23.73   \n",
       "26  1998/2/13  11.21  11.28  11.18  11.18    3839.0  129928.0    0.00  23.73   \n",
       "27  1998/2/16  11.21  11.24  11.14  11.18    2912.0   98353.0    0.00  23.73   \n",
       "28  1998/2/17  11.11  11.14  11.04  11.08    2143.0   71589.0   -0.89  23.52   \n",
       "29  1998/2/18  11.11  11.28  11.11  11.14    3562.0  120098.0    0.60  23.66   \n",
       "30  1998/2/19  11.14  11.38  11.14  11.34    4385.0  148742.0    1.79  24.08   \n",
       "31  1998/2/20  11.38  11.48  11.28  11.44    6595.0  226263.0    0.88  24.30   \n",
       "32  1998/2/21  11.51  11.61  11.44  11.48    6218.0  215971.0    0.29  24.37   \n",
       "33  1998/2/23  11.87  12.27  11.87  12.27   21317.0  784554.0    6.94  26.06   \n",
       "34  1998/2/24  12.60  12.60  11.87  12.01   18791.0  697078.0   -2.16  25.49   \n",
       "35  1998/2/25  12.04  12.11  11.77  11.77    5755.0  206859.0   -1.93  25.00   \n",
       "36  1998/2/26  11.81  12.11  11.77  12.11    6394.0  228875.0    2.82  25.70   \n",
       "37  1998/2/27  12.17  12.24  11.97  12.01    6345.0  231897.0   -0.82  25.49   \n",
       "38   1998/3/2  12.11  12.74  12.11  12.50   15338.0  575419.0    4.14  26.55   \n",
       "39   1998/3/3  12.60  12.70  12.27  12.44    9548.0  359597.0   -0.53  26.41   \n",
       "40   1998/3/4  12.57  12.64  12.27  12.37    8219.0  310000.0   -0.53  26.27   \n",
       "41   1998/3/5  12.44  12.44  12.04  12.07    4539.0  166743.0   -2.41  25.63   \n",
       "42   1998/3/6  11.94  12.17  11.94  12.11    3176.0  115682.0    0.27  25.70   \n",
       "43   1998/3/7  12.24  12.34  12.17  12.34    3854.0  142167.0    1.92  26.20   \n",
       "44   1998/3/9  12.50  12.94  12.44  12.84   17973.0  691685.0    4.03  27.25   \n",
       "45  1998/3/10  12.90  13.00  12.47  12.60    9395.0  360035.0   -1.81  26.76   \n",
       "46  1998/3/11  12.74  12.77  12.60  12.64    8340.0  319058.0    0.26  26.83   \n",
       "47  1998/3/12  12.67  12.94  12.54  12.77   12203.0  468930.0    1.05  27.11   \n",
       "48  1998/3/13  12.94  12.94  12.67  12.70   10650.0  410684.0   -0.52  26.97   \n",
       "49  1998/3/16  12.77  12.77  12.47  12.47    4915.0  187164.0   -1.83  26.48   \n",
       "\n",
       "      MA10    BIAS10  \n",
       "0    0.000  0.000000  \n",
       "1    0.000  0.000000  \n",
       "2    0.000  0.000000  \n",
       "3    0.000  0.000000  \n",
       "4    0.000  0.000000  \n",
       "5    0.000  0.000000  \n",
       "6    0.000  0.000000  \n",
       "7    0.000  0.000000  \n",
       "8    0.000  0.000000  \n",
       "9   11.824  0.000000  \n",
       "10  11.692 -4.600812  \n",
       "11  11.576 -3.523777  \n",
       "12  11.483 -2.557015  \n",
       "13  11.420 -1.506575  \n",
       "14  11.381 -0.350263  \n",
       "15  11.338  0.869871  \n",
       "16  11.394  0.017640  \n",
       "17  11.408  2.422328  \n",
       "18  11.404  0.631136  \n",
       "19  11.414  1.192564  \n",
       "20  11.414 -0.297880  \n",
       "21  11.414 -1.173997  \n",
       "22  11.414 -1.173997  \n",
       "23  11.410 -0.911162  \n",
       "24  11.390 -0.613497  \n",
       "25  11.374 -0.965759  \n",
       "26  11.325 -1.705644  \n",
       "27  11.295 -1.280353  \n",
       "28  11.249 -1.018150  \n",
       "29  11.225 -1.502356  \n",
       "30  11.231 -0.757238  \n",
       "31  11.247  0.970528  \n",
       "32  11.264  1.716013  \n",
       "33  11.357  1.917614  \n",
       "34  11.430  8.039095  \n",
       "35  11.489  5.074366  \n",
       "36  11.582  2.445818  \n",
       "37  11.665  4.558798  \n",
       "38  11.807  2.957565  \n",
       "39  11.937  5.869400  \n",
       "40  12.040  4.213789  \n",
       "41  12.103  2.740864  \n",
       "42  12.166 -0.272660  \n",
       "43  12.173 -0.460299  \n",
       "44  12.256  1.371889  \n",
       "45  12.339  4.765013  \n",
       "46  12.392  2.115244  \n",
       "47  12.468  2.001291  \n",
       "48  12.488  2.422201  \n",
       "49  12.491  1.697630  "
      ]
     },
     "execution_count": 11,
     "metadata": {},
     "output_type": "execute_result"
    }
   ],
   "source": [
    "data.head(50)"
   ]
  },
  {
   "cell_type": "code",
   "execution_count": 12,
   "metadata": {
    "collapsed": false
   },
   "outputs": [],
   "source": [
    "for i in range(24):\n",
    "    MA(data,1+i)\n",
    "    BIAS_lag(data,1+i)"
   ]
  },
  {
   "cell_type": "code",
   "execution_count": 13,
   "metadata": {
    "collapsed": false
   },
   "outputs": [
    {
     "name": "stdout",
     "output_type": "stream",
     "text": [
      "<class 'pandas.core.frame.DataFrame'>\n",
      "RangeIndex: 4621 entries, 0 to 4620\n",
      "Data columns (total 57 columns):\n",
      "Date        4621 non-null object\n",
      "Open        4620 non-null float64\n",
      "High        4620 non-null float64\n",
      "Low         4620 non-null float64\n",
      "Close       4620 non-null float64\n",
      "Volume_n    4620 non-null float64\n",
      "Volume_m    4620 non-null float64\n",
      "return      4620 non-null float64\n",
      "PE          4620 non-null float64\n",
      "MA10        4621 non-null float64\n",
      "BIAS10      4621 non-null float64\n",
      "MA1         4620 non-null float64\n",
      "BIAS1       4621 non-null float64\n",
      "MA2         4621 non-null float64\n",
      "BIAS2       4621 non-null float64\n",
      "MA3         4621 non-null float64\n",
      "BIAS3       4621 non-null float64\n",
      "MA4         4621 non-null float64\n",
      "BIAS4       4621 non-null float64\n",
      "MA5         4621 non-null float64\n",
      "BIAS5       4621 non-null float64\n",
      "MA6         4621 non-null float64\n",
      "BIAS6       4621 non-null float64\n",
      "MA7         4621 non-null float64\n",
      "BIAS7       4621 non-null float64\n",
      "MA8         4621 non-null float64\n",
      "BIAS8       4621 non-null float64\n",
      "MA9         4621 non-null float64\n",
      "BIAS9       4621 non-null float64\n",
      "MA11        4621 non-null float64\n",
      "BIAS11      4621 non-null float64\n",
      "MA12        4621 non-null float64\n",
      "BIAS12      4621 non-null float64\n",
      "MA13        4621 non-null float64\n",
      "BIAS13      4621 non-null float64\n",
      "MA14        4621 non-null float64\n",
      "BIAS14      4621 non-null float64\n",
      "MA15        4621 non-null float64\n",
      "BIAS15      4621 non-null float64\n",
      "MA16        4621 non-null float64\n",
      "BIAS16      4621 non-null float64\n",
      "MA17        4621 non-null float64\n",
      "BIAS17      4621 non-null float64\n",
      "MA18        4621 non-null float64\n",
      "BIAS18      4621 non-null float64\n",
      "MA19        4621 non-null float64\n",
      "BIAS19      4621 non-null float64\n",
      "MA20        4621 non-null float64\n",
      "BIAS20      4621 non-null float64\n",
      "MA21        4621 non-null float64\n",
      "BIAS21      4621 non-null float64\n",
      "MA22        4621 non-null float64\n",
      "BIAS22      4621 non-null float64\n",
      "MA23        4621 non-null float64\n",
      "BIAS23      4621 non-null float64\n",
      "MA24        4621 non-null float64\n",
      "BIAS24      4621 non-null float64\n",
      "dtypes: float64(56), object(1)\n",
      "memory usage: 2.0+ MB\n"
     ]
    }
   ],
   "source": [
    "data.info()"
   ]
  },
  {
   "cell_type": "code",
   "execution_count": 15,
   "metadata": {
    "collapsed": false
   },
   "outputs": [
    {
     "data": {
      "text/html": [
       "<div>\n",
       "<table border=\"1\" class=\"dataframe\">\n",
       "  <thead>\n",
       "    <tr style=\"text-align: right;\">\n",
       "      <th></th>\n",
       "      <th>Date</th>\n",
       "      <th>Open</th>\n",
       "      <th>High</th>\n",
       "      <th>Low</th>\n",
       "      <th>Close</th>\n",
       "      <th>Volume_n</th>\n",
       "      <th>Volume_m</th>\n",
       "      <th>return</th>\n",
       "      <th>PE</th>\n",
       "      <th>MA10</th>\n",
       "      <th>...</th>\n",
       "      <th>MA20</th>\n",
       "      <th>BIAS20</th>\n",
       "      <th>MA21</th>\n",
       "      <th>BIAS21</th>\n",
       "      <th>MA22</th>\n",
       "      <th>BIAS22</th>\n",
       "      <th>MA23</th>\n",
       "      <th>BIAS23</th>\n",
       "      <th>MA24</th>\n",
       "      <th>BIAS24</th>\n",
       "    </tr>\n",
       "  </thead>\n",
       "  <tbody>\n",
       "    <tr>\n",
       "      <th>4618</th>\n",
       "      <td>2016/5/24</td>\n",
       "      <td>29.0</td>\n",
       "      <td>29.15</td>\n",
       "      <td>28.8</td>\n",
       "      <td>28.90</td>\n",
       "      <td>4966.0</td>\n",
       "      <td>143707.0</td>\n",
       "      <td>0.35</td>\n",
       "      <td>20.50</td>\n",
       "      <td>28.815000</td>\n",
       "      <td>...</td>\n",
       "      <td>30.280000</td>\n",
       "      <td>-5.558288</td>\n",
       "      <td>30.419048</td>\n",
       "      <td>-5.940902</td>\n",
       "      <td>30.540909</td>\n",
       "      <td>-6.341463</td>\n",
       "      <td>30.669565</td>\n",
       "      <td>-6.618735</td>\n",
       "      <td>30.760417</td>\n",
       "      <td>-6.952951</td>\n",
       "    </tr>\n",
       "    <tr>\n",
       "      <th>4619</th>\n",
       "      <td>2016/5/25</td>\n",
       "      <td>29.5</td>\n",
       "      <td>29.50</td>\n",
       "      <td>28.9</td>\n",
       "      <td>29.25</td>\n",
       "      <td>5094.0</td>\n",
       "      <td>148848.0</td>\n",
       "      <td>1.21</td>\n",
       "      <td>20.74</td>\n",
       "      <td>28.775000</td>\n",
       "      <td>...</td>\n",
       "      <td>30.095000</td>\n",
       "      <td>-4.557464</td>\n",
       "      <td>30.230952</td>\n",
       "      <td>-4.993738</td>\n",
       "      <td>30.365909</td>\n",
       "      <td>-5.372823</td>\n",
       "      <td>30.484783</td>\n",
       "      <td>-5.769776</td>\n",
       "      <td>30.610417</td>\n",
       "      <td>-6.048087</td>\n",
       "    </tr>\n",
       "    <tr>\n",
       "      <th>4620</th>\n",
       "      <td>2016/5/26</td>\n",
       "      <td>NaN</td>\n",
       "      <td>NaN</td>\n",
       "      <td>NaN</td>\n",
       "      <td>NaN</td>\n",
       "      <td>NaN</td>\n",
       "      <td>NaN</td>\n",
       "      <td>NaN</td>\n",
       "      <td>NaN</td>\n",
       "      <td>28.672222</td>\n",
       "      <td>...</td>\n",
       "      <td>29.942105</td>\n",
       "      <td>-2.807775</td>\n",
       "      <td>30.095000</td>\n",
       "      <td>-3.244861</td>\n",
       "      <td>30.230952</td>\n",
       "      <td>-3.674875</td>\n",
       "      <td>30.365909</td>\n",
       "      <td>-4.050488</td>\n",
       "      <td>30.484783</td>\n",
       "      <td>-4.444293</td>\n",
       "    </tr>\n",
       "  </tbody>\n",
       "</table>\n",
       "<p>3 rows × 57 columns</p>\n",
       "</div>"
      ],
      "text/plain": [
       "           Date  Open   High   Low  Close  Volume_n  Volume_m  return     PE  \\\n",
       "4618  2016/5/24  29.0  29.15  28.8  28.90    4966.0  143707.0    0.35  20.50   \n",
       "4619  2016/5/25  29.5  29.50  28.9  29.25    5094.0  148848.0    1.21  20.74   \n",
       "4620  2016/5/26   NaN    NaN   NaN    NaN       NaN       NaN     NaN    NaN   \n",
       "\n",
       "           MA10    ...          MA20    BIAS20       MA21    BIAS21  \\\n",
       "4618  28.815000    ...     30.280000 -5.558288  30.419048 -5.940902   \n",
       "4619  28.775000    ...     30.095000 -4.557464  30.230952 -4.993738   \n",
       "4620  28.672222    ...     29.942105 -2.807775  30.095000 -3.244861   \n",
       "\n",
       "           MA22    BIAS22       MA23    BIAS23       MA24    BIAS24  \n",
       "4618  30.540909 -6.341463  30.669565 -6.618735  30.760417 -6.952951  \n",
       "4619  30.365909 -5.372823  30.484783 -5.769776  30.610417 -6.048087  \n",
       "4620  30.230952 -3.674875  30.365909 -4.050488  30.484783 -4.444293  \n",
       "\n",
       "[3 rows x 57 columns]"
      ]
     },
     "execution_count": 15,
     "metadata": {},
     "output_type": "execute_result"
    }
   ],
   "source": [
    "data[4618:4621]"
   ]
  },
  {
   "cell_type": "code",
   "execution_count": 16,
   "metadata": {
    "collapsed": false
   },
   "outputs": [],
   "source": [
    "data = data.drop(data.index[4620])"
   ]
  },
  {
   "cell_type": "code",
   "execution_count": 17,
   "metadata": {
    "collapsed": false
   },
   "outputs": [
    {
     "data": {
      "text/html": [
       "<div>\n",
       "<table border=\"1\" class=\"dataframe\">\n",
       "  <thead>\n",
       "    <tr style=\"text-align: right;\">\n",
       "      <th></th>\n",
       "      <th>Date</th>\n",
       "      <th>Open</th>\n",
       "      <th>High</th>\n",
       "      <th>Low</th>\n",
       "      <th>Close</th>\n",
       "      <th>Volume_n</th>\n",
       "      <th>Volume_m</th>\n",
       "      <th>return</th>\n",
       "      <th>PE</th>\n",
       "      <th>MA10</th>\n",
       "      <th>...</th>\n",
       "      <th>MA20</th>\n",
       "      <th>BIAS20</th>\n",
       "      <th>MA21</th>\n",
       "      <th>BIAS21</th>\n",
       "      <th>MA22</th>\n",
       "      <th>BIAS22</th>\n",
       "      <th>MA23</th>\n",
       "      <th>BIAS23</th>\n",
       "      <th>MA24</th>\n",
       "      <th>BIAS24</th>\n",
       "    </tr>\n",
       "  </thead>\n",
       "  <tbody>\n",
       "    <tr>\n",
       "      <th>4618</th>\n",
       "      <td>2016/5/24</td>\n",
       "      <td>29.0</td>\n",
       "      <td>29.15</td>\n",
       "      <td>28.8</td>\n",
       "      <td>28.90</td>\n",
       "      <td>4966.0</td>\n",
       "      <td>143707.0</td>\n",
       "      <td>0.35</td>\n",
       "      <td>20.50</td>\n",
       "      <td>28.815</td>\n",
       "      <td>...</td>\n",
       "      <td>30.280</td>\n",
       "      <td>-5.558288</td>\n",
       "      <td>30.419048</td>\n",
       "      <td>-5.940902</td>\n",
       "      <td>30.540909</td>\n",
       "      <td>-6.341463</td>\n",
       "      <td>30.669565</td>\n",
       "      <td>-6.618735</td>\n",
       "      <td>30.760417</td>\n",
       "      <td>-6.952951</td>\n",
       "    </tr>\n",
       "    <tr>\n",
       "      <th>4619</th>\n",
       "      <td>2016/5/25</td>\n",
       "      <td>29.5</td>\n",
       "      <td>29.50</td>\n",
       "      <td>28.9</td>\n",
       "      <td>29.25</td>\n",
       "      <td>5094.0</td>\n",
       "      <td>148848.0</td>\n",
       "      <td>1.21</td>\n",
       "      <td>20.74</td>\n",
       "      <td>28.775</td>\n",
       "      <td>...</td>\n",
       "      <td>30.095</td>\n",
       "      <td>-4.557464</td>\n",
       "      <td>30.230952</td>\n",
       "      <td>-4.993738</td>\n",
       "      <td>30.365909</td>\n",
       "      <td>-5.372823</td>\n",
       "      <td>30.484783</td>\n",
       "      <td>-5.769776</td>\n",
       "      <td>30.610417</td>\n",
       "      <td>-6.048087</td>\n",
       "    </tr>\n",
       "  </tbody>\n",
       "</table>\n",
       "<p>2 rows × 57 columns</p>\n",
       "</div>"
      ],
      "text/plain": [
       "           Date  Open   High   Low  Close  Volume_n  Volume_m  return     PE  \\\n",
       "4618  2016/5/24  29.0  29.15  28.8  28.90    4966.0  143707.0    0.35  20.50   \n",
       "4619  2016/5/25  29.5  29.50  28.9  29.25    5094.0  148848.0    1.21  20.74   \n",
       "\n",
       "        MA10    ...       MA20    BIAS20       MA21    BIAS21       MA22  \\\n",
       "4618  28.815    ...     30.280 -5.558288  30.419048 -5.940902  30.540909   \n",
       "4619  28.775    ...     30.095 -4.557464  30.230952 -4.993738  30.365909   \n",
       "\n",
       "        BIAS22       MA23    BIAS23       MA24    BIAS24  \n",
       "4618 -6.341463  30.669565 -6.618735  30.760417 -6.952951  \n",
       "4619 -5.372823  30.484783 -5.769776  30.610417 -6.048087  \n",
       "\n",
       "[2 rows x 57 columns]"
      ]
     },
     "execution_count": 17,
     "metadata": {},
     "output_type": "execute_result"
    }
   ],
   "source": [
    "data[4618:4621]"
   ]
  },
  {
   "cell_type": "code",
   "execution_count": 18,
   "metadata": {
    "collapsed": true
   },
   "outputs": [],
   "source": [
    "def UP_DOWN(data):\n",
    "    data_day_number = range(data['Date'].size)\n",
    "    tmpList = []\n",
    "    \n",
    "    for item in data_day_number:\n",
    "        spread = data['Close'][item] - data['Open'][item]\n",
    "        if spread > 0 :\n",
    "            tmp = 1\n",
    "        elif spread <= 0:\n",
    "            tmp = 0\n",
    " \n",
    "        tmpList.append(tmp)\n",
    "    \n",
    "    tmpSeries = pd.Series(tmpList)\n",
    "    data['UP_DOWN']=tmpSeries"
   ]
  },
  {
   "cell_type": "code",
   "execution_count": 19,
   "metadata": {
    "collapsed": true
   },
   "outputs": [],
   "source": [
    "UP_DOWN(data)"
   ]
  },
  {
   "cell_type": "code",
   "execution_count": 20,
   "metadata": {
    "collapsed": false
   },
   "outputs": [
    {
     "data": {
      "text/html": [
       "<div>\n",
       "<table border=\"1\" class=\"dataframe\">\n",
       "  <thead>\n",
       "    <tr style=\"text-align: right;\">\n",
       "      <th></th>\n",
       "      <th>Date</th>\n",
       "      <th>Open</th>\n",
       "      <th>High</th>\n",
       "      <th>Low</th>\n",
       "      <th>Close</th>\n",
       "      <th>Volume_n</th>\n",
       "      <th>Volume_m</th>\n",
       "      <th>return</th>\n",
       "      <th>PE</th>\n",
       "      <th>MA10</th>\n",
       "      <th>...</th>\n",
       "      <th>BIAS20</th>\n",
       "      <th>MA21</th>\n",
       "      <th>BIAS21</th>\n",
       "      <th>MA22</th>\n",
       "      <th>BIAS22</th>\n",
       "      <th>MA23</th>\n",
       "      <th>BIAS23</th>\n",
       "      <th>MA24</th>\n",
       "      <th>BIAS24</th>\n",
       "      <th>UP_DOWN</th>\n",
       "    </tr>\n",
       "  </thead>\n",
       "  <tbody>\n",
       "    <tr>\n",
       "      <th>0</th>\n",
       "      <td>1998/1/3</td>\n",
       "      <td>12.84</td>\n",
       "      <td>12.84</td>\n",
       "      <td>12.60</td>\n",
       "      <td>12.60</td>\n",
       "      <td>1624.0</td>\n",
       "      <td>62200.0</td>\n",
       "      <td>-1.81</td>\n",
       "      <td>26.76</td>\n",
       "      <td>0.0</td>\n",
       "      <td>...</td>\n",
       "      <td>0.0</td>\n",
       "      <td>0.0</td>\n",
       "      <td>0.0</td>\n",
       "      <td>0.0</td>\n",
       "      <td>0.0</td>\n",
       "      <td>0.0</td>\n",
       "      <td>0.0</td>\n",
       "      <td>0.0</td>\n",
       "      <td>0.0</td>\n",
       "      <td>0</td>\n",
       "    </tr>\n",
       "    <tr>\n",
       "      <th>1</th>\n",
       "      <td>1998/1/5</td>\n",
       "      <td>12.60</td>\n",
       "      <td>12.70</td>\n",
       "      <td>12.44</td>\n",
       "      <td>12.44</td>\n",
       "      <td>4952.0</td>\n",
       "      <td>187464.0</td>\n",
       "      <td>-1.32</td>\n",
       "      <td>26.41</td>\n",
       "      <td>0.0</td>\n",
       "      <td>...</td>\n",
       "      <td>0.0</td>\n",
       "      <td>0.0</td>\n",
       "      <td>0.0</td>\n",
       "      <td>0.0</td>\n",
       "      <td>0.0</td>\n",
       "      <td>0.0</td>\n",
       "      <td>0.0</td>\n",
       "      <td>0.0</td>\n",
       "      <td>0.0</td>\n",
       "      <td>0</td>\n",
       "    </tr>\n",
       "    <tr>\n",
       "      <th>2</th>\n",
       "      <td>1998/1/6</td>\n",
       "      <td>12.44</td>\n",
       "      <td>12.44</td>\n",
       "      <td>12.21</td>\n",
       "      <td>12.24</td>\n",
       "      <td>3408.0</td>\n",
       "      <td>126192.0</td>\n",
       "      <td>-1.60</td>\n",
       "      <td>25.99</td>\n",
       "      <td>0.0</td>\n",
       "      <td>...</td>\n",
       "      <td>0.0</td>\n",
       "      <td>0.0</td>\n",
       "      <td>0.0</td>\n",
       "      <td>0.0</td>\n",
       "      <td>0.0</td>\n",
       "      <td>0.0</td>\n",
       "      <td>0.0</td>\n",
       "      <td>0.0</td>\n",
       "      <td>0.0</td>\n",
       "      <td>0</td>\n",
       "    </tr>\n",
       "    <tr>\n",
       "      <th>3</th>\n",
       "      <td>1998/1/7</td>\n",
       "      <td>12.27</td>\n",
       "      <td>12.40</td>\n",
       "      <td>12.01</td>\n",
       "      <td>12.01</td>\n",
       "      <td>3207.0</td>\n",
       "      <td>117772.0</td>\n",
       "      <td>-1.90</td>\n",
       "      <td>25.49</td>\n",
       "      <td>0.0</td>\n",
       "      <td>...</td>\n",
       "      <td>0.0</td>\n",
       "      <td>0.0</td>\n",
       "      <td>0.0</td>\n",
       "      <td>0.0</td>\n",
       "      <td>0.0</td>\n",
       "      <td>0.0</td>\n",
       "      <td>0.0</td>\n",
       "      <td>0.0</td>\n",
       "      <td>0.0</td>\n",
       "      <td>0</td>\n",
       "    </tr>\n",
       "    <tr>\n",
       "      <th>4</th>\n",
       "      <td>1998/1/8</td>\n",
       "      <td>11.97</td>\n",
       "      <td>12.11</td>\n",
       "      <td>11.87</td>\n",
       "      <td>11.87</td>\n",
       "      <td>3072.0</td>\n",
       "      <td>110927.0</td>\n",
       "      <td>-1.11</td>\n",
       "      <td>25.21</td>\n",
       "      <td>0.0</td>\n",
       "      <td>...</td>\n",
       "      <td>0.0</td>\n",
       "      <td>0.0</td>\n",
       "      <td>0.0</td>\n",
       "      <td>0.0</td>\n",
       "      <td>0.0</td>\n",
       "      <td>0.0</td>\n",
       "      <td>0.0</td>\n",
       "      <td>0.0</td>\n",
       "      <td>0.0</td>\n",
       "      <td>0</td>\n",
       "    </tr>\n",
       "  </tbody>\n",
       "</table>\n",
       "<p>5 rows × 58 columns</p>\n",
       "</div>"
      ],
      "text/plain": [
       "       Date   Open   High    Low  Close  Volume_n  Volume_m  return     PE  \\\n",
       "0  1998/1/3  12.84  12.84  12.60  12.60    1624.0   62200.0   -1.81  26.76   \n",
       "1  1998/1/5  12.60  12.70  12.44  12.44    4952.0  187464.0   -1.32  26.41   \n",
       "2  1998/1/6  12.44  12.44  12.21  12.24    3408.0  126192.0   -1.60  25.99   \n",
       "3  1998/1/7  12.27  12.40  12.01  12.01    3207.0  117772.0   -1.90  25.49   \n",
       "4  1998/1/8  11.97  12.11  11.87  11.87    3072.0  110927.0   -1.11  25.21   \n",
       "\n",
       "   MA10   ...     BIAS20  MA21  BIAS21  MA22  BIAS22  MA23  BIAS23  MA24  \\\n",
       "0   0.0   ...        0.0   0.0     0.0   0.0     0.0   0.0     0.0   0.0   \n",
       "1   0.0   ...        0.0   0.0     0.0   0.0     0.0   0.0     0.0   0.0   \n",
       "2   0.0   ...        0.0   0.0     0.0   0.0     0.0   0.0     0.0   0.0   \n",
       "3   0.0   ...        0.0   0.0     0.0   0.0     0.0   0.0     0.0   0.0   \n",
       "4   0.0   ...        0.0   0.0     0.0   0.0     0.0   0.0     0.0   0.0   \n",
       "\n",
       "   BIAS24  UP_DOWN  \n",
       "0     0.0        0  \n",
       "1     0.0        0  \n",
       "2     0.0        0  \n",
       "3     0.0        0  \n",
       "4     0.0        0  \n",
       "\n",
       "[5 rows x 58 columns]"
      ]
     },
     "execution_count": 20,
     "metadata": {},
     "output_type": "execute_result"
    }
   ],
   "source": [
    "data.head()"
   ]
  },
  {
   "cell_type": "code",
   "execution_count": 21,
   "metadata": {
    "collapsed": false
   },
   "outputs": [],
   "source": [
    "data1 = data.drop(['Date', 'Open', 'High','Low','Close','Volume_n','Volume_m','return','PE','MA1','MA2','MA3','MA4','MA5','MA6','MA7','MA8','MA9','MA10','MA11','MA12','MA13','MA14','MA15','MA16','MA17','MA18','MA19','MA20','MA21','MA22','MA23','MA24'], axis=1)"
   ]
  },
  {
   "cell_type": "code",
   "execution_count": 22,
   "metadata": {
    "collapsed": false
   },
   "outputs": [
    {
     "data": {
      "text/html": [
       "<div>\n",
       "<table border=\"1\" class=\"dataframe\">\n",
       "  <thead>\n",
       "    <tr style=\"text-align: right;\">\n",
       "      <th></th>\n",
       "      <th>BIAS10</th>\n",
       "      <th>BIAS1</th>\n",
       "      <th>BIAS2</th>\n",
       "      <th>BIAS3</th>\n",
       "      <th>BIAS4</th>\n",
       "      <th>BIAS5</th>\n",
       "      <th>BIAS6</th>\n",
       "      <th>BIAS7</th>\n",
       "      <th>BIAS8</th>\n",
       "      <th>BIAS9</th>\n",
       "      <th>...</th>\n",
       "      <th>BIAS16</th>\n",
       "      <th>BIAS17</th>\n",
       "      <th>BIAS18</th>\n",
       "      <th>BIAS19</th>\n",
       "      <th>BIAS20</th>\n",
       "      <th>BIAS21</th>\n",
       "      <th>BIAS22</th>\n",
       "      <th>BIAS23</th>\n",
       "      <th>BIAS24</th>\n",
       "      <th>UP_DOWN</th>\n",
       "    </tr>\n",
       "  </thead>\n",
       "  <tbody>\n",
       "    <tr>\n",
       "      <th>0</th>\n",
       "      <td>0.0</td>\n",
       "      <td>0.0</td>\n",
       "      <td>0.000000</td>\n",
       "      <td>0.000000</td>\n",
       "      <td>0.000000</td>\n",
       "      <td>0.0</td>\n",
       "      <td>0.0</td>\n",
       "      <td>0.0</td>\n",
       "      <td>0.0</td>\n",
       "      <td>0.0</td>\n",
       "      <td>...</td>\n",
       "      <td>0.0</td>\n",
       "      <td>0.0</td>\n",
       "      <td>0.0</td>\n",
       "      <td>0.0</td>\n",
       "      <td>0.0</td>\n",
       "      <td>0.0</td>\n",
       "      <td>0.0</td>\n",
       "      <td>0.0</td>\n",
       "      <td>0.0</td>\n",
       "      <td>0</td>\n",
       "    </tr>\n",
       "    <tr>\n",
       "      <th>1</th>\n",
       "      <td>0.0</td>\n",
       "      <td>0.0</td>\n",
       "      <td>0.000000</td>\n",
       "      <td>0.000000</td>\n",
       "      <td>0.000000</td>\n",
       "      <td>0.0</td>\n",
       "      <td>0.0</td>\n",
       "      <td>0.0</td>\n",
       "      <td>0.0</td>\n",
       "      <td>0.0</td>\n",
       "      <td>...</td>\n",
       "      <td>0.0</td>\n",
       "      <td>0.0</td>\n",
       "      <td>0.0</td>\n",
       "      <td>0.0</td>\n",
       "      <td>0.0</td>\n",
       "      <td>0.0</td>\n",
       "      <td>0.0</td>\n",
       "      <td>0.0</td>\n",
       "      <td>0.0</td>\n",
       "      <td>0</td>\n",
       "    </tr>\n",
       "    <tr>\n",
       "      <th>2</th>\n",
       "      <td>0.0</td>\n",
       "      <td>0.0</td>\n",
       "      <td>-0.638978</td>\n",
       "      <td>0.000000</td>\n",
       "      <td>0.000000</td>\n",
       "      <td>0.0</td>\n",
       "      <td>0.0</td>\n",
       "      <td>0.0</td>\n",
       "      <td>0.0</td>\n",
       "      <td>0.0</td>\n",
       "      <td>...</td>\n",
       "      <td>0.0</td>\n",
       "      <td>0.0</td>\n",
       "      <td>0.0</td>\n",
       "      <td>0.0</td>\n",
       "      <td>0.0</td>\n",
       "      <td>0.0</td>\n",
       "      <td>0.0</td>\n",
       "      <td>0.0</td>\n",
       "      <td>0.0</td>\n",
       "      <td>0</td>\n",
       "    </tr>\n",
       "    <tr>\n",
       "      <th>3</th>\n",
       "      <td>0.0</td>\n",
       "      <td>0.0</td>\n",
       "      <td>-0.810373</td>\n",
       "      <td>-1.502146</td>\n",
       "      <td>0.000000</td>\n",
       "      <td>0.0</td>\n",
       "      <td>0.0</td>\n",
       "      <td>0.0</td>\n",
       "      <td>0.0</td>\n",
       "      <td>0.0</td>\n",
       "      <td>...</td>\n",
       "      <td>0.0</td>\n",
       "      <td>0.0</td>\n",
       "      <td>0.0</td>\n",
       "      <td>0.0</td>\n",
       "      <td>0.0</td>\n",
       "      <td>0.0</td>\n",
       "      <td>0.0</td>\n",
       "      <td>0.0</td>\n",
       "      <td>0.0</td>\n",
       "      <td>0</td>\n",
       "    </tr>\n",
       "    <tr>\n",
       "      <th>4</th>\n",
       "      <td>0.0</td>\n",
       "      <td>0.0</td>\n",
       "      <td>-0.948454</td>\n",
       "      <td>-1.798855</td>\n",
       "      <td>-2.536011</td>\n",
       "      <td>0.0</td>\n",
       "      <td>0.0</td>\n",
       "      <td>0.0</td>\n",
       "      <td>0.0</td>\n",
       "      <td>0.0</td>\n",
       "      <td>...</td>\n",
       "      <td>0.0</td>\n",
       "      <td>0.0</td>\n",
       "      <td>0.0</td>\n",
       "      <td>0.0</td>\n",
       "      <td>0.0</td>\n",
       "      <td>0.0</td>\n",
       "      <td>0.0</td>\n",
       "      <td>0.0</td>\n",
       "      <td>0.0</td>\n",
       "      <td>0</td>\n",
       "    </tr>\n",
       "  </tbody>\n",
       "</table>\n",
       "<p>5 rows × 25 columns</p>\n",
       "</div>"
      ],
      "text/plain": [
       "   BIAS10  BIAS1     BIAS2     BIAS3     BIAS4  BIAS5  BIAS6  BIAS7  BIAS8  \\\n",
       "0     0.0    0.0  0.000000  0.000000  0.000000    0.0    0.0    0.0    0.0   \n",
       "1     0.0    0.0  0.000000  0.000000  0.000000    0.0    0.0    0.0    0.0   \n",
       "2     0.0    0.0 -0.638978  0.000000  0.000000    0.0    0.0    0.0    0.0   \n",
       "3     0.0    0.0 -0.810373 -1.502146  0.000000    0.0    0.0    0.0    0.0   \n",
       "4     0.0    0.0 -0.948454 -1.798855 -2.536011    0.0    0.0    0.0    0.0   \n",
       "\n",
       "   BIAS9   ...     BIAS16  BIAS17  BIAS18  BIAS19  BIAS20  BIAS21  BIAS22  \\\n",
       "0    0.0   ...        0.0     0.0     0.0     0.0     0.0     0.0     0.0   \n",
       "1    0.0   ...        0.0     0.0     0.0     0.0     0.0     0.0     0.0   \n",
       "2    0.0   ...        0.0     0.0     0.0     0.0     0.0     0.0     0.0   \n",
       "3    0.0   ...        0.0     0.0     0.0     0.0     0.0     0.0     0.0   \n",
       "4    0.0   ...        0.0     0.0     0.0     0.0     0.0     0.0     0.0   \n",
       "\n",
       "   BIAS23  BIAS24  UP_DOWN  \n",
       "0     0.0     0.0        0  \n",
       "1     0.0     0.0        0  \n",
       "2     0.0     0.0        0  \n",
       "3     0.0     0.0        0  \n",
       "4     0.0     0.0        0  \n",
       "\n",
       "[5 rows x 25 columns]"
      ]
     },
     "execution_count": 22,
     "metadata": {},
     "output_type": "execute_result"
    }
   ],
   "source": [
    "data1.head()"
   ]
  },
  {
   "cell_type": "code",
   "execution_count": 23,
   "metadata": {
    "collapsed": false
   },
   "outputs": [
    {
     "name": "stdout",
     "output_type": "stream",
     "text": [
      "<class 'pandas.core.frame.DataFrame'>\n",
      "Int64Index: 4620 entries, 0 to 4619\n",
      "Data columns (total 25 columns):\n",
      "BIAS10     4620 non-null float64\n",
      "BIAS1      4620 non-null float64\n",
      "BIAS2      4620 non-null float64\n",
      "BIAS3      4620 non-null float64\n",
      "BIAS4      4620 non-null float64\n",
      "BIAS5      4620 non-null float64\n",
      "BIAS6      4620 non-null float64\n",
      "BIAS7      4620 non-null float64\n",
      "BIAS8      4620 non-null float64\n",
      "BIAS9      4620 non-null float64\n",
      "BIAS11     4620 non-null float64\n",
      "BIAS12     4620 non-null float64\n",
      "BIAS13     4620 non-null float64\n",
      "BIAS14     4620 non-null float64\n",
      "BIAS15     4620 non-null float64\n",
      "BIAS16     4620 non-null float64\n",
      "BIAS17     4620 non-null float64\n",
      "BIAS18     4620 non-null float64\n",
      "BIAS19     4620 non-null float64\n",
      "BIAS20     4620 non-null float64\n",
      "BIAS21     4620 non-null float64\n",
      "BIAS22     4620 non-null float64\n",
      "BIAS23     4620 non-null float64\n",
      "BIAS24     4620 non-null float64\n",
      "UP_DOWN    4620 non-null int64\n",
      "dtypes: float64(24), int64(1)\n",
      "memory usage: 938.4 KB\n"
     ]
    }
   ],
   "source": [
    "data1.info()"
   ]
  },
  {
   "cell_type": "code",
   "execution_count": 24,
   "metadata": {
    "collapsed": true
   },
   "outputs": [],
   "source": [
    "data1 = data1.fillna(-1)"
   ]
  },
  {
   "cell_type": "code",
   "execution_count": 25,
   "metadata": {
    "collapsed": false
   },
   "outputs": [
    {
     "data": {
      "text/html": [
       "<div>\n",
       "<table border=\"1\" class=\"dataframe\">\n",
       "  <thead>\n",
       "    <tr style=\"text-align: right;\">\n",
       "      <th></th>\n",
       "      <th>BIAS10</th>\n",
       "      <th>BIAS1</th>\n",
       "      <th>BIAS2</th>\n",
       "      <th>BIAS3</th>\n",
       "      <th>BIAS4</th>\n",
       "      <th>BIAS5</th>\n",
       "      <th>BIAS6</th>\n",
       "      <th>BIAS7</th>\n",
       "      <th>BIAS8</th>\n",
       "      <th>BIAS9</th>\n",
       "      <th>...</th>\n",
       "      <th>BIAS16</th>\n",
       "      <th>BIAS17</th>\n",
       "      <th>BIAS18</th>\n",
       "      <th>BIAS19</th>\n",
       "      <th>BIAS20</th>\n",
       "      <th>BIAS21</th>\n",
       "      <th>BIAS22</th>\n",
       "      <th>BIAS23</th>\n",
       "      <th>BIAS24</th>\n",
       "      <th>UP_DOWN</th>\n",
       "    </tr>\n",
       "  </thead>\n",
       "  <tbody>\n",
       "    <tr>\n",
       "      <th>0</th>\n",
       "      <td>0.0</td>\n",
       "      <td>0.0</td>\n",
       "      <td>0.000000</td>\n",
       "      <td>0.000000</td>\n",
       "      <td>0.000000</td>\n",
       "      <td>0.0</td>\n",
       "      <td>0.0</td>\n",
       "      <td>0.0</td>\n",
       "      <td>0.0</td>\n",
       "      <td>0.0</td>\n",
       "      <td>...</td>\n",
       "      <td>0.0</td>\n",
       "      <td>0.0</td>\n",
       "      <td>0.0</td>\n",
       "      <td>0.0</td>\n",
       "      <td>0.0</td>\n",
       "      <td>0.0</td>\n",
       "      <td>0.0</td>\n",
       "      <td>0.0</td>\n",
       "      <td>0.0</td>\n",
       "      <td>0</td>\n",
       "    </tr>\n",
       "    <tr>\n",
       "      <th>1</th>\n",
       "      <td>0.0</td>\n",
       "      <td>0.0</td>\n",
       "      <td>0.000000</td>\n",
       "      <td>0.000000</td>\n",
       "      <td>0.000000</td>\n",
       "      <td>0.0</td>\n",
       "      <td>0.0</td>\n",
       "      <td>0.0</td>\n",
       "      <td>0.0</td>\n",
       "      <td>0.0</td>\n",
       "      <td>...</td>\n",
       "      <td>0.0</td>\n",
       "      <td>0.0</td>\n",
       "      <td>0.0</td>\n",
       "      <td>0.0</td>\n",
       "      <td>0.0</td>\n",
       "      <td>0.0</td>\n",
       "      <td>0.0</td>\n",
       "      <td>0.0</td>\n",
       "      <td>0.0</td>\n",
       "      <td>0</td>\n",
       "    </tr>\n",
       "    <tr>\n",
       "      <th>2</th>\n",
       "      <td>0.0</td>\n",
       "      <td>0.0</td>\n",
       "      <td>-0.638978</td>\n",
       "      <td>0.000000</td>\n",
       "      <td>0.000000</td>\n",
       "      <td>0.0</td>\n",
       "      <td>0.0</td>\n",
       "      <td>0.0</td>\n",
       "      <td>0.0</td>\n",
       "      <td>0.0</td>\n",
       "      <td>...</td>\n",
       "      <td>0.0</td>\n",
       "      <td>0.0</td>\n",
       "      <td>0.0</td>\n",
       "      <td>0.0</td>\n",
       "      <td>0.0</td>\n",
       "      <td>0.0</td>\n",
       "      <td>0.0</td>\n",
       "      <td>0.0</td>\n",
       "      <td>0.0</td>\n",
       "      <td>0</td>\n",
       "    </tr>\n",
       "    <tr>\n",
       "      <th>3</th>\n",
       "      <td>0.0</td>\n",
       "      <td>0.0</td>\n",
       "      <td>-0.810373</td>\n",
       "      <td>-1.502146</td>\n",
       "      <td>0.000000</td>\n",
       "      <td>0.0</td>\n",
       "      <td>0.0</td>\n",
       "      <td>0.0</td>\n",
       "      <td>0.0</td>\n",
       "      <td>0.0</td>\n",
       "      <td>...</td>\n",
       "      <td>0.0</td>\n",
       "      <td>0.0</td>\n",
       "      <td>0.0</td>\n",
       "      <td>0.0</td>\n",
       "      <td>0.0</td>\n",
       "      <td>0.0</td>\n",
       "      <td>0.0</td>\n",
       "      <td>0.0</td>\n",
       "      <td>0.0</td>\n",
       "      <td>0</td>\n",
       "    </tr>\n",
       "    <tr>\n",
       "      <th>4</th>\n",
       "      <td>0.0</td>\n",
       "      <td>0.0</td>\n",
       "      <td>-0.948454</td>\n",
       "      <td>-1.798855</td>\n",
       "      <td>-2.536011</td>\n",
       "      <td>0.0</td>\n",
       "      <td>0.0</td>\n",
       "      <td>0.0</td>\n",
       "      <td>0.0</td>\n",
       "      <td>0.0</td>\n",
       "      <td>...</td>\n",
       "      <td>0.0</td>\n",
       "      <td>0.0</td>\n",
       "      <td>0.0</td>\n",
       "      <td>0.0</td>\n",
       "      <td>0.0</td>\n",
       "      <td>0.0</td>\n",
       "      <td>0.0</td>\n",
       "      <td>0.0</td>\n",
       "      <td>0.0</td>\n",
       "      <td>0</td>\n",
       "    </tr>\n",
       "  </tbody>\n",
       "</table>\n",
       "<p>5 rows × 25 columns</p>\n",
       "</div>"
      ],
      "text/plain": [
       "   BIAS10  BIAS1     BIAS2     BIAS3     BIAS4  BIAS5  BIAS6  BIAS7  BIAS8  \\\n",
       "0     0.0    0.0  0.000000  0.000000  0.000000    0.0    0.0    0.0    0.0   \n",
       "1     0.0    0.0  0.000000  0.000000  0.000000    0.0    0.0    0.0    0.0   \n",
       "2     0.0    0.0 -0.638978  0.000000  0.000000    0.0    0.0    0.0    0.0   \n",
       "3     0.0    0.0 -0.810373 -1.502146  0.000000    0.0    0.0    0.0    0.0   \n",
       "4     0.0    0.0 -0.948454 -1.798855 -2.536011    0.0    0.0    0.0    0.0   \n",
       "\n",
       "   BIAS9   ...     BIAS16  BIAS17  BIAS18  BIAS19  BIAS20  BIAS21  BIAS22  \\\n",
       "0    0.0   ...        0.0     0.0     0.0     0.0     0.0     0.0     0.0   \n",
       "1    0.0   ...        0.0     0.0     0.0     0.0     0.0     0.0     0.0   \n",
       "2    0.0   ...        0.0     0.0     0.0     0.0     0.0     0.0     0.0   \n",
       "3    0.0   ...        0.0     0.0     0.0     0.0     0.0     0.0     0.0   \n",
       "4    0.0   ...        0.0     0.0     0.0     0.0     0.0     0.0     0.0   \n",
       "\n",
       "   BIAS23  BIAS24  UP_DOWN  \n",
       "0     0.0     0.0        0  \n",
       "1     0.0     0.0        0  \n",
       "2     0.0     0.0        0  \n",
       "3     0.0     0.0        0  \n",
       "4     0.0     0.0        0  \n",
       "\n",
       "[5 rows x 25 columns]"
      ]
     },
     "execution_count": 25,
     "metadata": {},
     "output_type": "execute_result"
    }
   ],
   "source": [
    "data1.head()"
   ]
  },
  {
   "cell_type": "code",
   "execution_count": 26,
   "metadata": {
    "collapsed": false
   },
   "outputs": [
    {
     "data": {
      "text/plain": [
       "'UP_DOWN'"
      ]
     },
     "execution_count": 26,
     "metadata": {},
     "output_type": "execute_result"
    }
   ],
   "source": [
    "cols = data1.columns.tolist()\n",
    "cols[24]"
   ]
  },
  {
   "cell_type": "code",
   "execution_count": 27,
   "metadata": {
    "collapsed": false
   },
   "outputs": [],
   "source": [
    "data1 = data1[[cols[24]] + cols[0:23]]"
   ]
  },
  {
   "cell_type": "code",
   "execution_count": 28,
   "metadata": {
    "collapsed": false
   },
   "outputs": [
    {
     "data": {
      "text/html": [
       "<div>\n",
       "<table border=\"1\" class=\"dataframe\">\n",
       "  <thead>\n",
       "    <tr style=\"text-align: right;\">\n",
       "      <th></th>\n",
       "      <th>UP_DOWN</th>\n",
       "      <th>BIAS10</th>\n",
       "      <th>BIAS1</th>\n",
       "      <th>BIAS2</th>\n",
       "      <th>BIAS3</th>\n",
       "      <th>BIAS4</th>\n",
       "      <th>BIAS5</th>\n",
       "      <th>BIAS6</th>\n",
       "      <th>BIAS7</th>\n",
       "      <th>BIAS8</th>\n",
       "      <th>...</th>\n",
       "      <th>BIAS14</th>\n",
       "      <th>BIAS15</th>\n",
       "      <th>BIAS16</th>\n",
       "      <th>BIAS17</th>\n",
       "      <th>BIAS18</th>\n",
       "      <th>BIAS19</th>\n",
       "      <th>BIAS20</th>\n",
       "      <th>BIAS21</th>\n",
       "      <th>BIAS22</th>\n",
       "      <th>BIAS23</th>\n",
       "    </tr>\n",
       "  </thead>\n",
       "  <tbody>\n",
       "    <tr>\n",
       "      <th>0</th>\n",
       "      <td>0</td>\n",
       "      <td>0.0</td>\n",
       "      <td>0.0</td>\n",
       "      <td>0.000000</td>\n",
       "      <td>0.000000</td>\n",
       "      <td>0.000000</td>\n",
       "      <td>0.000000</td>\n",
       "      <td>0.000000</td>\n",
       "      <td>0.000000</td>\n",
       "      <td>0.000000</td>\n",
       "      <td>...</td>\n",
       "      <td>0.0</td>\n",
       "      <td>0.0</td>\n",
       "      <td>0.0</td>\n",
       "      <td>0.0</td>\n",
       "      <td>0.0</td>\n",
       "      <td>0.0</td>\n",
       "      <td>0.0</td>\n",
       "      <td>0.0</td>\n",
       "      <td>0.0</td>\n",
       "      <td>0.0</td>\n",
       "    </tr>\n",
       "    <tr>\n",
       "      <th>1</th>\n",
       "      <td>0</td>\n",
       "      <td>0.0</td>\n",
       "      <td>0.0</td>\n",
       "      <td>0.000000</td>\n",
       "      <td>0.000000</td>\n",
       "      <td>0.000000</td>\n",
       "      <td>0.000000</td>\n",
       "      <td>0.000000</td>\n",
       "      <td>0.000000</td>\n",
       "      <td>0.000000</td>\n",
       "      <td>...</td>\n",
       "      <td>0.0</td>\n",
       "      <td>0.0</td>\n",
       "      <td>0.0</td>\n",
       "      <td>0.0</td>\n",
       "      <td>0.0</td>\n",
       "      <td>0.0</td>\n",
       "      <td>0.0</td>\n",
       "      <td>0.0</td>\n",
       "      <td>0.0</td>\n",
       "      <td>0.0</td>\n",
       "    </tr>\n",
       "    <tr>\n",
       "      <th>2</th>\n",
       "      <td>0</td>\n",
       "      <td>0.0</td>\n",
       "      <td>0.0</td>\n",
       "      <td>-0.638978</td>\n",
       "      <td>0.000000</td>\n",
       "      <td>0.000000</td>\n",
       "      <td>0.000000</td>\n",
       "      <td>0.000000</td>\n",
       "      <td>0.000000</td>\n",
       "      <td>0.000000</td>\n",
       "      <td>...</td>\n",
       "      <td>0.0</td>\n",
       "      <td>0.0</td>\n",
       "      <td>0.0</td>\n",
       "      <td>0.0</td>\n",
       "      <td>0.0</td>\n",
       "      <td>0.0</td>\n",
       "      <td>0.0</td>\n",
       "      <td>0.0</td>\n",
       "      <td>0.0</td>\n",
       "      <td>0.0</td>\n",
       "    </tr>\n",
       "    <tr>\n",
       "      <th>3</th>\n",
       "      <td>0</td>\n",
       "      <td>0.0</td>\n",
       "      <td>0.0</td>\n",
       "      <td>-0.810373</td>\n",
       "      <td>-1.502146</td>\n",
       "      <td>0.000000</td>\n",
       "      <td>0.000000</td>\n",
       "      <td>0.000000</td>\n",
       "      <td>0.000000</td>\n",
       "      <td>0.000000</td>\n",
       "      <td>...</td>\n",
       "      <td>0.0</td>\n",
       "      <td>0.0</td>\n",
       "      <td>0.0</td>\n",
       "      <td>0.0</td>\n",
       "      <td>0.0</td>\n",
       "      <td>0.0</td>\n",
       "      <td>0.0</td>\n",
       "      <td>0.0</td>\n",
       "      <td>0.0</td>\n",
       "      <td>0.0</td>\n",
       "    </tr>\n",
       "    <tr>\n",
       "      <th>4</th>\n",
       "      <td>0</td>\n",
       "      <td>0.0</td>\n",
       "      <td>0.0</td>\n",
       "      <td>-0.948454</td>\n",
       "      <td>-1.798855</td>\n",
       "      <td>-2.536011</td>\n",
       "      <td>0.000000</td>\n",
       "      <td>0.000000</td>\n",
       "      <td>0.000000</td>\n",
       "      <td>0.000000</td>\n",
       "      <td>...</td>\n",
       "      <td>0.0</td>\n",
       "      <td>0.0</td>\n",
       "      <td>0.0</td>\n",
       "      <td>0.0</td>\n",
       "      <td>0.0</td>\n",
       "      <td>0.0</td>\n",
       "      <td>0.0</td>\n",
       "      <td>0.0</td>\n",
       "      <td>0.0</td>\n",
       "      <td>0.0</td>\n",
       "    </tr>\n",
       "    <tr>\n",
       "      <th>5</th>\n",
       "      <td>0</td>\n",
       "      <td>0.0</td>\n",
       "      <td>0.0</td>\n",
       "      <td>-0.586265</td>\n",
       "      <td>-1.411960</td>\n",
       "      <td>-2.224053</td>\n",
       "      <td>-2.959451</td>\n",
       "      <td>0.000000</td>\n",
       "      <td>0.000000</td>\n",
       "      <td>0.000000</td>\n",
       "      <td>...</td>\n",
       "      <td>0.0</td>\n",
       "      <td>0.0</td>\n",
       "      <td>0.0</td>\n",
       "      <td>0.0</td>\n",
       "      <td>0.0</td>\n",
       "      <td>0.0</td>\n",
       "      <td>0.0</td>\n",
       "      <td>0.0</td>\n",
       "      <td>0.0</td>\n",
       "      <td>0.0</td>\n",
       "    </tr>\n",
       "    <tr>\n",
       "      <th>6</th>\n",
       "      <td>0</td>\n",
       "      <td>0.0</td>\n",
       "      <td>0.0</td>\n",
       "      <td>-0.423012</td>\n",
       "      <td>-0.953717</td>\n",
       "      <td>-1.691376</td>\n",
       "      <td>-2.453174</td>\n",
       "      <td>-3.167421</td>\n",
       "      <td>0.000000</td>\n",
       "      <td>0.000000</td>\n",
       "      <td>...</td>\n",
       "      <td>0.0</td>\n",
       "      <td>0.0</td>\n",
       "      <td>0.0</td>\n",
       "      <td>0.0</td>\n",
       "      <td>0.0</td>\n",
       "      <td>0.0</td>\n",
       "      <td>0.0</td>\n",
       "      <td>0.0</td>\n",
       "      <td>0.0</td>\n",
       "      <td>0.0</td>\n",
       "    </tr>\n",
       "    <tr>\n",
       "      <th>7</th>\n",
       "      <td>1</td>\n",
       "      <td>0.0</td>\n",
       "      <td>0.0</td>\n",
       "      <td>-2.884615</td>\n",
       "      <td>-4.086331</td>\n",
       "      <td>-4.961506</td>\n",
       "      <td>-5.847458</td>\n",
       "      <td>-6.690929</td>\n",
       "      <td>-7.460733</td>\n",
       "      <td>0.000000</td>\n",
       "      <td>...</td>\n",
       "      <td>0.0</td>\n",
       "      <td>0.0</td>\n",
       "      <td>0.0</td>\n",
       "      <td>0.0</td>\n",
       "      <td>0.0</td>\n",
       "      <td>0.0</td>\n",
       "      <td>0.0</td>\n",
       "      <td>0.0</td>\n",
       "      <td>0.0</td>\n",
       "      <td>0.0</td>\n",
       "    </tr>\n",
       "    <tr>\n",
       "      <th>8</th>\n",
       "      <td>1</td>\n",
       "      <td>0.0</td>\n",
       "      <td>0.0</td>\n",
       "      <td>1.024499</td>\n",
       "      <td>-0.584454</td>\n",
       "      <td>-1.583858</td>\n",
       "      <td>-2.409639</td>\n",
       "      <td>-3.269832</td>\n",
       "      <td>-4.107272</td>\n",
       "      <td>-4.885720</td>\n",
       "      <td>...</td>\n",
       "      <td>0.0</td>\n",
       "      <td>0.0</td>\n",
       "      <td>0.0</td>\n",
       "      <td>0.0</td>\n",
       "      <td>0.0</td>\n",
       "      <td>0.0</td>\n",
       "      <td>0.0</td>\n",
       "      <td>0.0</td>\n",
       "      <td>0.0</td>\n",
       "      <td>0.0</td>\n",
       "    </tr>\n",
       "    <tr>\n",
       "      <th>9</th>\n",
       "      <td>0</td>\n",
       "      <td>0.0</td>\n",
       "      <td>0.0</td>\n",
       "      <td>1.047120</td>\n",
       "      <td>2.086394</td>\n",
       "      <td>1.135371</td>\n",
       "      <td>0.398821</td>\n",
       "      <td>-0.287026</td>\n",
       "      <td>-1.049805</td>\n",
       "      <td>-1.822806</td>\n",
       "      <td>...</td>\n",
       "      <td>0.0</td>\n",
       "      <td>0.0</td>\n",
       "      <td>0.0</td>\n",
       "      <td>0.0</td>\n",
       "      <td>0.0</td>\n",
       "      <td>0.0</td>\n",
       "      <td>0.0</td>\n",
       "      <td>0.0</td>\n",
       "      <td>0.0</td>\n",
       "      <td>0.0</td>\n",
       "    </tr>\n",
       "  </tbody>\n",
       "</table>\n",
       "<p>10 rows × 24 columns</p>\n",
       "</div>"
      ],
      "text/plain": [
       "   UP_DOWN  BIAS10  BIAS1     BIAS2     BIAS3     BIAS4     BIAS5     BIAS6  \\\n",
       "0        0     0.0    0.0  0.000000  0.000000  0.000000  0.000000  0.000000   \n",
       "1        0     0.0    0.0  0.000000  0.000000  0.000000  0.000000  0.000000   \n",
       "2        0     0.0    0.0 -0.638978  0.000000  0.000000  0.000000  0.000000   \n",
       "3        0     0.0    0.0 -0.810373 -1.502146  0.000000  0.000000  0.000000   \n",
       "4        0     0.0    0.0 -0.948454 -1.798855 -2.536011  0.000000  0.000000   \n",
       "5        0     0.0    0.0 -0.586265 -1.411960 -2.224053 -2.959451  0.000000   \n",
       "6        0     0.0    0.0 -0.423012 -0.953717 -1.691376 -2.453174 -3.167421   \n",
       "7        1     0.0    0.0 -2.884615 -4.086331 -4.961506 -5.847458 -6.690929   \n",
       "8        1     0.0    0.0  1.024499 -0.584454 -1.583858 -2.409639 -3.269832   \n",
       "9        0     0.0    0.0  1.047120  2.086394  1.135371  0.398821 -0.287026   \n",
       "\n",
       "      BIAS7     BIAS8   ...    BIAS14  BIAS15  BIAS16  BIAS17  BIAS18  BIAS19  \\\n",
       "0  0.000000  0.000000   ...       0.0     0.0     0.0     0.0     0.0     0.0   \n",
       "1  0.000000  0.000000   ...       0.0     0.0     0.0     0.0     0.0     0.0   \n",
       "2  0.000000  0.000000   ...       0.0     0.0     0.0     0.0     0.0     0.0   \n",
       "3  0.000000  0.000000   ...       0.0     0.0     0.0     0.0     0.0     0.0   \n",
       "4  0.000000  0.000000   ...       0.0     0.0     0.0     0.0     0.0     0.0   \n",
       "5  0.000000  0.000000   ...       0.0     0.0     0.0     0.0     0.0     0.0   \n",
       "6  0.000000  0.000000   ...       0.0     0.0     0.0     0.0     0.0     0.0   \n",
       "7 -7.460733  0.000000   ...       0.0     0.0     0.0     0.0     0.0     0.0   \n",
       "8 -4.107272 -4.885720   ...       0.0     0.0     0.0     0.0     0.0     0.0   \n",
       "9 -1.049805 -1.822806   ...       0.0     0.0     0.0     0.0     0.0     0.0   \n",
       "\n",
       "   BIAS20  BIAS21  BIAS22  BIAS23  \n",
       "0     0.0     0.0     0.0     0.0  \n",
       "1     0.0     0.0     0.0     0.0  \n",
       "2     0.0     0.0     0.0     0.0  \n",
       "3     0.0     0.0     0.0     0.0  \n",
       "4     0.0     0.0     0.0     0.0  \n",
       "5     0.0     0.0     0.0     0.0  \n",
       "6     0.0     0.0     0.0     0.0  \n",
       "7     0.0     0.0     0.0     0.0  \n",
       "8     0.0     0.0     0.0     0.0  \n",
       "9     0.0     0.0     0.0     0.0  \n",
       "\n",
       "[10 rows x 24 columns]"
      ]
     },
     "execution_count": 28,
     "metadata": {},
     "output_type": "execute_result"
    }
   ],
   "source": [
    "data1.head(10)"
   ]
  },
  {
   "cell_type": "code",
   "execution_count": 165,
   "metadata": {
    "collapsed": false
   },
   "outputs": [],
   "source": [
    "X = data1.iloc[:,1:]\n",
    "Y = data1.iloc[:,0:1] "
   ]
  },
  {
   "cell_type": "code",
   "execution_count": 166,
   "metadata": {
    "collapsed": false
   },
   "outputs": [],
   "source": [
    "n = len(data['Date'])/2\n",
    "#X_train = X.iloc[:n, :]\n",
    "#Y_train = Y.iloc[:n]\n",
    "#X_test = X.iloc[n:, :]\n",
    "#Y_test = Y.iloc[n:]"
   ]
  },
  {
   "cell_type": "code",
   "execution_count": 167,
   "metadata": {
    "collapsed": false
   },
   "outputs": [
    {
     "data": {
      "text/plain": [
       "<pyspark.sql.context.SQLContext at 0x7fb5104cb090>"
      ]
     },
     "execution_count": 167,
     "metadata": {},
     "output_type": "execute_result"
    }
   ],
   "source": [
    "sql_sc = SQLContext(sc)\n",
    "sql_sc"
   ]
  },
  {
   "cell_type": "code",
   "execution_count": 168,
   "metadata": {
    "collapsed": false
   },
   "outputs": [],
   "source": [
    "train_data = data1.iloc[:n,:]\n",
    "train_sql = sql_sc.createDataFrame(train_data)\n",
    "test_data = data1.iloc[n:,:]\n",
    "test_sql = sql_sc.createDataFrame(test_data)"
   ]
  },
  {
   "cell_type": "code",
   "execution_count": 169,
   "metadata": {
    "collapsed": false
   },
   "outputs": [
    {
     "data": {
      "text/html": [
       "<div>\n",
       "<table border=\"1\" class=\"dataframe\">\n",
       "  <thead>\n",
       "    <tr style=\"text-align: right;\">\n",
       "      <th></th>\n",
       "      <th>UP_DOWN</th>\n",
       "      <th>BIAS10</th>\n",
       "      <th>BIAS1</th>\n",
       "      <th>BIAS2</th>\n",
       "      <th>BIAS3</th>\n",
       "      <th>BIAS4</th>\n",
       "      <th>BIAS5</th>\n",
       "      <th>BIAS6</th>\n",
       "      <th>BIAS7</th>\n",
       "      <th>BIAS8</th>\n",
       "      <th>...</th>\n",
       "      <th>BIAS14</th>\n",
       "      <th>BIAS15</th>\n",
       "      <th>BIAS16</th>\n",
       "      <th>BIAS17</th>\n",
       "      <th>BIAS18</th>\n",
       "      <th>BIAS19</th>\n",
       "      <th>BIAS20</th>\n",
       "      <th>BIAS21</th>\n",
       "      <th>BIAS22</th>\n",
       "      <th>BIAS23</th>\n",
       "    </tr>\n",
       "  </thead>\n",
       "  <tbody>\n",
       "    <tr>\n",
       "      <th>2300</th>\n",
       "      <td>0</td>\n",
       "      <td>2.819884</td>\n",
       "      <td>0.0</td>\n",
       "      <td>2.102933</td>\n",
       "      <td>2.766431</td>\n",
       "      <td>2.842809</td>\n",
       "      <td>2.819884</td>\n",
       "      <td>2.623528</td>\n",
       "      <td>2.638480</td>\n",
       "      <td>2.778358</td>\n",
       "      <td>...</td>\n",
       "      <td>3.373754</td>\n",
       "      <td>3.457944</td>\n",
       "      <td>3.509941</td>\n",
       "      <td>3.535354</td>\n",
       "      <td>3.567642</td>\n",
       "      <td>3.382683</td>\n",
       "      <td>3.182149</td>\n",
       "      <td>3.001382</td>\n",
       "      <td>2.788118</td>\n",
       "      <td>2.579288</td>\n",
       "    </tr>\n",
       "    <tr>\n",
       "      <th>2301</th>\n",
       "      <td>0</td>\n",
       "      <td>1.024157</td>\n",
       "      <td>0.0</td>\n",
       "      <td>-0.819672</td>\n",
       "      <td>0.294714</td>\n",
       "      <td>0.819331</td>\n",
       "      <td>0.934268</td>\n",
       "      <td>0.954853</td>\n",
       "      <td>0.817331</td>\n",
       "      <td>0.847340</td>\n",
       "      <td>...</td>\n",
       "      <td>1.530347</td>\n",
       "      <td>1.578240</td>\n",
       "      <td>1.662874</td>\n",
       "      <td>1.717545</td>\n",
       "      <td>1.747174</td>\n",
       "      <td>1.782710</td>\n",
       "      <td>1.615206</td>\n",
       "      <td>1.431727</td>\n",
       "      <td>1.265502</td>\n",
       "      <td>1.067693</td>\n",
       "    </tr>\n",
       "    <tr>\n",
       "      <th>2302</th>\n",
       "      <td>1</td>\n",
       "      <td>-1.270337</td>\n",
       "      <td>0.0</td>\n",
       "      <td>-1.198773</td>\n",
       "      <td>-2.135493</td>\n",
       "      <td>-1.569226</td>\n",
       "      <td>-1.259334</td>\n",
       "      <td>-1.217133</td>\n",
       "      <td>-1.234175</td>\n",
       "      <td>-1.377487</td>\n",
       "      <td>...</td>\n",
       "      <td>-0.970021</td>\n",
       "      <td>-0.817195</td>\n",
       "      <td>-0.776930</td>\n",
       "      <td>-0.702113</td>\n",
       "      <td>-0.654083</td>\n",
       "      <td>-0.628671</td>\n",
       "      <td>-0.597425</td>\n",
       "      <td>-0.754767</td>\n",
       "      <td>-0.927597</td>\n",
       "      <td>-1.084872</td>\n",
       "    </tr>\n",
       "    <tr>\n",
       "      <th>2303</th>\n",
       "      <td>0</td>\n",
       "      <td>1.666667</td>\n",
       "      <td>0.0</td>\n",
       "      <td>1.610217</td>\n",
       "      <td>1.347609</td>\n",
       "      <td>0.798678</td>\n",
       "      <td>1.317684</td>\n",
       "      <td>1.638434</td>\n",
       "      <td>1.723180</td>\n",
       "      <td>1.744388</td>\n",
       "      <td>...</td>\n",
       "      <td>1.937691</td>\n",
       "      <td>2.116737</td>\n",
       "      <td>2.273918</td>\n",
       "      <td>2.322063</td>\n",
       "      <td>2.403084</td>\n",
       "      <td>2.457567</td>\n",
       "      <td>2.489429</td>\n",
       "      <td>2.526479</td>\n",
       "      <td>2.377622</td>\n",
       "      <td>2.212293</td>\n",
       "    </tr>\n",
       "    <tr>\n",
       "      <th>2304</th>\n",
       "      <td>0</td>\n",
       "      <td>-0.822771</td>\n",
       "      <td>0.0</td>\n",
       "      <td>-1.272828</td>\n",
       "      <td>-0.631266</td>\n",
       "      <td>-0.902652</td>\n",
       "      <td>-1.392881</td>\n",
       "      <td>-1.026352</td>\n",
       "      <td>-0.786526</td>\n",
       "      <td>-0.730333</td>\n",
       "      <td>...</td>\n",
       "      <td>-0.672102</td>\n",
       "      <td>-0.583275</td>\n",
       "      <td>-0.422118</td>\n",
       "      <td>-0.279486</td>\n",
       "      <td>-0.236113</td>\n",
       "      <td>-0.161998</td>\n",
       "      <td>-0.111982</td>\n",
       "      <td>-0.082678</td>\n",
       "      <td>-0.048387</td>\n",
       "      <td>-0.187307</td>\n",
       "    </tr>\n",
       "    <tr>\n",
       "      <th>2305</th>\n",
       "      <td>1</td>\n",
       "      <td>-0.651556</td>\n",
       "      <td>0.0</td>\n",
       "      <td>0.000000</td>\n",
       "      <td>-0.852167</td>\n",
       "      <td>-0.474198</td>\n",
       "      <td>-0.723428</td>\n",
       "      <td>-1.163435</td>\n",
       "      <td>-0.881022</td>\n",
       "      <td>-0.688887</td>\n",
       "      <td>...</td>\n",
       "      <td>-0.636537</td>\n",
       "      <td>-0.627576</td>\n",
       "      <td>-0.547019</td>\n",
       "      <td>-0.397386</td>\n",
       "      <td>-0.264000</td>\n",
       "      <td>-0.223714</td>\n",
       "      <td>-0.153911</td>\n",
       "      <td>-0.106655</td>\n",
       "      <td>-0.078923</td>\n",
       "      <td>-0.046284</td>\n",
       "    </tr>\n",
       "    <tr>\n",
       "      <th>2306</th>\n",
       "      <td>1</td>\n",
       "      <td>0.317319</td>\n",
       "      <td>0.0</td>\n",
       "      <td>0.501952</td>\n",
       "      <td>0.670391</td>\n",
       "      <td>0.111111</td>\n",
       "      <td>0.423540</td>\n",
       "      <td>0.231760</td>\n",
       "      <td>-0.142495</td>\n",
       "      <td>0.104159</td>\n",
       "      <td>...</td>\n",
       "      <td>0.318117</td>\n",
       "      <td>0.341525</td>\n",
       "      <td>0.351537</td>\n",
       "      <td>0.429466</td>\n",
       "      <td>0.573626</td>\n",
       "      <td>0.702962</td>\n",
       "      <td>0.743557</td>\n",
       "      <td>0.812532</td>\n",
       "      <td>0.859920</td>\n",
       "      <td>0.888489</td>\n",
       "    </tr>\n",
       "    <tr>\n",
       "      <th>2307</th>\n",
       "      <td>0</td>\n",
       "      <td>1.050525</td>\n",
       "      <td>0.0</td>\n",
       "      <td>0.441989</td>\n",
       "      <td>0.925241</td>\n",
       "      <td>1.168614</td>\n",
       "      <td>0.798403</td>\n",
       "      <td>1.093605</td>\n",
       "      <td>0.959937</td>\n",
       "      <td>0.650519</td>\n",
       "      <td>...</td>\n",
       "      <td>1.048118</td>\n",
       "      <td>1.127346</td>\n",
       "      <td>1.154542</td>\n",
       "      <td>1.168614</td>\n",
       "      <td>1.246867</td>\n",
       "      <td>1.388359</td>\n",
       "      <td>1.516040</td>\n",
       "      <td>1.558842</td>\n",
       "      <td>1.628764</td>\n",
       "      <td>1.677852</td>\n",
       "    </tr>\n",
       "    <tr>\n",
       "      <th>2308</th>\n",
       "      <td>1</td>\n",
       "      <td>-1.356008</td>\n",
       "      <td>0.0</td>\n",
       "      <td>-1.196772</td>\n",
       "      <td>-1.297498</td>\n",
       "      <td>-1.100432</td>\n",
       "      <td>-0.981814</td>\n",
       "      <td>-1.324933</td>\n",
       "      <td>-1.114206</td>\n",
       "      <td>-1.251739</td>\n",
       "      <td>...</td>\n",
       "      <td>-1.259586</td>\n",
       "      <td>-1.253570</td>\n",
       "      <td>-1.186458</td>\n",
       "      <td>-1.166028</td>\n",
       "      <td>-1.157035</td>\n",
       "      <td>-1.088104</td>\n",
       "      <td>-0.959714</td>\n",
       "      <td>-0.843265</td>\n",
       "      <td>-0.805243</td>\n",
       "      <td>-0.741551</td>\n",
       "    </tr>\n",
       "    <tr>\n",
       "      <th>2309</th>\n",
       "      <td>1</td>\n",
       "      <td>-0.788363</td>\n",
       "      <td>0.0</td>\n",
       "      <td>0.336889</td>\n",
       "      <td>-0.353160</td>\n",
       "      <td>-0.473406</td>\n",
       "      <td>-0.345751</td>\n",
       "      <td>-0.260465</td>\n",
       "      <td>-0.564388</td>\n",
       "      <td>-0.390190</td>\n",
       "      <td>...</td>\n",
       "      <td>-0.481324</td>\n",
       "      <td>-0.552794</td>\n",
       "      <td>-0.549565</td>\n",
       "      <td>-0.488077</td>\n",
       "      <td>-0.470326</td>\n",
       "      <td>-0.463194</td>\n",
       "      <td>-0.398517</td>\n",
       "      <td>-0.276368</td>\n",
       "      <td>-0.165063</td>\n",
       "      <td>-0.128785</td>\n",
       "    </tr>\n",
       "  </tbody>\n",
       "</table>\n",
       "<p>10 rows × 24 columns</p>\n",
       "</div>"
      ],
      "text/plain": [
       "      UP_DOWN    BIAS10  BIAS1     BIAS2     BIAS3     BIAS4     BIAS5  \\\n",
       "2300        0  2.819884    0.0  2.102933  2.766431  2.842809  2.819884   \n",
       "2301        0  1.024157    0.0 -0.819672  0.294714  0.819331  0.934268   \n",
       "2302        1 -1.270337    0.0 -1.198773 -2.135493 -1.569226 -1.259334   \n",
       "2303        0  1.666667    0.0  1.610217  1.347609  0.798678  1.317684   \n",
       "2304        0 -0.822771    0.0 -1.272828 -0.631266 -0.902652 -1.392881   \n",
       "2305        1 -0.651556    0.0  0.000000 -0.852167 -0.474198 -0.723428   \n",
       "2306        1  0.317319    0.0  0.501952  0.670391  0.111111  0.423540   \n",
       "2307        0  1.050525    0.0  0.441989  0.925241  1.168614  0.798403   \n",
       "2308        1 -1.356008    0.0 -1.196772 -1.297498 -1.100432 -0.981814   \n",
       "2309        1 -0.788363    0.0  0.336889 -0.353160 -0.473406 -0.345751   \n",
       "\n",
       "         BIAS6     BIAS7     BIAS8    ...       BIAS14    BIAS15    BIAS16  \\\n",
       "2300  2.623528  2.638480  2.778358    ...     3.373754  3.457944  3.509941   \n",
       "2301  0.954853  0.817331  0.847340    ...     1.530347  1.578240  1.662874   \n",
       "2302 -1.217133 -1.234175 -1.377487    ...    -0.970021 -0.817195 -0.776930   \n",
       "2303  1.638434  1.723180  1.744388    ...     1.937691  2.116737  2.273918   \n",
       "2304 -1.026352 -0.786526 -0.730333    ...    -0.672102 -0.583275 -0.422118   \n",
       "2305 -1.163435 -0.881022 -0.688887    ...    -0.636537 -0.627576 -0.547019   \n",
       "2306  0.231760 -0.142495  0.104159    ...     0.318117  0.341525  0.351537   \n",
       "2307  1.093605  0.959937  0.650519    ...     1.048118  1.127346  1.154542   \n",
       "2308 -1.324933 -1.114206 -1.251739    ...    -1.259586 -1.253570 -1.186458   \n",
       "2309 -0.260465 -0.564388 -0.390190    ...    -0.481324 -0.552794 -0.549565   \n",
       "\n",
       "        BIAS17    BIAS18    BIAS19    BIAS20    BIAS21    BIAS22    BIAS23  \n",
       "2300  3.535354  3.567642  3.382683  3.182149  3.001382  2.788118  2.579288  \n",
       "2301  1.717545  1.747174  1.782710  1.615206  1.431727  1.265502  1.067693  \n",
       "2302 -0.702113 -0.654083 -0.628671 -0.597425 -0.754767 -0.927597 -1.084872  \n",
       "2303  2.322063  2.403084  2.457567  2.489429  2.526479  2.377622  2.212293  \n",
       "2304 -0.279486 -0.236113 -0.161998 -0.111982 -0.082678 -0.048387 -0.187307  \n",
       "2305 -0.397386 -0.264000 -0.223714 -0.153911 -0.106655 -0.078923 -0.046284  \n",
       "2306  0.429466  0.573626  0.702962  0.743557  0.812532  0.859920  0.888489  \n",
       "2307  1.168614  1.246867  1.388359  1.516040  1.558842  1.628764  1.677852  \n",
       "2308 -1.166028 -1.157035 -1.088104 -0.959714 -0.843265 -0.805243 -0.741551  \n",
       "2309 -0.488077 -0.470326 -0.463194 -0.398517 -0.276368 -0.165063 -0.128785  \n",
       "\n",
       "[10 rows x 24 columns]"
      ]
     },
     "execution_count": 169,
     "metadata": {},
     "output_type": "execute_result"
    }
   ],
   "source": [
    "train_data[2300:n]"
   ]
  },
  {
   "cell_type": "code",
   "execution_count": 170,
   "metadata": {
    "collapsed": false
   },
   "outputs": [],
   "source": [
    "#test_data"
   ]
  },
  {
   "cell_type": "code",
   "execution_count": 171,
   "metadata": {
    "collapsed": false
   },
   "outputs": [],
   "source": [
    "#X_train_sql = sql_sc.createDataFrame(X_train)\n",
    "#Y_train_sql = sql_sc.createDataFrame(Y_train)\n",
    "#X_test_sql = sql_sc.createDataFrame(X_test)\n",
    "#Y_test_sql = sql_sc.createDataFrame(Y_test)"
   ]
  },
  {
   "cell_type": "code",
   "execution_count": 34,
   "metadata": {
    "collapsed": false
   },
   "outputs": [],
   "source": [
    "#Y_train_sql.show(2)"
   ]
  },
  {
   "cell_type": "code",
   "execution_count": 35,
   "metadata": {
    "collapsed": false
   },
   "outputs": [],
   "source": [
    "#X_train_sql.show(2)"
   ]
  },
  {
   "cell_type": "code",
   "execution_count": 172,
   "metadata": {
    "collapsed": false
   },
   "outputs": [
    {
     "name": "stdout",
     "output_type": "stream",
     "text": [
      "+-------+------+-----+-----+-----+-----+-----+-----+-----+-----+-----+------+------+------+------+------+------+------+------+------+------+------+------+------+\n",
      "|UP_DOWN|BIAS10|BIAS1|BIAS2|BIAS3|BIAS4|BIAS5|BIAS6|BIAS7|BIAS8|BIAS9|BIAS11|BIAS12|BIAS13|BIAS14|BIAS15|BIAS16|BIAS17|BIAS18|BIAS19|BIAS20|BIAS21|BIAS22|BIAS23|\n",
      "+-------+------+-----+-----+-----+-----+-----+-----+-----+-----+-----+------+------+------+------+------+------+------+------+------+------+------+------+------+\n",
      "|      0|   0.0|  0.0|  0.0|  0.0|  0.0|  0.0|  0.0|  0.0|  0.0|  0.0|   0.0|   0.0|   0.0|   0.0|   0.0|   0.0|   0.0|   0.0|   0.0|   0.0|   0.0|   0.0|   0.0|\n",
      "|      0|   0.0|  0.0|  0.0|  0.0|  0.0|  0.0|  0.0|  0.0|  0.0|  0.0|   0.0|   0.0|   0.0|   0.0|   0.0|   0.0|   0.0|   0.0|   0.0|   0.0|   0.0|   0.0|   0.0|\n",
      "+-------+------+-----+-----+-----+-----+-----+-----+-----+-----+-----+------+------+------+------+------+------+------+------+------+------+------+------+------+\n",
      "only showing top 2 rows\n",
      "\n"
     ]
    }
   ],
   "source": [
    "train_sql.show(2)"
   ]
  },
  {
   "cell_type": "code",
   "execution_count": 173,
   "metadata": {
    "collapsed": false
   },
   "outputs": [],
   "source": [
    "from pyspark.ml.feature import StringIndexer, VectorIndexer\n",
    "from pyspark.ml.feature import VectorAssembler\n",
    "from pyspark.ml import Pipeline\n",
    "from pyspark.ml.evaluation import MulticlassClassificationEvaluator\n",
    "from pyspark.ml.classification import RandomForestClassifier"
   ]
  },
  {
   "cell_type": "code",
   "execution_count": 174,
   "metadata": {
    "collapsed": false
   },
   "outputs": [
    {
     "name": "stdout",
     "output_type": "stream",
     "text": [
      "+-------+------+-----+-----+-----+-----+-----+-----+-----+-----+-----+------+------+------+------+------+------+------+------+------+------+------+------+------+\n",
      "|UP_DOWN|BIAS10|BIAS1|BIAS2|BIAS3|BIAS4|BIAS5|BIAS6|BIAS7|BIAS8|BIAS9|BIAS11|BIAS12|BIAS13|BIAS14|BIAS15|BIAS16|BIAS17|BIAS18|BIAS19|BIAS20|BIAS21|BIAS22|BIAS23|\n",
      "+-------+------+-----+-----+-----+-----+-----+-----+-----+-----+-----+------+------+------+------+------+------+------+------+------+------+------+------+------+\n",
      "|      0|   0.0|  0.0|  0.0|  0.0|  0.0|  0.0|  0.0|  0.0|  0.0|  0.0|   0.0|   0.0|   0.0|   0.0|   0.0|   0.0|   0.0|   0.0|   0.0|   0.0|   0.0|   0.0|   0.0|\n",
      "|      0|   0.0|  0.0|  0.0|  0.0|  0.0|  0.0|  0.0|  0.0|  0.0|  0.0|   0.0|   0.0|   0.0|   0.0|   0.0|   0.0|   0.0|   0.0|   0.0|   0.0|   0.0|   0.0|   0.0|\n",
      "+-------+------+-----+-----+-----+-----+-----+-----+-----+-----+-----+------+------+------+------+------+------+------+------+------+------+------+------+------+\n",
      "only showing top 2 rows\n",
      "\n"
     ]
    }
   ],
   "source": [
    "train_sql.show(2)"
   ]
  },
  {
   "cell_type": "code",
   "execution_count": 175,
   "metadata": {
    "collapsed": true
   },
   "outputs": [],
   "source": [
    "#assembler = VectorAssembler(inputCols=[\"BIAS1\",\"BIAS2\"],outputCol=\"features\")\n",
    "#output = assembler.transform(X_train_sql)"
   ]
  },
  {
   "cell_type": "code",
   "execution_count": 176,
   "metadata": {
    "collapsed": false
   },
   "outputs": [],
   "source": [
    "#train_sql.show()"
   ]
  },
  {
   "cell_type": "code",
   "execution_count": 177,
   "metadata": {
    "collapsed": false
   },
   "outputs": [],
   "source": [
    "assembler1 = VectorAssembler(inputCols=[\"BIAS1\", \"BIAS2\", \"BIAS3\",\"BIAS4\",\"BIAS5\",\"BIAS6\"\n",
    "                                       ,\"BIAS7\",\"BIAS8\",\"BIAS9\",\"BIAS10\",\"BIAS11\",\"BIAS12\"\n",
    "                                       ,\"BIAS13\",\"BIAS14\",\"BIAS15\",\"BIAS16\",\"BIAS17\",\"BIAS18\"\n",
    "                                       ,\"BIAS19\",\"BIAS20\",\"BIAS21\",\"BIAS22\",\"BIAS23\"],outputCol=\"features\")\n",
    "train_sql = assembler1.transform(train_sql)"
   ]
  },
  {
   "cell_type": "code",
   "execution_count": 178,
   "metadata": {
    "collapsed": true
   },
   "outputs": [],
   "source": [
    "#assembler2 = VectorAssembler(inputCols=[\"UP_DOWN\"],outputCol=\"indexedLabel\")\n",
    "#train_sql = assembler2.transform(train_sql)"
   ]
  },
  {
   "cell_type": "code",
   "execution_count": 179,
   "metadata": {
    "collapsed": false
   },
   "outputs": [
    {
     "name": "stdout",
     "output_type": "stream",
     "text": [
      "+-------+------+-----+-----+-----+-----+-----+-----+-----+-----+-----+------+------+------+------+------+------+------+------+------+------+------+------+------+----------+\n",
      "|UP_DOWN|BIAS10|BIAS1|BIAS2|BIAS3|BIAS4|BIAS5|BIAS6|BIAS7|BIAS8|BIAS9|BIAS11|BIAS12|BIAS13|BIAS14|BIAS15|BIAS16|BIAS17|BIAS18|BIAS19|BIAS20|BIAS21|BIAS22|BIAS23|  features|\n",
      "+-------+------+-----+-----+-----+-----+-----+-----+-----+-----+-----+------+------+------+------+------+------+------+------+------+------+------+------+------+----------+\n",
      "|      0|   0.0|  0.0|  0.0|  0.0|  0.0|  0.0|  0.0|  0.0|  0.0|  0.0|   0.0|   0.0|   0.0|   0.0|   0.0|   0.0|   0.0|   0.0|   0.0|   0.0|   0.0|   0.0|   0.0|(23,[],[])|\n",
      "|      0|   0.0|  0.0|  0.0|  0.0|  0.0|  0.0|  0.0|  0.0|  0.0|  0.0|   0.0|   0.0|   0.0|   0.0|   0.0|   0.0|   0.0|   0.0|   0.0|   0.0|   0.0|   0.0|   0.0|(23,[],[])|\n",
      "+-------+------+-----+-----+-----+-----+-----+-----+-----+-----+-----+------+------+------+------+------+------+------+------+------+------+------+------+------+----------+\n",
      "only showing top 2 rows\n",
      "\n"
     ]
    }
   ],
   "source": [
    "train_sql.show(2)"
   ]
  },
  {
   "cell_type": "code",
   "execution_count": 180,
   "metadata": {
    "collapsed": false
   },
   "outputs": [
    {
     "name": "stdout",
     "output_type": "stream",
     "text": [
      "+--------------------+\n",
      "|            features|\n",
      "+--------------------+\n",
      "|          (23,[],[])|\n",
      "|          (23,[],[])|\n",
      "|(23,[1],[-0.63897...|\n",
      "|(23,[1,2],[-0.810...|\n",
      "|(23,[1,2,3],[-0.9...|\n",
      "+--------------------+\n",
      "only showing top 5 rows\n",
      "\n"
     ]
    }
   ],
   "source": [
    "train_sql.select(\"features\").show(5)"
   ]
  },
  {
   "cell_type": "code",
   "execution_count": 181,
   "metadata": {
    "collapsed": false
   },
   "outputs": [
    {
     "name": "stdout",
     "output_type": "stream",
     "text": [
      "+-------+\n",
      "|UP_DOWN|\n",
      "+-------+\n",
      "|      0|\n",
      "|      0|\n",
      "|      0|\n",
      "|      0|\n",
      "|      0|\n",
      "+-------+\n",
      "only showing top 5 rows\n",
      "\n"
     ]
    }
   ],
   "source": [
    "train_sql.select(\"UP_DOWN\").show(5)"
   ]
  },
  {
   "cell_type": "code",
   "execution_count": 182,
   "metadata": {
    "collapsed": false
   },
   "outputs": [
    {
     "name": "stdout",
     "output_type": "stream",
     "text": [
      "+-------+------+-----+-----+-----+-----+-----+-----+-----+-----+-----+------+------+------+------+------+------+------+------+------+------+------+------+------+----------+\n",
      "|UP_DOWN|BIAS10|BIAS1|BIAS2|BIAS3|BIAS4|BIAS5|BIAS6|BIAS7|BIAS8|BIAS9|BIAS11|BIAS12|BIAS13|BIAS14|BIAS15|BIAS16|BIAS17|BIAS18|BIAS19|BIAS20|BIAS21|BIAS22|BIAS23|  features|\n",
      "+-------+------+-----+-----+-----+-----+-----+-----+-----+-----+-----+------+------+------+------+------+------+------+------+------+------+------+------+------+----------+\n",
      "|      0|   0.0|  0.0|  0.0|  0.0|  0.0|  0.0|  0.0|  0.0|  0.0|  0.0|   0.0|   0.0|   0.0|   0.0|   0.0|   0.0|   0.0|   0.0|   0.0|   0.0|   0.0|   0.0|   0.0|(23,[],[])|\n",
      "|      0|   0.0|  0.0|  0.0|  0.0|  0.0|  0.0|  0.0|  0.0|  0.0|  0.0|   0.0|   0.0|   0.0|   0.0|   0.0|   0.0|   0.0|   0.0|   0.0|   0.0|   0.0|   0.0|   0.0|(23,[],[])|\n",
      "+-------+------+-----+-----+-----+-----+-----+-----+-----+-----+-----+------+------+------+------+------+------+------+------+------+------+------+------+------+----------+\n",
      "only showing top 2 rows\n",
      "\n"
     ]
    }
   ],
   "source": [
    "train_sql.show(2)"
   ]
  },
  {
   "cell_type": "code",
   "execution_count": 183,
   "metadata": {
    "collapsed": false
   },
   "outputs": [],
   "source": [
    "labelIndexer = StringIndexer(inputCol = \"UP_DOWN\", outputCol=\"indexedLabel\").fit(train_sql)"
   ]
  },
  {
   "cell_type": "code",
   "execution_count": 184,
   "metadata": {
    "collapsed": false
   },
   "outputs": [],
   "source": [
    "featureIndexer = VectorIndexer(inputCol = \"features\", outputCol=\"indexedFeatures\").fit(train_sql)"
   ]
  },
  {
   "cell_type": "code",
   "execution_count": 185,
   "metadata": {
    "collapsed": false
   },
   "outputs": [],
   "source": [
    "#rf = RandomForestClassifier(labelCol=\"labelIndexer\", featuresCol=\"features\")\n",
    "rf = RandomForestClassifier(labelCol=\"indexedLabel\", featuresCol=\"indexedFeatures\",maxDepth=2)"
   ]
  },
  {
   "cell_type": "code",
   "execution_count": 187,
   "metadata": {
    "collapsed": false
   },
   "outputs": [
    {
     "data": {
      "text/plain": [
       "RandomForestClassifier_4b1d9faba114687d4954"
      ]
     },
     "execution_count": 187,
     "metadata": {},
     "output_type": "execute_result"
    }
   ],
   "source": [
    "rf"
   ]
  },
  {
   "cell_type": "code",
   "execution_count": 188,
   "metadata": {
    "collapsed": false
   },
   "outputs": [],
   "source": [
    "# Chain indexers and forest in a Pipeline\n",
    "pipeline = Pipeline(stages=[labelIndexer,featureIndexer,rf])"
   ]
  },
  {
   "cell_type": "code",
   "execution_count": 189,
   "metadata": {
    "collapsed": false
   },
   "outputs": [
    {
     "name": "stdout",
     "output_type": "stream",
     "text": [
      "+-------+------+-----+-----+-----+-----+-----+-----+-----+-----+-----+------+------+------+------+------+------+------+------+------+------+------+------+------+----------+\n",
      "|UP_DOWN|BIAS10|BIAS1|BIAS2|BIAS3|BIAS4|BIAS5|BIAS6|BIAS7|BIAS8|BIAS9|BIAS11|BIAS12|BIAS13|BIAS14|BIAS15|BIAS16|BIAS17|BIAS18|BIAS19|BIAS20|BIAS21|BIAS22|BIAS23|  features|\n",
      "+-------+------+-----+-----+-----+-----+-----+-----+-----+-----+-----+------+------+------+------+------+------+------+------+------+------+------+------+------+----------+\n",
      "|      0|   0.0|  0.0|  0.0|  0.0|  0.0|  0.0|  0.0|  0.0|  0.0|  0.0|   0.0|   0.0|   0.0|   0.0|   0.0|   0.0|   0.0|   0.0|   0.0|   0.0|   0.0|   0.0|   0.0|(23,[],[])|\n",
      "+-------+------+-----+-----+-----+-----+-----+-----+-----+-----+-----+------+------+------+------+------+------+------+------+------+------+------+------+------+----------+\n",
      "only showing top 1 row\n",
      "\n"
     ]
    }
   ],
   "source": [
    "train_sql.show(1)"
   ]
  },
  {
   "cell_type": "code",
   "execution_count": 190,
   "metadata": {
    "collapsed": false
   },
   "outputs": [],
   "source": [
    "model = pipeline.fit(train_sql)"
   ]
  },
  {
   "cell_type": "code",
   "execution_count": 191,
   "metadata": {
    "collapsed": true
   },
   "outputs": [],
   "source": [
    "assembler = VectorAssembler(inputCols=[\"BIAS1\", \"BIAS2\", \"BIAS3\",\"BIAS4\",\"BIAS5\",\"BIAS6\"\n",
    "                                       ,\"BIAS7\",\"BIAS8\",\"BIAS9\",\"BIAS10\",\"BIAS11\",\"BIAS12\"\n",
    "                                       ,\"BIAS13\",\"BIAS14\",\"BIAS15\",\"BIAS16\",\"BIAS17\",\"BIAS18\"\n",
    "                                       ,\"BIAS19\",\"BIAS20\",\"BIAS21\",\"BIAS22\",\"BIAS23\"],outputCol=\"features\")\n",
    "test_sql = assembler.transform(test_sql)"
   ]
  },
  {
   "cell_type": "code",
   "execution_count": 192,
   "metadata": {
    "collapsed": false
   },
   "outputs": [],
   "source": [
    "predictions = model.transform(test_sql)"
   ]
  },
  {
   "cell_type": "code",
   "execution_count": 193,
   "metadata": {
    "collapsed": false
   },
   "outputs": [
    {
     "name": "stdout",
     "output_type": "stream",
     "text": [
      "+-------+-------------------+-----+-------------------+-------------------+-------------------+--------------------+--------------------+--------------------+-------------------+-------------------+-------------------+--------------------+--------------------+--------------------+-------------------+-------------------+-------------------+--------------------+-------------------+-------------------+------------------+--------------------+--------------------+--------------------+------------+--------------------+--------------------+--------------------+----------+\n",
      "|UP_DOWN|             BIAS10|BIAS1|              BIAS2|              BIAS3|              BIAS4|               BIAS5|               BIAS6|               BIAS7|              BIAS8|              BIAS9|             BIAS11|              BIAS12|              BIAS13|              BIAS14|             BIAS15|             BIAS16|             BIAS17|              BIAS18|             BIAS19|             BIAS20|            BIAS21|              BIAS22|              BIAS23|            features|indexedLabel|     indexedFeatures|       rawPrediction|         probability|prediction|\n",
      "+-------+-------------------+-----+-------------------+-------------------+-------------------+--------------------+--------------------+--------------------+-------------------+-------------------+-------------------+--------------------+--------------------+--------------------+-------------------+-------------------+-------------------+--------------------+-------------------+-------------------+------------------+--------------------+--------------------+--------------------+------------+--------------------+--------------------+--------------------+----------+\n",
      "|      1|-0.3174249596257847|  0.0|0.08386916410400096|0.33632286995514976|-0.1394700139469935|-0.24520731163620424|-0.14875418371142032|-0.07974481658693147|-0.3479471120389898|-0.1982406145459163|-0.5655994344005839|-0.42186268601364096|-0.31272758428651765|-0.29045478056738594|-0.2933640313416983|-0.3618146395769623|-0.3601833660772843|-0.30323658642243495|-0.2873226222587182|-0.2813292108854881|-0.220316937860012|-0.10400547931304124|0.002429012120774...|[0.0,0.0838691641...|         1.0|[0.0,0.0838691641...|[12.7218069343751...|[0.63609034671875...|       0.0|\n",
      "|      0| 0.9245850506850861|  0.0| 0.6107717934481011|  0.872146966041935| 1.1725293132328356|  0.8684034736139077|  0.8160237388724125|  0.9229789942711736| 1.0033444816053494| 0.7786429365962012| 0.8245232434619871|  0.6014620153604198|  0.7398537398965123|  0.8467501490757229|  0.872146966041955| 0.8733168644097251| 0.8116245581882574|  0.8160237388724125| 0.8731321418107311| 0.8908685968819607|0.8988942804868425|  0.9598581739901407|  1.0743821696214502|[0.0,0.6107717934...|         0.0|[0.0,0.6107717934...|[12.8558144658500...|[0.64279072329250...|       0.0|\n",
      "+-------+-------------------+-----+-------------------+-------------------+-------------------+--------------------+--------------------+--------------------+-------------------+-------------------+-------------------+--------------------+--------------------+--------------------+-------------------+-------------------+-------------------+--------------------+-------------------+-------------------+------------------+--------------------+--------------------+--------------------+------------+--------------------+--------------------+--------------------+----------+\n",
      "only showing top 2 rows\n",
      "\n"
     ]
    }
   ],
   "source": [
    "predictions.show(2)"
   ]
  },
  {
   "cell_type": "code",
   "execution_count": 194,
   "metadata": {
    "collapsed": false
   },
   "outputs": [
    {
     "name": "stdout",
     "output_type": "stream",
     "text": [
      "+----------+------------+--------------------+\n",
      "|prediction|indexedLabel|            features|\n",
      "+----------+------------+--------------------+\n",
      "|       0.0|         1.0|[0.0,0.0838691641...|\n",
      "|       0.0|         0.0|[0.0,0.6107717934...|\n",
      "|       0.0|         0.0|[0.0,-0.862788755...|\n",
      "|       0.0|         1.0|[0.0,-0.849377123...|\n",
      "|       0.0|         0.0|[0.0,0.0,-0.56785...|\n",
      "|       0.0|         0.0|[0.0,-0.458978772...|\n",
      "|       0.0|         0.0|[0.0,-0.434153400...|\n",
      "|       0.0|         1.0|[0.0,-0.437956204...|\n",
      "|       0.0|         0.0|[0.0,0.3506721215...|\n",
      "|       0.0|         1.0|[0.0,-0.262773722...|\n",
      "+----------+------------+--------------------+\n",
      "only showing top 10 rows\n",
      "\n"
     ]
    }
   ],
   "source": [
    "predictions.select(\"prediction\", \"indexedLabel\", \"features\").show(10)"
   ]
  },
  {
   "cell_type": "code",
   "execution_count": 195,
   "metadata": {
    "collapsed": false
   },
   "outputs": [],
   "source": [
    "evaluator = MulticlassClassificationEvaluator(labelCol=\"indexedLabel\", predictionCol=\"prediction\")#, metricName=\"accuracy\")"
   ]
  },
  {
   "cell_type": "code",
   "execution_count": 196,
   "metadata": {
    "collapsed": false
   },
   "outputs": [
    {
     "name": "stdout",
     "output_type": "stream",
     "text": [
      "Test Error = 0.565496\n"
     ]
    }
   ],
   "source": [
    "accuracy = evaluator.evaluate(predictions)\n",
    "print(\"Test Error = %g\" % (1.0 - accuracy))"
   ]
  },
  {
   "cell_type": "code",
   "execution_count": null,
   "metadata": {
    "collapsed": true
   },
   "outputs": [],
   "source": []
  },
  {
   "cell_type": "code",
   "execution_count": null,
   "metadata": {
    "collapsed": true
   },
   "outputs": [],
   "source": []
  },
  {
   "cell_type": "code",
   "execution_count": null,
   "metadata": {
    "collapsed": true
   },
   "outputs": [],
   "source": []
  },
  {
   "cell_type": "code",
   "execution_count": null,
   "metadata": {
    "collapsed": true
   },
   "outputs": [],
   "source": []
  },
  {
   "cell_type": "code",
   "execution_count": null,
   "metadata": {
    "collapsed": true
   },
   "outputs": [],
   "source": []
  },
  {
   "cell_type": "code",
   "execution_count": 187,
   "metadata": {
    "collapsed": true
   },
   "outputs": [],
   "source": [
    "evaluator1 = MulticlassClassificationEvaluator(labelCol=\"indexeLabel\", predictionCol=\"indexedFeatures\")#, metricName=\"accuracy\")"
   ]
  },
  {
   "cell_type": "code",
   "execution_count": 188,
   "metadata": {
    "collapsed": true
   },
   "outputs": [],
   "source": [
    "from pyspark.ml.tuning import CrossValidator, ParamGridBuilder\n",
    "paramGrid = ParamGridBuilder().addGrid(rf.maxDepth, [1,2,3,4,5,6,7]).build()\n",
    "cv = CrossValidator(estimator = pipeline, \n",
    "                    evaluator = evaluator1, \n",
    "                    estimatorParamMaps = paramGrid,\n",
    "                    numFolds = 3)\n"
   ]
  },
  {
   "cell_type": "code",
   "execution_count": 192,
   "metadata": {
    "collapsed": false
   },
   "outputs": [
    {
     "ename": "IllegalArgumentException",
     "evalue": "u'Field \"indexedFeatures\" does not exist.'",
     "output_type": "error",
     "traceback": [
      "\u001b[1;31m---------------------------------------------------------------------------\u001b[0m",
      "\u001b[1;31mIllegalArgumentException\u001b[0m                  Traceback (most recent call last)",
      "\u001b[1;32m<ipython-input-192-ff334138cdd4>\u001b[0m in \u001b[0;36m<module>\u001b[1;34m()\u001b[0m\n\u001b[0;32m     11\u001b[0m     numFolds=3)\n\u001b[0;32m     12\u001b[0m \u001b[1;33m\u001b[0m\u001b[0m\n\u001b[1;32m---> 13\u001b[1;33m \u001b[0mmodel\u001b[0m \u001b[1;33m=\u001b[0m \u001b[0mcrossval\u001b[0m\u001b[1;33m.\u001b[0m\u001b[0mfit\u001b[0m\u001b[1;33m(\u001b[0m\u001b[0mtrain_sql\u001b[0m\u001b[1;33m)\u001b[0m\u001b[1;33m\u001b[0m\u001b[0m\n\u001b[0m",
      "\u001b[1;32m/usr/local/spark/python/pyspark/ml/pipeline.pyc\u001b[0m in \u001b[0;36mfit\u001b[1;34m(self, dataset, params)\u001b[0m\n\u001b[0;32m     67\u001b[0m                 \u001b[1;32mreturn\u001b[0m \u001b[0mself\u001b[0m\u001b[1;33m.\u001b[0m\u001b[0mcopy\u001b[0m\u001b[1;33m(\u001b[0m\u001b[0mparams\u001b[0m\u001b[1;33m)\u001b[0m\u001b[1;33m.\u001b[0m\u001b[0m_fit\u001b[0m\u001b[1;33m(\u001b[0m\u001b[0mdataset\u001b[0m\u001b[1;33m)\u001b[0m\u001b[1;33m\u001b[0m\u001b[0m\n\u001b[0;32m     68\u001b[0m             \u001b[1;32melse\u001b[0m\u001b[1;33m:\u001b[0m\u001b[1;33m\u001b[0m\u001b[0m\n\u001b[1;32m---> 69\u001b[1;33m                 \u001b[1;32mreturn\u001b[0m \u001b[0mself\u001b[0m\u001b[1;33m.\u001b[0m\u001b[0m_fit\u001b[0m\u001b[1;33m(\u001b[0m\u001b[0mdataset\u001b[0m\u001b[1;33m)\u001b[0m\u001b[1;33m\u001b[0m\u001b[0m\n\u001b[0m\u001b[0;32m     70\u001b[0m         \u001b[1;32melse\u001b[0m\u001b[1;33m:\u001b[0m\u001b[1;33m\u001b[0m\u001b[0m\n\u001b[0;32m     71\u001b[0m             raise ValueError(\"Params must be either a param map or a list/tuple of param maps, \"\n",
      "\u001b[1;32m/usr/local/spark/python/pyspark/ml/tuning.pyc\u001b[0m in \u001b[0;36m_fit\u001b[1;34m(self, dataset)\u001b[0m\n\u001b[0;32m    237\u001b[0m             \u001b[0mtrain\u001b[0m \u001b[1;33m=\u001b[0m \u001b[0mdf\u001b[0m\u001b[1;33m.\u001b[0m\u001b[0mfilter\u001b[0m\u001b[1;33m(\u001b[0m\u001b[1;33m~\u001b[0m\u001b[0mcondition\u001b[0m\u001b[1;33m)\u001b[0m\u001b[1;33m\u001b[0m\u001b[0m\n\u001b[0;32m    238\u001b[0m             \u001b[1;32mfor\u001b[0m \u001b[0mj\u001b[0m \u001b[1;32min\u001b[0m \u001b[0mrange\u001b[0m\u001b[1;33m(\u001b[0m\u001b[0mnumModels\u001b[0m\u001b[1;33m)\u001b[0m\u001b[1;33m:\u001b[0m\u001b[1;33m\u001b[0m\u001b[0m\n\u001b[1;32m--> 239\u001b[1;33m                 \u001b[0mmodel\u001b[0m \u001b[1;33m=\u001b[0m \u001b[0mest\u001b[0m\u001b[1;33m.\u001b[0m\u001b[0mfit\u001b[0m\u001b[1;33m(\u001b[0m\u001b[0mtrain\u001b[0m\u001b[1;33m,\u001b[0m \u001b[0mepm\u001b[0m\u001b[1;33m[\u001b[0m\u001b[0mj\u001b[0m\u001b[1;33m]\u001b[0m\u001b[1;33m)\u001b[0m\u001b[1;33m\u001b[0m\u001b[0m\n\u001b[0m\u001b[0;32m    240\u001b[0m                 \u001b[1;31m# TODO: duplicate evaluator to take extra params from input\u001b[0m\u001b[1;33m\u001b[0m\u001b[1;33m\u001b[0m\u001b[0m\n\u001b[0;32m    241\u001b[0m                 \u001b[0mmetric\u001b[0m \u001b[1;33m=\u001b[0m \u001b[0meva\u001b[0m\u001b[1;33m.\u001b[0m\u001b[0mevaluate\u001b[0m\u001b[1;33m(\u001b[0m\u001b[0mmodel\u001b[0m\u001b[1;33m.\u001b[0m\u001b[0mtransform\u001b[0m\u001b[1;33m(\u001b[0m\u001b[0mvalidation\u001b[0m\u001b[1;33m,\u001b[0m \u001b[0mepm\u001b[0m\u001b[1;33m[\u001b[0m\u001b[0mj\u001b[0m\u001b[1;33m]\u001b[0m\u001b[1;33m)\u001b[0m\u001b[1;33m)\u001b[0m\u001b[1;33m\u001b[0m\u001b[0m\n",
      "\u001b[1;32m/usr/local/spark/python/pyspark/ml/pipeline.pyc\u001b[0m in \u001b[0;36mfit\u001b[1;34m(self, dataset, params)\u001b[0m\n\u001b[0;32m     65\u001b[0m         \u001b[1;32melif\u001b[0m \u001b[0misinstance\u001b[0m\u001b[1;33m(\u001b[0m\u001b[0mparams\u001b[0m\u001b[1;33m,\u001b[0m \u001b[0mdict\u001b[0m\u001b[1;33m)\u001b[0m\u001b[1;33m:\u001b[0m\u001b[1;33m\u001b[0m\u001b[0m\n\u001b[0;32m     66\u001b[0m             \u001b[1;32mif\u001b[0m \u001b[0mparams\u001b[0m\u001b[1;33m:\u001b[0m\u001b[1;33m\u001b[0m\u001b[0m\n\u001b[1;32m---> 67\u001b[1;33m                 \u001b[1;32mreturn\u001b[0m \u001b[0mself\u001b[0m\u001b[1;33m.\u001b[0m\u001b[0mcopy\u001b[0m\u001b[1;33m(\u001b[0m\u001b[0mparams\u001b[0m\u001b[1;33m)\u001b[0m\u001b[1;33m.\u001b[0m\u001b[0m_fit\u001b[0m\u001b[1;33m(\u001b[0m\u001b[0mdataset\u001b[0m\u001b[1;33m)\u001b[0m\u001b[1;33m\u001b[0m\u001b[0m\n\u001b[0m\u001b[0;32m     68\u001b[0m             \u001b[1;32melse\u001b[0m\u001b[1;33m:\u001b[0m\u001b[1;33m\u001b[0m\u001b[0m\n\u001b[0;32m     69\u001b[0m                 \u001b[1;32mreturn\u001b[0m \u001b[0mself\u001b[0m\u001b[1;33m.\u001b[0m\u001b[0m_fit\u001b[0m\u001b[1;33m(\u001b[0m\u001b[0mdataset\u001b[0m\u001b[1;33m)\u001b[0m\u001b[1;33m\u001b[0m\u001b[0m\n",
      "\u001b[1;32m/usr/local/spark/python/pyspark/ml/pipeline.pyc\u001b[0m in \u001b[0;36m_fit\u001b[1;34m(self, dataset)\u001b[0m\n\u001b[0;32m    211\u001b[0m                     \u001b[0mdataset\u001b[0m \u001b[1;33m=\u001b[0m \u001b[0mstage\u001b[0m\u001b[1;33m.\u001b[0m\u001b[0mtransform\u001b[0m\u001b[1;33m(\u001b[0m\u001b[0mdataset\u001b[0m\u001b[1;33m)\u001b[0m\u001b[1;33m\u001b[0m\u001b[0m\n\u001b[0;32m    212\u001b[0m                 \u001b[1;32melse\u001b[0m\u001b[1;33m:\u001b[0m  \u001b[1;31m# must be an Estimator\u001b[0m\u001b[1;33m\u001b[0m\u001b[0m\n\u001b[1;32m--> 213\u001b[1;33m                     \u001b[0mmodel\u001b[0m \u001b[1;33m=\u001b[0m \u001b[0mstage\u001b[0m\u001b[1;33m.\u001b[0m\u001b[0mfit\u001b[0m\u001b[1;33m(\u001b[0m\u001b[0mdataset\u001b[0m\u001b[1;33m)\u001b[0m\u001b[1;33m\u001b[0m\u001b[0m\n\u001b[0m\u001b[0;32m    214\u001b[0m                     \u001b[0mtransformers\u001b[0m\u001b[1;33m.\u001b[0m\u001b[0mappend\u001b[0m\u001b[1;33m(\u001b[0m\u001b[0mmodel\u001b[0m\u001b[1;33m)\u001b[0m\u001b[1;33m\u001b[0m\u001b[0m\n\u001b[0;32m    215\u001b[0m                     \u001b[1;32mif\u001b[0m \u001b[0mi\u001b[0m \u001b[1;33m<\u001b[0m \u001b[0mindexOfLastEstimator\u001b[0m\u001b[1;33m:\u001b[0m\u001b[1;33m\u001b[0m\u001b[0m\n",
      "\u001b[1;32m/usr/local/spark/python/pyspark/ml/pipeline.pyc\u001b[0m in \u001b[0;36mfit\u001b[1;34m(self, dataset, params)\u001b[0m\n\u001b[0;32m     67\u001b[0m                 \u001b[1;32mreturn\u001b[0m \u001b[0mself\u001b[0m\u001b[1;33m.\u001b[0m\u001b[0mcopy\u001b[0m\u001b[1;33m(\u001b[0m\u001b[0mparams\u001b[0m\u001b[1;33m)\u001b[0m\u001b[1;33m.\u001b[0m\u001b[0m_fit\u001b[0m\u001b[1;33m(\u001b[0m\u001b[0mdataset\u001b[0m\u001b[1;33m)\u001b[0m\u001b[1;33m\u001b[0m\u001b[0m\n\u001b[0;32m     68\u001b[0m             \u001b[1;32melse\u001b[0m\u001b[1;33m:\u001b[0m\u001b[1;33m\u001b[0m\u001b[0m\n\u001b[1;32m---> 69\u001b[1;33m                 \u001b[1;32mreturn\u001b[0m \u001b[0mself\u001b[0m\u001b[1;33m.\u001b[0m\u001b[0m_fit\u001b[0m\u001b[1;33m(\u001b[0m\u001b[0mdataset\u001b[0m\u001b[1;33m)\u001b[0m\u001b[1;33m\u001b[0m\u001b[0m\n\u001b[0m\u001b[0;32m     70\u001b[0m         \u001b[1;32melse\u001b[0m\u001b[1;33m:\u001b[0m\u001b[1;33m\u001b[0m\u001b[0m\n\u001b[0;32m     71\u001b[0m             raise ValueError(\"Params must be either a param map or a list/tuple of param maps, \"\n",
      "\u001b[1;32m/usr/local/spark/python/pyspark/ml/wrapper.pyc\u001b[0m in \u001b[0;36m_fit\u001b[1;34m(self, dataset)\u001b[0m\n\u001b[0;32m    130\u001b[0m \u001b[1;33m\u001b[0m\u001b[0m\n\u001b[0;32m    131\u001b[0m     \u001b[1;32mdef\u001b[0m \u001b[0m_fit\u001b[0m\u001b[1;33m(\u001b[0m\u001b[0mself\u001b[0m\u001b[1;33m,\u001b[0m \u001b[0mdataset\u001b[0m\u001b[1;33m)\u001b[0m\u001b[1;33m:\u001b[0m\u001b[1;33m\u001b[0m\u001b[0m\n\u001b[1;32m--> 132\u001b[1;33m         \u001b[0mjava_model\u001b[0m \u001b[1;33m=\u001b[0m \u001b[0mself\u001b[0m\u001b[1;33m.\u001b[0m\u001b[0m_fit_java\u001b[0m\u001b[1;33m(\u001b[0m\u001b[0mdataset\u001b[0m\u001b[1;33m)\u001b[0m\u001b[1;33m\u001b[0m\u001b[0m\n\u001b[0m\u001b[0;32m    133\u001b[0m         \u001b[1;32mreturn\u001b[0m \u001b[0mself\u001b[0m\u001b[1;33m.\u001b[0m\u001b[0m_create_model\u001b[0m\u001b[1;33m(\u001b[0m\u001b[0mjava_model\u001b[0m\u001b[1;33m)\u001b[0m\u001b[1;33m\u001b[0m\u001b[0m\n\u001b[0;32m    134\u001b[0m \u001b[1;33m\u001b[0m\u001b[0m\n",
      "\u001b[1;32m/usr/local/spark/python/pyspark/ml/wrapper.pyc\u001b[0m in \u001b[0;36m_fit_java\u001b[1;34m(self, dataset)\u001b[0m\n\u001b[0;32m    127\u001b[0m         \"\"\"\n\u001b[0;32m    128\u001b[0m         \u001b[0mself\u001b[0m\u001b[1;33m.\u001b[0m\u001b[0m_transfer_params_to_java\u001b[0m\u001b[1;33m(\u001b[0m\u001b[1;33m)\u001b[0m\u001b[1;33m\u001b[0m\u001b[0m\n\u001b[1;32m--> 129\u001b[1;33m         \u001b[1;32mreturn\u001b[0m \u001b[0mself\u001b[0m\u001b[1;33m.\u001b[0m\u001b[0m_java_obj\u001b[0m\u001b[1;33m.\u001b[0m\u001b[0mfit\u001b[0m\u001b[1;33m(\u001b[0m\u001b[0mdataset\u001b[0m\u001b[1;33m.\u001b[0m\u001b[0m_jdf\u001b[0m\u001b[1;33m)\u001b[0m\u001b[1;33m\u001b[0m\u001b[0m\n\u001b[0m\u001b[0;32m    130\u001b[0m \u001b[1;33m\u001b[0m\u001b[0m\n\u001b[0;32m    131\u001b[0m     \u001b[1;32mdef\u001b[0m \u001b[0m_fit\u001b[0m\u001b[1;33m(\u001b[0m\u001b[0mself\u001b[0m\u001b[1;33m,\u001b[0m \u001b[0mdataset\u001b[0m\u001b[1;33m)\u001b[0m\u001b[1;33m:\u001b[0m\u001b[1;33m\u001b[0m\u001b[0m\n",
      "\u001b[1;32m/usr/local/spark/python/lib/py4j-0.9-src.zip/py4j/java_gateway.py\u001b[0m in \u001b[0;36m__call__\u001b[1;34m(self, *args)\u001b[0m\n\u001b[0;32m    811\u001b[0m         \u001b[0manswer\u001b[0m \u001b[1;33m=\u001b[0m \u001b[0mself\u001b[0m\u001b[1;33m.\u001b[0m\u001b[0mgateway_client\u001b[0m\u001b[1;33m.\u001b[0m\u001b[0msend_command\u001b[0m\u001b[1;33m(\u001b[0m\u001b[0mcommand\u001b[0m\u001b[1;33m)\u001b[0m\u001b[1;33m\u001b[0m\u001b[0m\n\u001b[0;32m    812\u001b[0m         return_value = get_return_value(\n\u001b[1;32m--> 813\u001b[1;33m             answer, self.gateway_client, self.target_id, self.name)\n\u001b[0m\u001b[0;32m    814\u001b[0m \u001b[1;33m\u001b[0m\u001b[0m\n\u001b[0;32m    815\u001b[0m         \u001b[1;32mfor\u001b[0m \u001b[0mtemp_arg\u001b[0m \u001b[1;32min\u001b[0m \u001b[0mtemp_args\u001b[0m\u001b[1;33m:\u001b[0m\u001b[1;33m\u001b[0m\u001b[0m\n",
      "\u001b[1;32m/usr/local/spark/python/pyspark/sql/utils.pyc\u001b[0m in \u001b[0;36mdeco\u001b[1;34m(*a, **kw)\u001b[0m\n\u001b[0;32m     51\u001b[0m                 \u001b[1;32mraise\u001b[0m \u001b[0mAnalysisException\u001b[0m\u001b[1;33m(\u001b[0m\u001b[0ms\u001b[0m\u001b[1;33m.\u001b[0m\u001b[0msplit\u001b[0m\u001b[1;33m(\u001b[0m\u001b[1;34m': '\u001b[0m\u001b[1;33m,\u001b[0m \u001b[1;36m1\u001b[0m\u001b[1;33m)\u001b[0m\u001b[1;33m[\u001b[0m\u001b[1;36m1\u001b[0m\u001b[1;33m]\u001b[0m\u001b[1;33m,\u001b[0m \u001b[0mstackTrace\u001b[0m\u001b[1;33m)\u001b[0m\u001b[1;33m\u001b[0m\u001b[0m\n\u001b[0;32m     52\u001b[0m             \u001b[1;32mif\u001b[0m \u001b[0ms\u001b[0m\u001b[1;33m.\u001b[0m\u001b[0mstartswith\u001b[0m\u001b[1;33m(\u001b[0m\u001b[1;34m'java.lang.IllegalArgumentException: '\u001b[0m\u001b[1;33m)\u001b[0m\u001b[1;33m:\u001b[0m\u001b[1;33m\u001b[0m\u001b[0m\n\u001b[1;32m---> 53\u001b[1;33m                 \u001b[1;32mraise\u001b[0m \u001b[0mIllegalArgumentException\u001b[0m\u001b[1;33m(\u001b[0m\u001b[0ms\u001b[0m\u001b[1;33m.\u001b[0m\u001b[0msplit\u001b[0m\u001b[1;33m(\u001b[0m\u001b[1;34m': '\u001b[0m\u001b[1;33m,\u001b[0m \u001b[1;36m1\u001b[0m\u001b[1;33m)\u001b[0m\u001b[1;33m[\u001b[0m\u001b[1;36m1\u001b[0m\u001b[1;33m]\u001b[0m\u001b[1;33m,\u001b[0m \u001b[0mstackTrace\u001b[0m\u001b[1;33m)\u001b[0m\u001b[1;33m\u001b[0m\u001b[0m\n\u001b[0m\u001b[0;32m     54\u001b[0m             \u001b[1;32mraise\u001b[0m\u001b[1;33m\u001b[0m\u001b[0m\n\u001b[0;32m     55\u001b[0m     \u001b[1;32mreturn\u001b[0m \u001b[0mdeco\u001b[0m\u001b[1;33m\u001b[0m\u001b[0m\n",
      "\u001b[1;31mIllegalArgumentException\u001b[0m: u'Field \"indexedFeatures\" does not exist.'"
     ]
    }
   ],
   "source": [
    "#rf = RandomForestClassifier(labelCol=\"label\", featuresCol=\"features\")\n",
    "rf = RandomForestClassifier(labelCol=\"indexedLabel\", featuresCol=\"indexedFeatures\")\n",
    "evaluator = MulticlassClassificationEvaluator(labelCol=\"indexeLabel\", predictionCol=\"indexedFeatures\") # + other params as in Scala    \n",
    "\n",
    "pipeline = Pipeline(stages=[rf])\n",
    "\n",
    "crossval = CrossValidator(\n",
    "    estimator=pipeline,\n",
    "    estimatorParamMaps=paramGrid,\n",
    "    evaluator=evaluator,\n",
    "    numFolds=3)\n",
    "\n",
    "model = crossval.fit(train_sql)"
   ]
  },
  {
   "cell_type": "code",
   "execution_count": 189,
   "metadata": {
    "collapsed": false
   },
   "outputs": [
    {
     "ename": "IllegalArgumentException",
     "evalue": "u'Field \"indexedFeatures\" does not exist.'",
     "output_type": "error",
     "traceback": [
      "\u001b[1;31m---------------------------------------------------------------------------\u001b[0m",
      "\u001b[1;31mIllegalArgumentException\u001b[0m                  Traceback (most recent call last)",
      "\u001b[1;32m<ipython-input-189-c14423bb59e7>\u001b[0m in \u001b[0;36m<module>\u001b[1;34m()\u001b[0m\n\u001b[1;32m----> 1\u001b[1;33m \u001b[0mCV_model\u001b[0m \u001b[1;33m=\u001b[0m \u001b[0mcrossval\u001b[0m\u001b[1;33m.\u001b[0m\u001b[0mfit\u001b[0m\u001b[1;33m(\u001b[0m\u001b[0mtrain_sql\u001b[0m\u001b[1;33m)\u001b[0m\u001b[1;33m\u001b[0m\u001b[0m\n\u001b[0m\u001b[0;32m      2\u001b[0m \u001b[1;31m#rfModel = CV_model.bestModel\u001b[0m\u001b[1;33m\u001b[0m\u001b[1;33m\u001b[0m\u001b[0m\n\u001b[0;32m      3\u001b[0m \u001b[1;31m#print rfModel.stages[2]\u001b[0m\u001b[1;33m\u001b[0m\u001b[1;33m\u001b[0m\u001b[0m\n",
      "\u001b[1;32m/usr/local/spark/python/pyspark/ml/pipeline.pyc\u001b[0m in \u001b[0;36mfit\u001b[1;34m(self, dataset, params)\u001b[0m\n\u001b[0;32m     67\u001b[0m                 \u001b[1;32mreturn\u001b[0m \u001b[0mself\u001b[0m\u001b[1;33m.\u001b[0m\u001b[0mcopy\u001b[0m\u001b[1;33m(\u001b[0m\u001b[0mparams\u001b[0m\u001b[1;33m)\u001b[0m\u001b[1;33m.\u001b[0m\u001b[0m_fit\u001b[0m\u001b[1;33m(\u001b[0m\u001b[0mdataset\u001b[0m\u001b[1;33m)\u001b[0m\u001b[1;33m\u001b[0m\u001b[0m\n\u001b[0;32m     68\u001b[0m             \u001b[1;32melse\u001b[0m\u001b[1;33m:\u001b[0m\u001b[1;33m\u001b[0m\u001b[0m\n\u001b[1;32m---> 69\u001b[1;33m                 \u001b[1;32mreturn\u001b[0m \u001b[0mself\u001b[0m\u001b[1;33m.\u001b[0m\u001b[0m_fit\u001b[0m\u001b[1;33m(\u001b[0m\u001b[0mdataset\u001b[0m\u001b[1;33m)\u001b[0m\u001b[1;33m\u001b[0m\u001b[0m\n\u001b[0m\u001b[0;32m     70\u001b[0m         \u001b[1;32melse\u001b[0m\u001b[1;33m:\u001b[0m\u001b[1;33m\u001b[0m\u001b[0m\n\u001b[0;32m     71\u001b[0m             raise ValueError(\"Params must be either a param map or a list/tuple of param maps, \"\n",
      "\u001b[1;32m/usr/local/spark/python/pyspark/ml/tuning.pyc\u001b[0m in \u001b[0;36m_fit\u001b[1;34m(self, dataset)\u001b[0m\n\u001b[0;32m    237\u001b[0m             \u001b[0mtrain\u001b[0m \u001b[1;33m=\u001b[0m \u001b[0mdf\u001b[0m\u001b[1;33m.\u001b[0m\u001b[0mfilter\u001b[0m\u001b[1;33m(\u001b[0m\u001b[1;33m~\u001b[0m\u001b[0mcondition\u001b[0m\u001b[1;33m)\u001b[0m\u001b[1;33m\u001b[0m\u001b[0m\n\u001b[0;32m    238\u001b[0m             \u001b[1;32mfor\u001b[0m \u001b[0mj\u001b[0m \u001b[1;32min\u001b[0m \u001b[0mrange\u001b[0m\u001b[1;33m(\u001b[0m\u001b[0mnumModels\u001b[0m\u001b[1;33m)\u001b[0m\u001b[1;33m:\u001b[0m\u001b[1;33m\u001b[0m\u001b[0m\n\u001b[1;32m--> 239\u001b[1;33m                 \u001b[0mmodel\u001b[0m \u001b[1;33m=\u001b[0m \u001b[0mest\u001b[0m\u001b[1;33m.\u001b[0m\u001b[0mfit\u001b[0m\u001b[1;33m(\u001b[0m\u001b[0mtrain\u001b[0m\u001b[1;33m,\u001b[0m \u001b[0mepm\u001b[0m\u001b[1;33m[\u001b[0m\u001b[0mj\u001b[0m\u001b[1;33m]\u001b[0m\u001b[1;33m)\u001b[0m\u001b[1;33m\u001b[0m\u001b[0m\n\u001b[0m\u001b[0;32m    240\u001b[0m                 \u001b[1;31m# TODO: duplicate evaluator to take extra params from input\u001b[0m\u001b[1;33m\u001b[0m\u001b[1;33m\u001b[0m\u001b[0m\n\u001b[0;32m    241\u001b[0m                 \u001b[0mmetric\u001b[0m \u001b[1;33m=\u001b[0m \u001b[0meva\u001b[0m\u001b[1;33m.\u001b[0m\u001b[0mevaluate\u001b[0m\u001b[1;33m(\u001b[0m\u001b[0mmodel\u001b[0m\u001b[1;33m.\u001b[0m\u001b[0mtransform\u001b[0m\u001b[1;33m(\u001b[0m\u001b[0mvalidation\u001b[0m\u001b[1;33m,\u001b[0m \u001b[0mepm\u001b[0m\u001b[1;33m[\u001b[0m\u001b[0mj\u001b[0m\u001b[1;33m]\u001b[0m\u001b[1;33m)\u001b[0m\u001b[1;33m)\u001b[0m\u001b[1;33m\u001b[0m\u001b[0m\n",
      "\u001b[1;32m/usr/local/spark/python/pyspark/ml/pipeline.pyc\u001b[0m in \u001b[0;36mfit\u001b[1;34m(self, dataset, params)\u001b[0m\n\u001b[0;32m     65\u001b[0m         \u001b[1;32melif\u001b[0m \u001b[0misinstance\u001b[0m\u001b[1;33m(\u001b[0m\u001b[0mparams\u001b[0m\u001b[1;33m,\u001b[0m \u001b[0mdict\u001b[0m\u001b[1;33m)\u001b[0m\u001b[1;33m:\u001b[0m\u001b[1;33m\u001b[0m\u001b[0m\n\u001b[0;32m     66\u001b[0m             \u001b[1;32mif\u001b[0m \u001b[0mparams\u001b[0m\u001b[1;33m:\u001b[0m\u001b[1;33m\u001b[0m\u001b[0m\n\u001b[1;32m---> 67\u001b[1;33m                 \u001b[1;32mreturn\u001b[0m \u001b[0mself\u001b[0m\u001b[1;33m.\u001b[0m\u001b[0mcopy\u001b[0m\u001b[1;33m(\u001b[0m\u001b[0mparams\u001b[0m\u001b[1;33m)\u001b[0m\u001b[1;33m.\u001b[0m\u001b[0m_fit\u001b[0m\u001b[1;33m(\u001b[0m\u001b[0mdataset\u001b[0m\u001b[1;33m)\u001b[0m\u001b[1;33m\u001b[0m\u001b[0m\n\u001b[0m\u001b[0;32m     68\u001b[0m             \u001b[1;32melse\u001b[0m\u001b[1;33m:\u001b[0m\u001b[1;33m\u001b[0m\u001b[0m\n\u001b[0;32m     69\u001b[0m                 \u001b[1;32mreturn\u001b[0m \u001b[0mself\u001b[0m\u001b[1;33m.\u001b[0m\u001b[0m_fit\u001b[0m\u001b[1;33m(\u001b[0m\u001b[0mdataset\u001b[0m\u001b[1;33m)\u001b[0m\u001b[1;33m\u001b[0m\u001b[0m\n",
      "\u001b[1;32m/usr/local/spark/python/pyspark/ml/wrapper.pyc\u001b[0m in \u001b[0;36m_fit\u001b[1;34m(self, dataset)\u001b[0m\n\u001b[0;32m    130\u001b[0m \u001b[1;33m\u001b[0m\u001b[0m\n\u001b[0;32m    131\u001b[0m     \u001b[1;32mdef\u001b[0m \u001b[0m_fit\u001b[0m\u001b[1;33m(\u001b[0m\u001b[0mself\u001b[0m\u001b[1;33m,\u001b[0m \u001b[0mdataset\u001b[0m\u001b[1;33m)\u001b[0m\u001b[1;33m:\u001b[0m\u001b[1;33m\u001b[0m\u001b[0m\n\u001b[1;32m--> 132\u001b[1;33m         \u001b[0mjava_model\u001b[0m \u001b[1;33m=\u001b[0m \u001b[0mself\u001b[0m\u001b[1;33m.\u001b[0m\u001b[0m_fit_java\u001b[0m\u001b[1;33m(\u001b[0m\u001b[0mdataset\u001b[0m\u001b[1;33m)\u001b[0m\u001b[1;33m\u001b[0m\u001b[0m\n\u001b[0m\u001b[0;32m    133\u001b[0m         \u001b[1;32mreturn\u001b[0m \u001b[0mself\u001b[0m\u001b[1;33m.\u001b[0m\u001b[0m_create_model\u001b[0m\u001b[1;33m(\u001b[0m\u001b[0mjava_model\u001b[0m\u001b[1;33m)\u001b[0m\u001b[1;33m\u001b[0m\u001b[0m\n\u001b[0;32m    134\u001b[0m \u001b[1;33m\u001b[0m\u001b[0m\n",
      "\u001b[1;32m/usr/local/spark/python/pyspark/ml/wrapper.pyc\u001b[0m in \u001b[0;36m_fit_java\u001b[1;34m(self, dataset)\u001b[0m\n\u001b[0;32m    127\u001b[0m         \"\"\"\n\u001b[0;32m    128\u001b[0m         \u001b[0mself\u001b[0m\u001b[1;33m.\u001b[0m\u001b[0m_transfer_params_to_java\u001b[0m\u001b[1;33m(\u001b[0m\u001b[1;33m)\u001b[0m\u001b[1;33m\u001b[0m\u001b[0m\n\u001b[1;32m--> 129\u001b[1;33m         \u001b[1;32mreturn\u001b[0m \u001b[0mself\u001b[0m\u001b[1;33m.\u001b[0m\u001b[0m_java_obj\u001b[0m\u001b[1;33m.\u001b[0m\u001b[0mfit\u001b[0m\u001b[1;33m(\u001b[0m\u001b[0mdataset\u001b[0m\u001b[1;33m.\u001b[0m\u001b[0m_jdf\u001b[0m\u001b[1;33m)\u001b[0m\u001b[1;33m\u001b[0m\u001b[0m\n\u001b[0m\u001b[0;32m    130\u001b[0m \u001b[1;33m\u001b[0m\u001b[0m\n\u001b[0;32m    131\u001b[0m     \u001b[1;32mdef\u001b[0m \u001b[0m_fit\u001b[0m\u001b[1;33m(\u001b[0m\u001b[0mself\u001b[0m\u001b[1;33m,\u001b[0m \u001b[0mdataset\u001b[0m\u001b[1;33m)\u001b[0m\u001b[1;33m:\u001b[0m\u001b[1;33m\u001b[0m\u001b[0m\n",
      "\u001b[1;32m/usr/local/spark/python/lib/py4j-0.9-src.zip/py4j/java_gateway.py\u001b[0m in \u001b[0;36m__call__\u001b[1;34m(self, *args)\u001b[0m\n\u001b[0;32m    811\u001b[0m         \u001b[0manswer\u001b[0m \u001b[1;33m=\u001b[0m \u001b[0mself\u001b[0m\u001b[1;33m.\u001b[0m\u001b[0mgateway_client\u001b[0m\u001b[1;33m.\u001b[0m\u001b[0msend_command\u001b[0m\u001b[1;33m(\u001b[0m\u001b[0mcommand\u001b[0m\u001b[1;33m)\u001b[0m\u001b[1;33m\u001b[0m\u001b[0m\n\u001b[0;32m    812\u001b[0m         return_value = get_return_value(\n\u001b[1;32m--> 813\u001b[1;33m             answer, self.gateway_client, self.target_id, self.name)\n\u001b[0m\u001b[0;32m    814\u001b[0m \u001b[1;33m\u001b[0m\u001b[0m\n\u001b[0;32m    815\u001b[0m         \u001b[1;32mfor\u001b[0m \u001b[0mtemp_arg\u001b[0m \u001b[1;32min\u001b[0m \u001b[0mtemp_args\u001b[0m\u001b[1;33m:\u001b[0m\u001b[1;33m\u001b[0m\u001b[0m\n",
      "\u001b[1;32m/usr/local/spark/python/pyspark/sql/utils.pyc\u001b[0m in \u001b[0;36mdeco\u001b[1;34m(*a, **kw)\u001b[0m\n\u001b[0;32m     51\u001b[0m                 \u001b[1;32mraise\u001b[0m \u001b[0mAnalysisException\u001b[0m\u001b[1;33m(\u001b[0m\u001b[0ms\u001b[0m\u001b[1;33m.\u001b[0m\u001b[0msplit\u001b[0m\u001b[1;33m(\u001b[0m\u001b[1;34m': '\u001b[0m\u001b[1;33m,\u001b[0m \u001b[1;36m1\u001b[0m\u001b[1;33m)\u001b[0m\u001b[1;33m[\u001b[0m\u001b[1;36m1\u001b[0m\u001b[1;33m]\u001b[0m\u001b[1;33m,\u001b[0m \u001b[0mstackTrace\u001b[0m\u001b[1;33m)\u001b[0m\u001b[1;33m\u001b[0m\u001b[0m\n\u001b[0;32m     52\u001b[0m             \u001b[1;32mif\u001b[0m \u001b[0ms\u001b[0m\u001b[1;33m.\u001b[0m\u001b[0mstartswith\u001b[0m\u001b[1;33m(\u001b[0m\u001b[1;34m'java.lang.IllegalArgumentException: '\u001b[0m\u001b[1;33m)\u001b[0m\u001b[1;33m:\u001b[0m\u001b[1;33m\u001b[0m\u001b[0m\n\u001b[1;32m---> 53\u001b[1;33m                 \u001b[1;32mraise\u001b[0m \u001b[0mIllegalArgumentException\u001b[0m\u001b[1;33m(\u001b[0m\u001b[0ms\u001b[0m\u001b[1;33m.\u001b[0m\u001b[0msplit\u001b[0m\u001b[1;33m(\u001b[0m\u001b[1;34m': '\u001b[0m\u001b[1;33m,\u001b[0m \u001b[1;36m1\u001b[0m\u001b[1;33m)\u001b[0m\u001b[1;33m[\u001b[0m\u001b[1;36m1\u001b[0m\u001b[1;33m]\u001b[0m\u001b[1;33m,\u001b[0m \u001b[0mstackTrace\u001b[0m\u001b[1;33m)\u001b[0m\u001b[1;33m\u001b[0m\u001b[0m\n\u001b[0m\u001b[0;32m     54\u001b[0m             \u001b[1;32mraise\u001b[0m\u001b[1;33m\u001b[0m\u001b[0m\n\u001b[0;32m     55\u001b[0m     \u001b[1;32mreturn\u001b[0m \u001b[0mdeco\u001b[0m\u001b[1;33m\u001b[0m\u001b[0m\n",
      "\u001b[1;31mIllegalArgumentException\u001b[0m: u'Field \"indexedFeatures\" does not exist.'"
     ]
    }
   ],
   "source": [
    "CV_model = crossval.fit(train_sql)\n",
    "#rfModel = CV_model.bestModel\n",
    "#print rfModel.stages[2]"
   ]
  },
  {
   "cell_type": "code",
   "execution_count": 73,
   "metadata": {
    "collapsed": false
   },
   "outputs": [
    {
     "name": "stdout",
     "output_type": "stream",
     "text": [
      "RandomForestClassificationModel (uid=rfc_bd9da1341d0e) with 20 trees\n"
     ]
    }
   ],
   "source": [
    "tree_model = CV_model.bestModel.stages[2]\n",
    "print tree_model"
   ]
  },
  {
   "cell_type": "code",
   "execution_count": null,
   "metadata": {
    "collapsed": true
   },
   "outputs": [],
   "source": [
    "prediction_1101 = predictions.select(\"prediction\", \"indexedLabel\")"
   ]
  },
  {
   "cell_type": "code",
   "execution_count": null,
   "metadata": {
    "collapsed": false
   },
   "outputs": [],
   "source": [
    "prediction_1101"
   ]
  },
  {
   "cell_type": "code",
   "execution_count": null,
   "metadata": {
    "collapsed": false
   },
   "outputs": [],
   "source": [
    "import pandas\n",
    "prediction_1101_pandas = prediction_1101.toPandas()\n",
    "prediction_1101_pandas.head(10)"
   ]
  },
  {
   "cell_type": "code",
   "execution_count": null,
   "metadata": {
    "collapsed": false
   },
   "outputs": [],
   "source": [
    "from sklearn.metrics import confusion_matrix\n",
    "import numpy as np\n",
    "import matplotlib.pyplot as plt\n",
    "%pylab inline"
   ]
  },
  {
   "cell_type": "code",
   "execution_count": null,
   "metadata": {
    "collapsed": false
   },
   "outputs": [],
   "source": [
    "cm = confusion_matrix(prediction_1101_pandas['indexedLabel'], prediction_1101_pandas['prediction'])\n",
    "cm"
   ]
  },
  {
   "cell_type": "code",
   "execution_count": null,
   "metadata": {
    "collapsed": false
   },
   "outputs": [],
   "source": [
    "pd.crosstab(prediction_1101_pandas['indexedLabel'], prediction_1101_pandas['prediction'], rownames=['actual'], colnames=['preds'])"
   ]
  },
  {
   "cell_type": "code",
   "execution_count": null,
   "metadata": {
    "collapsed": true
   },
   "outputs": [],
   "source": [
    "def plot_confusion_matrix(cm, title='Confusion matrix', cmap=plt.cm.Blues):\n",
    "    plt.imshow(cm, interpolation='nearest', cmap=cmap)\n",
    "    plt.title(title)\n",
    "    plt.colorbar()\n",
    "    #tick_marks = np.arange(len(iris.target_names))\n",
    "    #plt.xticks(tick_marks, iris.target_names, rotation=45)\n",
    "    #plt.yticks(tick_marks, iris.target_names)\n",
    "    plt.tight_layout()\n",
    "    plt.ylabel('True label')\n",
    "    plt.xlabel('Predicted label')"
   ]
  },
  {
   "cell_type": "code",
   "execution_count": null,
   "metadata": {
    "collapsed": false
   },
   "outputs": [],
   "source": [
    "plot_confusion_matrix(cm)\n",
    "plt.show()"
   ]
  },
  {
   "cell_type": "code",
   "execution_count": null,
   "metadata": {
    "collapsed": true
   },
   "outputs": [],
   "source": [
    "data_p = data[['Close','Open']][2310:4621].values"
   ]
  },
  {
   "cell_type": "code",
   "execution_count": null,
   "metadata": {
    "collapsed": true
   },
   "outputs": [],
   "source": [
    "data_p1 = pd.DataFrame(data_p,columns = ['Close','Open'])"
   ]
  },
  {
   "cell_type": "code",
   "execution_count": null,
   "metadata": {
    "collapsed": false
   },
   "outputs": [],
   "source": [
    "result = np.c_[prediction_1101_pandas['indexedLabel'],prediction_1101_pandas['prediction']]\n",
    "result1 = pd.DataFrame(result , columns = ['test', 'prediction'])\n",
    "result1.head()"
   ]
  },
  {
   "cell_type": "code",
   "execution_count": null,
   "metadata": {
    "collapsed": false
   },
   "outputs": [],
   "source": [
    "result2 = pd.concat([data_p1, result1], axis=1)\n",
    "result2.head()"
   ]
  },
  {
   "cell_type": "code",
   "execution_count": null,
   "metadata": {
    "collapsed": true
   },
   "outputs": [],
   "source": [
    "result2[\"Cl - Op\"] = result2['Close'] - result2['Open']"
   ]
  },
  {
   "cell_type": "code",
   "execution_count": null,
   "metadata": {
    "collapsed": false
   },
   "outputs": [],
   "source": [
    "result2['profit'] = result2['Cl - Op'] * result2['prediction']"
   ]
  },
  {
   "cell_type": "code",
   "execution_count": null,
   "metadata": {
    "collapsed": false
   },
   "outputs": [],
   "source": [
    "a = result2['profit'].cumsum()\n",
    "result2['cumsum'] = a\n",
    "result2.head()"
   ]
  },
  {
   "cell_type": "code",
   "execution_count": null,
   "metadata": {
    "collapsed": false
   },
   "outputs": [],
   "source": [
    "from IPython.core.pylabtools import figsize\n",
    "figsize(10.5, 8.5)\n",
    "a.plot()"
   ]
  },
  {
   "cell_type": "code",
   "execution_count": null,
   "metadata": {
    "collapsed": true
   },
   "outputs": [],
   "source": [
    "result2['processing fee'] = (result2['Close']*(1.425/1000.0) + result2['Open']*(4.425/1000.0)) * result2['prediction']"
   ]
  },
  {
   "cell_type": "code",
   "execution_count": null,
   "metadata": {
    "collapsed": true
   },
   "outputs": [],
   "source": [
    "result2['profit_r_fee'] = result2['profit'] - result2['processing fee']"
   ]
  },
  {
   "cell_type": "code",
   "execution_count": null,
   "metadata": {
    "collapsed": false
   },
   "outputs": [],
   "source": [
    "result2.head()"
   ]
  },
  {
   "cell_type": "code",
   "execution_count": null,
   "metadata": {
    "collapsed": false
   },
   "outputs": [],
   "source": [
    "b = result2['profit_r_fee'].cumsum()\n",
    "result2['cumsum_r_fee'] = b\n",
    "result2.head()"
   ]
  },
  {
   "cell_type": "code",
   "execution_count": null,
   "metadata": {
    "collapsed": false
   },
   "outputs": [],
   "source": [
    "from IPython.core.pylabtools import figsize\n",
    "figsize(10.5, 8.5)\n",
    "result2['cumsum_r_fee'].plot()"
   ]
  },
  {
   "cell_type": "code",
   "execution_count": null,
   "metadata": {
    "collapsed": false
   },
   "outputs": [],
   "source": [
    "result2"
   ]
  },
  {
   "cell_type": "code",
   "execution_count": null,
   "metadata": {
    "collapsed": false
   },
   "outputs": [],
   "source": [
    "result2['profit2'] = 0.0\n",
    "#len(result2)\n",
    "result2['profit2'][1]"
   ]
  },
  {
   "cell_type": "code",
   "execution_count": null,
   "metadata": {
    "collapsed": false
   },
   "outputs": [],
   "source": [
    "result2.head()"
   ]
  },
  {
   "cell_type": "code",
   "execution_count": null,
   "metadata": {
    "collapsed": true
   },
   "outputs": [],
   "source": [
    "result2['profit2'][0] = (-1) * result2['Open'][0]\n",
    "\n",
    "for i in range(len(result2)-1):\n",
    "    if result2['prediction'][i+1] == 1 and result2['prediction'][i] == 0:\n",
    "        result2['profit2'][i+1] = result2['profit2'][i] + (-1) * result2['Open'][i+1]\n",
    "    elif result2['prediction'][i+1] == 1 and result2['prediction'][i] == 1:\n",
    "        result2['profit2'][i+1] = result2['profit2'][i]\n",
    "    elif result2['prediction'][i+1] == 0 and result2['prediction'][i] == 1:\n",
    "        result2['profit2'][i+1] = result2['profit2'][i] + result2['Close'][i]\n",
    "    elif result2['prediction'][i+1] == 0 and result2['prediction'][i] == 0:\n",
    "        result2['profit2'][i+1] = result2['profit2'][i]"
   ]
  },
  {
   "cell_type": "code",
   "execution_count": null,
   "metadata": {
    "collapsed": false
   },
   "outputs": [],
   "source": [
    "result2['profit2'].plot()"
   ]
  },
  {
   "cell_type": "code",
   "execution_count": null,
   "metadata": {
    "collapsed": true
   },
   "outputs": [],
   "source": [
    "result2['processing_fee_2'] = 0.0"
   ]
  },
  {
   "cell_type": "code",
   "execution_count": null,
   "metadata": {
    "collapsed": false
   },
   "outputs": [],
   "source": [
    "result2.head()"
   ]
  },
  {
   "cell_type": "code",
   "execution_count": null,
   "metadata": {
    "collapsed": true
   },
   "outputs": [],
   "source": [
    "result2['processing_fee_2'][0] = (-1) * result2['Open'][0]\n",
    "\n",
    "for i in range(len(result2)-1):\n",
    "    if result2['prediction'][i+1] == 1 and result2['prediction'][i] == 0:\n",
    "        result2['processing_fee_2'][i+1] = result2['processing_fee_2'][i] + (-1) * result2['Open'][i+1] - (result2['Open'][i+1])*((1.425/1000.0))\n",
    "    elif result2['prediction'][i+1] == 1 and result2['prediction'][i] == 1:\n",
    "        result2['processing_fee_2'][i+1] = result2['processing_fee_2'][i]\n",
    "    elif result2['prediction'][i+1] == 0 and result2['prediction'][i] == 1:\n",
    "        result2['processing_fee_2'][i+1] = result2['processing_fee_2'][i] + result2['Close'][i] - (result2['Close'][i])*(4.425/1000.0)\n",
    "    elif result2['prediction'][i+1] == 0 and result2['prediction'][i] == 0:\n",
    "        result2['processing_fee_2'][i+1] = result2['processing_fee_2'][i]"
   ]
  },
  {
   "cell_type": "code",
   "execution_count": null,
   "metadata": {
    "collapsed": false
   },
   "outputs": [],
   "source": [
    "result2.head()"
   ]
  },
  {
   "cell_type": "code",
   "execution_count": null,
   "metadata": {
    "collapsed": false
   },
   "outputs": [],
   "source": [
    "result2['processing_fee_2'].plot()#[1101:2301].plot()"
   ]
  },
  {
   "cell_type": "code",
   "execution_count": null,
   "metadata": {
    "collapsed": false
   },
   "outputs": [],
   "source": [
    "result2['processing_fee_2']"
   ]
  }
 ],
 "metadata": {
  "kernelspec": {
   "display_name": "Python 2",
   "language": "python",
   "name": "python2"
  },
  "language_info": {
   "codemirror_mode": {
    "name": "ipython",
    "version": 2
   },
   "file_extension": ".py",
   "mimetype": "text/x-python",
   "name": "python",
   "nbconvert_exporter": "python",
   "pygments_lexer": "ipython2",
   "version": "2.7.11"
  }
 },
 "nbformat": 4,
 "nbformat_minor": 0
}
