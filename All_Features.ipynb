{
 "cells": [
  {
   "cell_type": "code",
   "execution_count": 141,
   "metadata": {
    "collapsed": false
   },
   "outputs": [
    {
     "name": "stdout",
     "output_type": "stream",
     "text": [
      "Populating the interactive namespace from numpy and matplotlib\n",
      "Create features rsi : Time taken = 477.131817 second\n"
     ]
    }
   ],
   "source": [
    "%pylab inline\n",
    "import numpy as np\n",
    "import pandas as pd\n",
    "from sklearn.metrics import confusion_matrix\n",
    "import numpy as np\n",
    "import matplotlib.pyplot as plt\n",
    "import time\n",
    "data = []\n",
    "datapath = '/home/bigdatas16/1101.csv'\n",
    "data = pd.read_csv(datapath)\n",
    "def MA(data,day):\n",
    "    dataList = range(data['Date'].size)\n",
    "    tmpList = []\n",
    "    for i in dataList:\n",
    "        if i - day + 1 >= 0:\n",
    "            # 移動平均數 = 採樣天數的股價合計 / 採樣天數\n",
    "            tmp = data['Close'][i-day+1:i+1].mean()\n",
    "            tmpList.append(tmp)\n",
    "        elif i - day + 1 < 0:\n",
    "            tmp = 0\n",
    "            tmpList.append(tmp)\n",
    "    tmpSeries = pd.Series(tmpList)\n",
    "    data['MA'+str(day)]=tmpSeries\n",
    "# 乖離率(BIAS)\n",
    "def BIAS_lag(data,day):\n",
    "    dataList = range(data['Date'].size)\n",
    "    tmpList = []\n",
    "    tmpList.append(0)\n",
    "    for item in dataList:\n",
    "        if item-day+1 >= 0:\n",
    "            tmp = (data['Close'][item]-data['MA'+str(day)][item])/(data['MA'+str(day)][item])*100\n",
    "            tmpList.append(tmp)\n",
    "        elif item - day + 1 < 0:\n",
    "            tmp = 0\n",
    "            tmpList.append(tmp)         \n",
    "    tmpSeries = pd.Series(tmpList)\n",
    "    data['BIAS'+str(day)] = tmpSeries\n",
    "\n",
    "# Close Rise Ratio 漲幅比\n",
    "def RR(data):\n",
    "    dataList = range(data['Date'].size)\n",
    "    tmpList = []\n",
    "    #tmpList.append(0)\n",
    "\n",
    "    for item in dataList:\n",
    "        # 防止 第一筆data沒有更舊的\n",
    "        if item - 1 >=0:\n",
    "            # (今日收盤價 - 昨日收盤價)/昨日收盤價\n",
    "            tmp = (data['Close'][item]-data['Close'][item-1])/data['Close'][item-1]*100\n",
    "            tmpList.append(tmp)\n",
    "        elif item - 1 < 0:\n",
    "            tmp = 0\n",
    "            tmpList.append(tmp)\n",
    "        \n",
    "    # 前day 沒data會出現NA\n",
    "    tmpSeries = pd.Series(tmpList)\n",
    "    # create  RR 欄位\n",
    "    data['RR']=tmpSeries\n",
    "RR(data)\n",
    "# 相對強弱指標(RSI) 建議6\n",
    "def RSI(data,day):\n",
    "    dataList = range(data['Date'].size)\n",
    "    tmpList = []\n",
    "    #tmpList.append(0)\n",
    "    for item in dataList:\n",
    "        # 防止前day沒有data\n",
    "        if item - day >= 0:\n",
    "            # 6日RSI=100*6日內收盤上漲總幅度平均值 / (6日內收盤上漲總幅度平均值 - 6日內收盤下跌總幅度平均值)   \n",
    "            bolRise = data['RR'][item-day+1-1:item+1-1] > 0\n",
    "            #print(bolRise)\n",
    "            meanRise = data['RR'][item-day+1-1:item+1-1][bolRise].mean()\n",
    "            \n",
    "            if meanRise > 0:\n",
    "                meanRise = meanRise\n",
    "            else:\n",
    "                meanRise = 0\n",
    "                \n",
    "            bolDesc = data['RR'][item-day+1-1:item+1-1] < 0\n",
    "            #print(bolDesc)\n",
    "            meanDesc = data['RR'][item-day+1-1:item+1-1][bolDesc].mean() \n",
    "                \n",
    "            if meanDesc < 0:\n",
    "                meanDesc = meanDesc\n",
    "            else:\n",
    "                meanDesc = 0\n",
    "                \n",
    "            #print(meanRise) \n",
    "            #print(meanDesc)\n",
    "\n",
    "            if meanRise == 0 and meanDesc == 0:\n",
    "                tmp = 0.50\n",
    "            else:    \n",
    "                tmp = 100 * ((meanRise*1.0) / (meanRise - meanDesc))\n",
    "            #print(tmp)\n",
    "            tmpList.append(tmp)\n",
    "            \n",
    "        elif item - day < 0:\n",
    "            tmp = 0\n",
    "            tmpList.append(tmp)              \n",
    "    # 前day 沒data會出現NA\n",
    "    tmpSeries = pd.Series(tmpList)\n",
    "    \n",
    "    # create  RSI 欄位\n",
    "    data['RSI'+str(day)] = tmpSeries\n",
    "\n",
    "# High Rise Ratio 漲幅比\n",
    "def RR_H(data):\n",
    "    dataList = range(data['Date'].size)\n",
    "    tmpList = []\n",
    "    #tmpList.append(0)\n",
    "\n",
    "    for item in dataList:\n",
    "        # 防止 第一筆data沒有更舊的\n",
    "        if item - 1 >=0:\n",
    "            # (今日收盤價 - 昨日收盤價)/昨日收盤價\n",
    "            tmp = (data['High'][item]-data['High'][item-1])/data['High'][item-1]*100\n",
    "            tmpList.append(tmp)\n",
    "        elif item - 1 < 0:\n",
    "            tmp = 0\n",
    "            tmpList.append(tmp)\n",
    "        \n",
    "    tmpSeries = pd.Series(tmpList)\n",
    "    data['RR_H']=tmpSeries\n",
    "RR_H(data)\n",
    "# 相對強弱指標(RSI) 建議6\n",
    "def RSI_H(data,day):\n",
    "    dataList = range(data['Date'].size)\n",
    "    tmpList = []\n",
    "    for item in dataList:\n",
    "        if item - day >= 0:\n",
    "            bolRise = data['RR_H'][item-day+1-1:item+1-1] > 0\n",
    "            meanRise = data['RR_H'][item-day+1-1:item+1-1][bolRise].mean()\n",
    "            if meanRise > 0:\n",
    "                meanRise = meanRise\n",
    "            else:\n",
    "                meanRise = 0\n",
    "                \n",
    "            bolDesc = data['RR_H'][item-day+1-1:item+1-1] < 0\n",
    "            meanDesc = data['RR_H'][item-day+1-1:item+1-1][bolDesc].mean() \n",
    "                \n",
    "            if meanDesc < 0:\n",
    "                meanDesc = meanDesc\n",
    "            else:\n",
    "                meanDesc = 0\n",
    "            if meanRise == 0 and meanDesc == 0:\n",
    "                tmp = 0.50\n",
    "            else:    \n",
    "                tmp = 100 * ((meanRise*1.0) / (meanRise - meanDesc))\n",
    "            tmpList.append(tmp)\n",
    "            \n",
    "        elif item - day < 0:\n",
    "            tmp = 0\n",
    "            tmpList.append(tmp)              \n",
    "    tmpSeries = pd.Series(tmpList)\n",
    "    data['RSI_H'+str(day)] = tmpSeries\n",
    "    \n",
    "# Volumn_n Rise Ratio 漲幅比\n",
    "def RR_V(data):\n",
    "    dataList = range(data['Date'].size)\n",
    "    tmpList = []\n",
    "    #tmpList.append(0)\n",
    "\n",
    "    for item in dataList:\n",
    "        if item - 1 >=0:\n",
    "            tmp = (data['Volume_m'][item]-data['Volume_m'][item-1])/data['Volume_m'][item-1]*100\n",
    "            tmpList.append(tmp)\n",
    "        elif item - 1 < 0:\n",
    "            tmp = 0\n",
    "            tmpList.append(tmp)\n",
    "    tmpSeries = pd.Series(tmpList)\n",
    "    data['RR_V']=tmpSeries\n",
    "RR_V(data)   \n",
    "# 相對強弱指標(RSI) 建議6\n",
    "def RSI_V(data,day):\n",
    "    dataList = range(data['Date'].size)\n",
    "    tmpList = []\n",
    "    for item in dataList:\n",
    "        if item - day >= 0:\n",
    "            # 6日RSI=100*6日內收盤上漲總幅度平均值 / (6日內收盤上漲總幅度平均值 - 6日內收盤下跌總幅度平均值)   \n",
    "            bolRise = data['RR_V'][item-day+1-1:item+1-1] > 0\n",
    "            meanRise = data['RR_V'][item-day+1-1:item+1-1][bolRise].mean()\n",
    "            \n",
    "            if meanRise > 0:\n",
    "                meanRise = meanRise\n",
    "            else:\n",
    "                meanRise = 0\n",
    "                \n",
    "            bolDesc = data['RR_V'][item-day+1-1:item+1-1] < 0\n",
    "            meanDesc = data['RR_V'][item-day+1-1:item+1-1][bolDesc].mean() \n",
    "                \n",
    "            if meanDesc < 0:\n",
    "                meanDesc = meanDesc\n",
    "            else:\n",
    "                meanDesc = 0\n",
    "            if meanRise == 0 and meanDesc == 0:\n",
    "                tmp = 0.50\n",
    "            else:    \n",
    "                tmp = 100 * ((meanRise*1.0) / (meanRise - meanDesc))\n",
    "            tmpList.append(tmp)\n",
    "            \n",
    "        elif item - day < 0:\n",
    "            tmp = 0\n",
    "            tmpList.append(tmp)              \n",
    "        tmpSeries = pd.Series(tmpList)\n",
    "        data['RSI_V'+str(day)] = tmpSeries\n",
    "def Cl_move_1(data):\n",
    "    dataList = range(data['Date'].size)\n",
    "    List = []\n",
    "    List.append(0)\n",
    "    for i in dataList:\n",
    "        tmp = data['Close'][i]\n",
    "        List.append(tmp)\n",
    "    tmpSeries = pd.Series(List)\n",
    "    data['Close1']=tmpSeries\n",
    "Cl_move_1(data)\n",
    "def WMS_lag(data,day):\n",
    "    dataList = range(data['Date'].size)\n",
    "    tmpList = []\n",
    "    tmpList.append(0)\n",
    "    for item in dataList:\n",
    "        if item - day + 1 >= 0:\n",
    "            tmp = 100*(data['High'][item-day+1:item+1].max() - data['Close'][item])/(data['High'][item-day+1:item+1].max() - data['Low'][item-day+1:item+1].min())\n",
    "            tmpList.append(tmp)\n",
    "        elif item - day + 1 < 0:\n",
    "            tmp = 0\n",
    "            tmpList.append(tmp)\n",
    "    tmpSeries = pd.Series(tmpList)\n",
    "    data['WMS' + str(day) +'_lag'] = tmpSeries\n",
    "    \n",
    "start = time.time()\n",
    "\n",
    "for i in range(24):\n",
    "    MA(data,1+i)\n",
    "    BIAS_lag(data,1+i)\n",
    "for i in range(2,18):\n",
    "    RSI(data,i) \n",
    "for i in range(2,18):\n",
    "    RSI_V(data,i) \n",
    "for i in range(2,18):\n",
    "    RSI_H(data,i)\n",
    "\n",
    "def MA(data,day):\n",
    "    dataList = range(data['Date'].size)\n",
    "    tmpList = []\n",
    "    tmpList.append(0)\n",
    "    for i in dataList:\n",
    "        if i - day + 1 >= 0:\n",
    "            tmp = data['Close'][i-day+1:i+1].mean()\n",
    "            tmpList.append(tmp)\n",
    "        elif i - day + 1 < 0:\n",
    "            tmp = 0\n",
    "            tmpList.append(tmp)\n",
    "    tmpSeries = pd.Series(tmpList)\n",
    "    data['MA'+str(day)]=tmpSeries\n",
    "    \n",
    "for i in range(60):\n",
    "    MA(data,1+i)\n",
    "for i in range(60):\n",
    "    data[\"MA\"+str(1+i)+\"cross\"] = data[\"Close1\"][1+i:] - data[\"MA\"+str(1+i)][1+i:]      \n",
    "for i in range(55):\n",
    "    data[(\"MA\"+str(1+i))+(\"-MA\"+str(i+6))] = data[\"MA\"+str(1+i)][(i+1):] - data[\"MA\" + str(6+i)][(i+6):]  \n",
    "for i in range(18):\n",
    "    WMS_lag(data,i+2)   \n",
    "end = time.time()\n",
    "print \"Create features rsi : Time taken = %f second\"%(end - start)  \n",
    "\n",
    "data = data.drop(data.index[4620])\n",
    "def UP_DOWN(data):\n",
    "    data_day_number = range(data['Date'].size)\n",
    "    tmpList = []\n",
    "    \n",
    "    for item in data_day_number:\n",
    "        spread = data['Close'][item] - data['Open'][item]\n",
    "        if spread > 0 :\n",
    "            tmp = 1\n",
    "        elif spread <= 0:\n",
    "            tmp = 0\n",
    " \n",
    "        tmpList.append(tmp)\n",
    "    \n",
    "    tmpSeries = pd.Series(tmpList)\n",
    "    data['UP_DOWN']=tmpSeries\n",
    "UP_DOWN(data)\n"
   ]
  },
  {
   "cell_type": "code",
   "execution_count": 194,
   "metadata": {
    "collapsed": false
   },
   "outputs": [
    {
     "data": {
      "text/html": [
       "<div>\n",
       "<table border=\"1\" class=\"dataframe\">\n",
       "  <thead>\n",
       "    <tr style=\"text-align: right;\">\n",
       "      <th></th>\n",
       "      <th>Date</th>\n",
       "      <th>Open</th>\n",
       "      <th>High</th>\n",
       "      <th>Low</th>\n",
       "      <th>Close</th>\n",
       "      <th>Volume_n</th>\n",
       "      <th>Volume_m</th>\n",
       "      <th>return</th>\n",
       "      <th>PE</th>\n",
       "      <th>RR</th>\n",
       "      <th>...</th>\n",
       "      <th>WMS11_lag</th>\n",
       "      <th>WMS12_lag</th>\n",
       "      <th>WMS13_lag</th>\n",
       "      <th>WMS14_lag</th>\n",
       "      <th>WMS15_lag</th>\n",
       "      <th>WMS16_lag</th>\n",
       "      <th>WMS17_lag</th>\n",
       "      <th>WMS18_lag</th>\n",
       "      <th>WMS19_lag</th>\n",
       "      <th>UP_DOWN</th>\n",
       "    </tr>\n",
       "  </thead>\n",
       "  <tbody>\n",
       "    <tr>\n",
       "      <th>0</th>\n",
       "      <td>1998/1/3</td>\n",
       "      <td>12.84</td>\n",
       "      <td>12.84</td>\n",
       "      <td>12.6</td>\n",
       "      <td>12.6</td>\n",
       "      <td>1624.0</td>\n",
       "      <td>62200.0</td>\n",
       "      <td>-1.81</td>\n",
       "      <td>26.76</td>\n",
       "      <td>0.0</td>\n",
       "      <td>...</td>\n",
       "      <td>0.0</td>\n",
       "      <td>0.0</td>\n",
       "      <td>0.0</td>\n",
       "      <td>0.0</td>\n",
       "      <td>0.0</td>\n",
       "      <td>0.0</td>\n",
       "      <td>0.0</td>\n",
       "      <td>0.0</td>\n",
       "      <td>0.0</td>\n",
       "      <td>0</td>\n",
       "    </tr>\n",
       "  </tbody>\n",
       "</table>\n",
       "<p>1 rows × 279 columns</p>\n",
       "</div>"
      ],
      "text/plain": [
       "       Date   Open   High   Low  Close  Volume_n  Volume_m  return     PE  \\\n",
       "0  1998/1/3  12.84  12.84  12.6   12.6    1624.0   62200.0   -1.81  26.76   \n",
       "\n",
       "    RR   ...     WMS11_lag  WMS12_lag  WMS13_lag  WMS14_lag  WMS15_lag  \\\n",
       "0  0.0   ...           0.0        0.0        0.0        0.0        0.0   \n",
       "\n",
       "   WMS16_lag  WMS17_lag  WMS18_lag  WMS19_lag  UP_DOWN  \n",
       "0        0.0        0.0        0.0        0.0        0  \n",
       "\n",
       "[1 rows x 279 columns]"
      ]
     },
     "execution_count": 194,
     "metadata": {},
     "output_type": "execute_result"
    }
   ],
   "source": [
    "data.head(1)"
   ]
  },
  {
   "cell_type": "code",
   "execution_count": 235,
   "metadata": {
    "collapsed": false
   },
   "outputs": [
    {
     "name": "stdout",
     "output_type": "stream",
     "text": [
      "<class 'pandas.core.frame.DataFrame'>\n",
      "Int64Index: 4620 entries, 0 to 4619\n",
      "Columns: 279 entries, Date to UP_DOWN\n",
      "dtypes: float64(277), int64(1), object(1)\n",
      "memory usage: 9.9+ MB\n"
     ]
    }
   ],
   "source": [
    "data.info()\n",
    "data1 = data.drop(['Date', 'Open', 'High','Low','Close','Close1','Volume_n','Volume_m','return','PE','RR','RR_V','RR_H'\n",
    "                   ,'MA1','MA2','MA3','MA4','MA5','MA6','MA7','MA8','MA9','MA10','MA11','MA12','MA13','MA14'\n",
    "                   ,'MA15','MA16','MA17','MA18','MA19','MA20','MA21','MA22','MA23','MA24','MA25','MA26','MA27'\n",
    "                   ,'MA28','MA29','MA30','MA31','MA32','MA33','MA34','MA35','MA36','MA37','MA38','MA39','MA40'\n",
    "                   ,'MA41','MA42','MA43','MA44','MA45','MA46','MA47','MA48','MA49','MA50','MA51','MA52','MA53'\n",
    "                   ,'MA54','MA55','MA56','MA57','MA58','MA59','MA60'], axis=1)"
   ]
  },
  {
   "cell_type": "code",
   "execution_count": 216,
   "metadata": {
    "collapsed": false
   },
   "outputs": [
    {
     "data": {
      "text/html": [
       "<div>\n",
       "<table border=\"1\" class=\"dataframe\">\n",
       "  <thead>\n",
       "    <tr style=\"text-align: right;\">\n",
       "      <th></th>\n",
       "      <th>Date</th>\n",
       "      <th>Open</th>\n",
       "      <th>High</th>\n",
       "      <th>Low</th>\n",
       "      <th>Close</th>\n",
       "      <th>Volume_n</th>\n",
       "      <th>Volume_m</th>\n",
       "      <th>return</th>\n",
       "      <th>PE</th>\n",
       "      <th>RR</th>\n",
       "      <th>...</th>\n",
       "      <th>WMS11_lag</th>\n",
       "      <th>WMS12_lag</th>\n",
       "      <th>WMS13_lag</th>\n",
       "      <th>WMS14_lag</th>\n",
       "      <th>WMS15_lag</th>\n",
       "      <th>WMS16_lag</th>\n",
       "      <th>WMS17_lag</th>\n",
       "      <th>WMS18_lag</th>\n",
       "      <th>WMS19_lag</th>\n",
       "      <th>UP_DOWN</th>\n",
       "    </tr>\n",
       "  </thead>\n",
       "  <tbody>\n",
       "    <tr>\n",
       "      <th>0</th>\n",
       "      <td>1998/1/3</td>\n",
       "      <td>12.84</td>\n",
       "      <td>12.84</td>\n",
       "      <td>12.6</td>\n",
       "      <td>12.6</td>\n",
       "      <td>1624.0</td>\n",
       "      <td>62200.0</td>\n",
       "      <td>-1.81</td>\n",
       "      <td>26.76</td>\n",
       "      <td>0.0</td>\n",
       "      <td>...</td>\n",
       "      <td>0.0</td>\n",
       "      <td>0.0</td>\n",
       "      <td>0.0</td>\n",
       "      <td>0.0</td>\n",
       "      <td>0.0</td>\n",
       "      <td>0.0</td>\n",
       "      <td>0.0</td>\n",
       "      <td>0.0</td>\n",
       "      <td>0.0</td>\n",
       "      <td>0</td>\n",
       "    </tr>\n",
       "  </tbody>\n",
       "</table>\n",
       "<p>1 rows × 279 columns</p>\n",
       "</div>"
      ],
      "text/plain": [
       "       Date   Open   High   Low  Close  Volume_n  Volume_m  return     PE  \\\n",
       "0  1998/1/3  12.84  12.84  12.6   12.6    1624.0   62200.0   -1.81  26.76   \n",
       "\n",
       "    RR   ...     WMS11_lag  WMS12_lag  WMS13_lag  WMS14_lag  WMS15_lag  \\\n",
       "0  0.0   ...           0.0        0.0        0.0        0.0        0.0   \n",
       "\n",
       "   WMS16_lag  WMS17_lag  WMS18_lag  WMS19_lag  UP_DOWN  \n",
       "0        0.0        0.0        0.0        0.0        0  \n",
       "\n",
       "[1 rows x 279 columns]"
      ]
     },
     "execution_count": 216,
     "metadata": {},
     "output_type": "execute_result"
    }
   ],
   "source": [
    "data.head(1)"
   ]
  },
  {
   "cell_type": "code",
   "execution_count": 217,
   "metadata": {
    "collapsed": false
   },
   "outputs": [
    {
     "data": {
      "text/plain": [
       "Index([u'BIAS2', u'BIAS3', u'BIAS4', u'BIAS5', u'BIAS6', u'BIAS7', u'BIAS8',\n",
       "       u'BIAS9', u'BIAS10', u'BIAS11', u'BIAS12', u'BIAS13', u'BIAS14',\n",
       "       u'BIAS15', u'BIAS16', u'BIAS17', u'BIAS18', u'BIAS19', u'BIAS20',\n",
       "       u'BIAS21', u'BIAS22', u'BIAS23', u'BIAS24', u'RSI2', u'RSI3', u'RSI4',\n",
       "       u'RSI5', u'RSI6', u'RSI7'],\n",
       "      dtype='object')"
      ]
     },
     "execution_count": 217,
     "metadata": {},
     "output_type": "execute_result"
    }
   ],
   "source": [
    "data1.columns[1:30]"
   ]
  },
  {
   "cell_type": "code",
   "execution_count": 218,
   "metadata": {
    "collapsed": false
   },
   "outputs": [
    {
     "data": {
      "text/plain": [
       "Index([u'RSI8', u'RSI9', u'RSI10', u'RSI11', u'RSI12', u'RSI13', u'RSI14',\n",
       "       u'RSI15', u'RSI16', u'RSI17', u'RSI_V2', u'RSI_V3', u'RSI_V4',\n",
       "       u'RSI_V5', u'RSI_V6', u'RSI_V7', u'RSI_V8', u'RSI_V9', u'RSI_V10',\n",
       "       u'RSI_V11', u'RSI_V12', u'RSI_V13', u'RSI_V14', u'RSI_V15', u'RSI_V16',\n",
       "       u'RSI_V17', u'RSI_H2', u'RSI_H3', u'RSI_H4', u'RSI_H5'],\n",
       "      dtype='object')"
      ]
     },
     "execution_count": 218,
     "metadata": {},
     "output_type": "execute_result"
    }
   ],
   "source": [
    "data1.columns[30:60]"
   ]
  },
  {
   "cell_type": "code",
   "execution_count": 219,
   "metadata": {
    "collapsed": false
   },
   "outputs": [
    {
     "data": {
      "text/plain": [
       "Index([u'RSI_H6', u'RSI_H7', u'RSI_H8', u'RSI_H9', u'RSI_H10', u'RSI_H11',\n",
       "       u'RSI_H12', u'RSI_H13', u'RSI_H14', u'RSI_H15', u'RSI_H16', u'RSI_H17',\n",
       "       u'MA1cross', u'MA2cross', u'MA3cross', u'MA4cross', u'MA5cross',\n",
       "       u'MA6cross', u'MA7cross', u'MA8cross', u'MA9cross', u'MA10cross',\n",
       "       u'MA11cross', u'MA12cross', u'MA13cross', u'MA14cross', u'MA15cross',\n",
       "       u'MA16cross', u'MA17cross', u'MA18cross'],\n",
       "      dtype='object')"
      ]
     },
     "execution_count": 219,
     "metadata": {},
     "output_type": "execute_result"
    }
   ],
   "source": [
    "data1.columns[60:90]"
   ]
  },
  {
   "cell_type": "code",
   "execution_count": 220,
   "metadata": {
    "collapsed": false
   },
   "outputs": [
    {
     "data": {
      "text/plain": [
       "Index([u'MA19cross', u'MA20cross', u'MA21cross', u'MA22cross', u'MA23cross',\n",
       "       u'MA24cross', u'MA25cross', u'MA26cross', u'MA27cross', u'MA28cross',\n",
       "       u'MA29cross', u'MA30cross', u'MA31cross', u'MA32cross', u'MA33cross',\n",
       "       u'MA34cross', u'MA35cross', u'MA36cross', u'MA37cross', u'MA38cross',\n",
       "       u'MA39cross', u'MA40cross', u'MA41cross', u'MA42cross', u'MA43cross',\n",
       "       u'MA44cross', u'MA45cross', u'MA46cross', u'MA47cross', u'MA48cross'],\n",
       "      dtype='object')"
      ]
     },
     "execution_count": 220,
     "metadata": {},
     "output_type": "execute_result"
    }
   ],
   "source": [
    "data1.columns[90:120]"
   ]
  },
  {
   "cell_type": "code",
   "execution_count": 221,
   "metadata": {
    "collapsed": false
   },
   "outputs": [
    {
     "data": {
      "text/plain": [
       "Index([u'MA49cross', u'MA50cross', u'MA51cross', u'MA52cross', u'MA53cross',\n",
       "       u'MA54cross', u'MA55cross', u'MA56cross', u'MA57cross', u'MA58cross',\n",
       "       u'MA59cross', u'MA60cross', u'MA1-MA6', u'MA2-MA7', u'MA3-MA8',\n",
       "       u'MA4-MA9', u'MA5-MA10', u'MA6-MA11', u'MA7-MA12', u'MA8-MA13',\n",
       "       u'MA9-MA14', u'MA10-MA15', u'MA11-MA16', u'MA12-MA17', u'MA13-MA18',\n",
       "       u'MA14-MA19', u'MA15-MA20', u'MA16-MA21', u'MA17-MA22', u'MA18-MA23'],\n",
       "      dtype='object')"
      ]
     },
     "execution_count": 221,
     "metadata": {},
     "output_type": "execute_result"
    }
   ],
   "source": [
    "data1.columns[120:150]"
   ]
  },
  {
   "cell_type": "code",
   "execution_count": 222,
   "metadata": {
    "collapsed": false
   },
   "outputs": [
    {
     "data": {
      "text/plain": [
       "Index([u'MA19-MA24', u'MA20-MA25', u'MA21-MA26', u'MA22-MA27', u'MA23-MA28',\n",
       "       u'MA24-MA29', u'MA25-MA30', u'MA26-MA31', u'MA27-MA32', u'MA28-MA33',\n",
       "       u'MA29-MA34', u'MA30-MA35', u'MA31-MA36', u'MA32-MA37', u'MA33-MA38',\n",
       "       u'MA34-MA39', u'MA35-MA40', u'MA36-MA41', u'MA37-MA42', u'MA38-MA43',\n",
       "       u'MA39-MA44', u'MA40-MA45', u'MA41-MA46', u'MA42-MA47', u'MA43-MA48',\n",
       "       u'MA44-MA49', u'MA45-MA50', u'MA46-MA51', u'MA47-MA52', u'MA48-MA53'],\n",
       "      dtype='object')"
      ]
     },
     "execution_count": 222,
     "metadata": {},
     "output_type": "execute_result"
    }
   ],
   "source": [
    "data1.columns[150:180]"
   ]
  },
  {
   "cell_type": "code",
   "execution_count": 232,
   "metadata": {
    "collapsed": false
   },
   "outputs": [
    {
     "data": {
      "text/plain": [
       "Index([u'MA48-MA53', u'MA49-MA54', u'MA50-MA55', u'MA51-MA56', u'MA52-MA57',\n",
       "       u'MA53-MA58', u'MA54-MA59', u'MA55-MA60', u'WMS2_lag', u'WMS3_lag',\n",
       "       u'WMS4_lag', u'WMS5_lag', u'WMS6_lag', u'WMS7_lag', u'WMS8_lag',\n",
       "       u'WMS9_lag', u'WMS10_lag', u'WMS11_lag', u'WMS12_lag', u'WMS13_lag',\n",
       "       u'WMS14_lag', u'WMS15_lag', u'WMS16_lag', u'WMS17_lag', u'WMS18_lag'],\n",
       "      dtype='object')"
      ]
     },
     "execution_count": 232,
     "metadata": {},
     "output_type": "execute_result"
    }
   ],
   "source": [
    "data1.columns[180:210]"
   ]
  },
  {
   "cell_type": "code",
   "execution_count": 236,
   "metadata": {
    "collapsed": false
   },
   "outputs": [],
   "source": [
    "data1 = data1.fillna(-1)\n",
    "cols = data1.columns.tolist()\n",
    "#cols[205]"
   ]
  },
  {
   "cell_type": "code",
   "execution_count": 237,
   "metadata": {
    "collapsed": false
   },
   "outputs": [],
   "source": [
    "data1 = data1[[cols[205]] + cols[0:205]]\n",
    "n = len(data['Date']) / 5\n",
    "m = len(data['Date']) + 1 - n\n",
    "train_data = data1.iloc[:m,:]"
   ]
  },
  {
   "cell_type": "code",
   "execution_count": 238,
   "metadata": {
    "collapsed": false
   },
   "outputs": [
    {
     "data": {
      "text/html": [
       "<div>\n",
       "<table border=\"1\" class=\"dataframe\">\n",
       "  <thead>\n",
       "    <tr style=\"text-align: right;\">\n",
       "      <th></th>\n",
       "      <th>UP_DOWN</th>\n",
       "      <th>BIAS1</th>\n",
       "      <th>BIAS2</th>\n",
       "      <th>BIAS3</th>\n",
       "      <th>BIAS4</th>\n",
       "      <th>BIAS5</th>\n",
       "      <th>BIAS6</th>\n",
       "      <th>BIAS7</th>\n",
       "      <th>BIAS8</th>\n",
       "      <th>BIAS9</th>\n",
       "      <th>...</th>\n",
       "      <th>WMS10_lag</th>\n",
       "      <th>WMS11_lag</th>\n",
       "      <th>WMS12_lag</th>\n",
       "      <th>WMS13_lag</th>\n",
       "      <th>WMS14_lag</th>\n",
       "      <th>WMS15_lag</th>\n",
       "      <th>WMS16_lag</th>\n",
       "      <th>WMS17_lag</th>\n",
       "      <th>WMS18_lag</th>\n",
       "      <th>WMS19_lag</th>\n",
       "    </tr>\n",
       "  </thead>\n",
       "  <tbody>\n",
       "    <tr>\n",
       "      <th>0</th>\n",
       "      <td>0</td>\n",
       "      <td>0.0</td>\n",
       "      <td>0.0</td>\n",
       "      <td>0.0</td>\n",
       "      <td>0.0</td>\n",
       "      <td>0.0</td>\n",
       "      <td>0.0</td>\n",
       "      <td>0.0</td>\n",
       "      <td>0.0</td>\n",
       "      <td>0.0</td>\n",
       "      <td>...</td>\n",
       "      <td>0.0</td>\n",
       "      <td>0.0</td>\n",
       "      <td>0.0</td>\n",
       "      <td>0.0</td>\n",
       "      <td>0.0</td>\n",
       "      <td>0.0</td>\n",
       "      <td>0.0</td>\n",
       "      <td>0.0</td>\n",
       "      <td>0.0</td>\n",
       "      <td>0.0</td>\n",
       "    </tr>\n",
       "  </tbody>\n",
       "</table>\n",
       "<p>1 rows × 206 columns</p>\n",
       "</div>"
      ],
      "text/plain": [
       "   UP_DOWN  BIAS1  BIAS2  BIAS3  BIAS4  BIAS5  BIAS6  BIAS7  BIAS8  BIAS9  \\\n",
       "0        0    0.0    0.0    0.0    0.0    0.0    0.0    0.0    0.0    0.0   \n",
       "\n",
       "     ...      WMS10_lag  WMS11_lag  WMS12_lag  WMS13_lag  WMS14_lag  \\\n",
       "0    ...            0.0        0.0        0.0        0.0        0.0   \n",
       "\n",
       "   WMS15_lag  WMS16_lag  WMS17_lag  WMS18_lag  WMS19_lag  \n",
       "0        0.0        0.0        0.0        0.0        0.0  \n",
       "\n",
       "[1 rows x 206 columns]"
      ]
     },
     "execution_count": 238,
     "metadata": {},
     "output_type": "execute_result"
    }
   ],
   "source": [
    "train_data.head(1)"
   ]
  },
  {
   "cell_type": "code",
   "execution_count": 244,
   "metadata": {
    "collapsed": false
   },
   "outputs": [],
   "source": [
    "from pyspark.ml.feature import StringIndexer, VectorIndexer\n",
    "from pyspark.ml.feature import VectorAssembler\n",
    "from pyspark.ml import Pipeline\n",
    "from pyspark.ml.evaluation import MulticlassClassificationEvaluator\n",
    "from pyspark.ml.classification import RandomForestClassifier\n",
    "import time \n",
    "sql_sc = SQLContext(sc)\n",
    "train_data.iloc[:(m/5),:]\n",
    "train_data.iloc[(m/5):(2*m/5),:]\n",
    "train_data.iloc[(2*m/5):(3*m/5),:]\n",
    "train_data.iloc[(3*m/5):(5*m/5),:]\n",
    "train_data.iloc[(4*m/5):m,:]\n",
    "\n",
    "cross_data_list = [i for i in range(1,6)]\n",
    "cross_data_list[0] = train_data.iloc[:(m/5),:]\n",
    "cross_data_list[1] = train_data.iloc[(m/5):(2*m/5),:]\n",
    "cross_data_list[2] = train_data.iloc[(2*m/5):(3*m/5),:]\n",
    "cross_data_list[3] = train_data.iloc[(3*m/5):(5*m/5),:]\n",
    "cross_data_list[4] = train_data.iloc[(4*m/5):m,:]\n",
    "cross_data_pandas = [i for i in range(1,6)]\n",
    "for i in range(0,5,1):\n",
    "    cross_data_pandas[i] = pd.DataFrame(cross_data_list[i])\n",
    "#cross_data_pandas[4]\n",
    "\n",
    "cross_sql = [i for i in range(1,6)]\n",
    "for i in range(0,5,1):\n",
    "    cross_sql[i] = sql_sc.createDataFrame(cross_data_pandas[i])\n",
    "\n",
    "\n",
    "assembler1 = VectorAssembler(inputCols=[\"RSI2\",\"RSI3\",\"RSI4\",\"RSI5\",\"RSI6\",\"RSI7\",\"RSI8\"\n",
    "                                       ,\"RSI9\",\"RSI10\",\"RSI11\",\"RSI12\",\"RSI13\",\"RSI14\",\"RSI15\"\n",
    "                                       ,\"RSI17\",\"RSI_V2\",\"RSI_V3\",\"RSI_V4\",\"RSI_V5\",\"RSI_V6\"\n",
    "                                       ,\"RSI_V7\",\"RSI_V8\",\"RSI_V9\",\"RSI_V10\",\"RSI_V11\",\"RSI_V12\"\n",
    "                                       ,\"RSI_V13\",\"RSI_V14\",\"RSI_V15\",\"RSI_V16\",\"RSI_V17\",\"RSI_H2\"\n",
    "                                       ,\"RSI_H3\",\"RSI_H4\",\"RSI_H5\",\"RSI_H6\",\"RSI_H7\",\"RSI_H8\",\"RSI_H9\"\n",
    "                                       ,\"RSI_H10\",\"RSI_H11\",\"RSI_H12\",\"RSI_H13\",\"RSI_H14\",\"RSI_H15\"\n",
    "                                       ,\"RSI_H16\",\"RSI_H17\",\"BIAS1\", \"BIAS2\", \"BIAS3\",\"BIAS4\",\"BIAS5\"\n",
    "                                       ,\"BIAS6\",\"BIAS7\",\"BIAS8\",\"BIAS9\",\"BIAS10\",\"BIAS11\",\"BIAS12\"\n",
    "                                       ,\"BIAS13\",\"BIAS14\",\"BIAS15\",\"BIAS16\",\"BIAS17\",\"BIAS18\"\n",
    "                                       ,\"BIAS19\",\"BIAS20\",\"BIAS21\",\"BIAS22\",\"BIAS23\",\"BIAS24\"\n",
    "                                       ,'MA1cross','MA2cross','MA3cross','MA4cross','MA5cross','MA6cross'\n",
    "                                       ,'MA7cross','MA8cross','MA9cross','MA10cross','MA11cross','MA12cross'\n",
    "                                       ,'MA13cross','MA14cross','MA15cross','MA16cross','MA17cross','MA18cross'\n",
    "                                       ,'MA19cross','MA20cross','MA21cross','MA22cross','MA23cross','MA24cross'\n",
    "                                       ,'MA25cross','MA26cross','MA27cross','MA28cross','MA29cross','MA30cross'\n",
    "                                       ,'MA31cross','MA32cross','MA33cross','MA34cross','MA35cross','MA36cross'\n",
    "                                       #,'MA37cross','MA38cross','MA39cross','MA40cross','MA41cross','MA42cross'\n",
    "                                       #,'MA43cross','MA44cross','MA45cross','MA46cross','MA47cross','MA48cross'\n",
    "                                       #,'MA49cross','MA50cross','MA51cross','MA52cross','MA53cross','MA54cross'\n",
    "                                       #,'MA55cross','MA56cross','MA57cross','MA58cross','MA59cross','MA60cross'\n",
    "                                       #,'MA1-MA6','MA2-MA7','MA3-MA8','MA4-MA9','MA5-MA10','MA6-MA11','MA7-MA12'\n",
    "                                       #,'MA8-MA13','MA9-MA14','MA10-MA15','MA11-MA16','MA12-MA17','MA13-MA18'\n",
    "                                       #,'MA14-MA19','MA15-MA20','MA16-MA21','MA17-MA22','MA18-MA23','MA19-MA24'\n",
    "                                       #,'MA20-MA25','MA21-MA26','MA22-MA27','MA23-MA28','MA24-MA29','MA25-MA30'\n",
    "                                       #,'MA26-MA31','MA27-MA32','MA28-MA33','MA29-MA34','MA30-MA35','MA31-MA36'\n",
    "                                       #,'MA32-MA37','MA33-MA38','MA34-MA39','MA35-MA40','MA36-MA41','MA37-MA42'\n",
    "                                       #,'MA38-MA43','MA39-MA44','MA40-MA45','MA41-MA46','MA42-MA47','MA43-MA48'\n",
    "                                       #,'MA44-MA49','MA45-MA50','MA46-MA51','MA47-MA52','MA48-MA53','MA49-MA54'\n",
    "                                       #,'MA50-MA55','MA51-MA56','MA52-MA57','MA53-MA58','MA54-MA59'\n",
    "                                       #,'MA55-MA60','WMS2_lag','WMS3_lag','WMS4_lag','WMS5_lag','WMS6_lag'\n",
    "                                       #,'WMS7_lag','WMS8_lag','WMS9_lag','WMS10_lag','WMS11_lag','WMS12_lag'\n",
    "                                       #,'WMS13_lag','WMS14_lag','WMS15_lag','WMS16_lag','WMS17_lag','WMS18_lag'\n",
    "                                       ,'WMS19_lag'], outputCol=\"features\")"
   ]
  },
  {
   "cell_type": "code",
   "execution_count": 246,
   "metadata": {
    "collapsed": false
   },
   "outputs": [
    {
     "ename": "Py4JJavaError",
     "evalue": "An error occurred while calling o57241.evaluate.\n: org.apache.spark.SparkException: Job aborted due to stage failure: Task 0 in stage 12699.0 failed 1 times, most recent failure: Lost task 0.0 in stage 12699.0 (TID 12696, localhost): java.util.NoSuchElementException: key not found: -1.0\n\tat scala.collection.MapLike$class.default(MapLike.scala:228)\n\tat scala.collection.AbstractMap.default(Map.scala:58)\n\tat scala.collection.MapLike$class.apply(MapLike.scala:141)\n\tat scala.collection.AbstractMap.apply(Map.scala:58)\n\tat org.apache.spark.ml.feature.VectorIndexerModel$$anonfun$10.apply(VectorIndexer.scala:331)\n\tat org.apache.spark.ml.feature.VectorIndexerModel$$anonfun$10.apply(VectorIndexer.scala:309)\n\tat org.apache.spark.ml.feature.VectorIndexerModel$$anonfun$11.apply(VectorIndexer.scala:351)\n\tat org.apache.spark.ml.feature.VectorIndexerModel$$anonfun$11.apply(VectorIndexer.scala:351)\n\tat org.apache.spark.sql.catalyst.expressions.GeneratedClass$SpecificUnsafeProjection.apply(Unknown Source)\n\tat org.apache.spark.sql.execution.Project$$anonfun$1$$anonfun$apply$1.apply(basicOperators.scala:51)\n\tat org.apache.spark.sql.execution.Project$$anonfun$1$$anonfun$apply$1.apply(basicOperators.scala:49)\n\tat scala.collection.Iterator$$anon$11.next(Iterator.scala:328)\n\tat scala.collection.Iterator$$anon$11.next(Iterator.scala:328)\n\tat scala.collection.Iterator$$anon$11.next(Iterator.scala:328)\n\tat scala.collection.Iterator$$anon$11.next(Iterator.scala:328)\n\tat scala.collection.Iterator$$anon$11.next(Iterator.scala:328)\n\tat scala.collection.Iterator$$anon$11.next(Iterator.scala:328)\n\tat org.apache.spark.util.collection.ExternalSorter.insertAll(ExternalSorter.scala:191)\n\tat org.apache.spark.shuffle.sort.SortShuffleWriter.write(SortShuffleWriter.scala:64)\n\tat org.apache.spark.scheduler.ShuffleMapTask.runTask(ShuffleMapTask.scala:73)\n\tat org.apache.spark.scheduler.ShuffleMapTask.runTask(ShuffleMapTask.scala:41)\n\tat org.apache.spark.scheduler.Task.run(Task.scala:89)\n\tat org.apache.spark.executor.Executor$TaskRunner.run(Executor.scala:213)\n\tat java.util.concurrent.ThreadPoolExecutor.runWorker(ThreadPoolExecutor.java:1145)\n\tat java.util.concurrent.ThreadPoolExecutor$Worker.run(ThreadPoolExecutor.java:615)\n\tat java.lang.Thread.run(Thread.java:745)\n\nDriver stacktrace:\n\tat org.apache.spark.scheduler.DAGScheduler.org$apache$spark$scheduler$DAGScheduler$$failJobAndIndependentStages(DAGScheduler.scala:1431)\n\tat org.apache.spark.scheduler.DAGScheduler$$anonfun$abortStage$1.apply(DAGScheduler.scala:1419)\n\tat org.apache.spark.scheduler.DAGScheduler$$anonfun$abortStage$1.apply(DAGScheduler.scala:1418)\n\tat scala.collection.mutable.ResizableArray$class.foreach(ResizableArray.scala:59)\n\tat scala.collection.mutable.ArrayBuffer.foreach(ArrayBuffer.scala:47)\n\tat org.apache.spark.scheduler.DAGScheduler.abortStage(DAGScheduler.scala:1418)\n\tat org.apache.spark.scheduler.DAGScheduler$$anonfun$handleTaskSetFailed$1.apply(DAGScheduler.scala:799)\n\tat org.apache.spark.scheduler.DAGScheduler$$anonfun$handleTaskSetFailed$1.apply(DAGScheduler.scala:799)\n\tat scala.Option.foreach(Option.scala:236)\n\tat org.apache.spark.scheduler.DAGScheduler.handleTaskSetFailed(DAGScheduler.scala:799)\n\tat org.apache.spark.scheduler.DAGSchedulerEventProcessLoop.doOnReceive(DAGScheduler.scala:1640)\n\tat org.apache.spark.scheduler.DAGSchedulerEventProcessLoop.onReceive(DAGScheduler.scala:1599)\n\tat org.apache.spark.scheduler.DAGSchedulerEventProcessLoop.onReceive(DAGScheduler.scala:1588)\n\tat org.apache.spark.util.EventLoop$$anon$1.run(EventLoop.scala:48)\n\tat org.apache.spark.scheduler.DAGScheduler.runJob(DAGScheduler.scala:620)\n\tat org.apache.spark.SparkContext.runJob(SparkContext.scala:1832)\n\tat org.apache.spark.SparkContext.runJob(SparkContext.scala:1845)\n\tat org.apache.spark.SparkContext.runJob(SparkContext.scala:1858)\n\tat org.apache.spark.SparkContext.runJob(SparkContext.scala:1929)\n\tat org.apache.spark.rdd.RDD$$anonfun$collect$1.apply(RDD.scala:927)\n\tat org.apache.spark.rdd.RDDOperationScope$.withScope(RDDOperationScope.scala:150)\n\tat org.apache.spark.rdd.RDDOperationScope$.withScope(RDDOperationScope.scala:111)\n\tat org.apache.spark.rdd.RDD.withScope(RDD.scala:316)\n\tat org.apache.spark.rdd.RDD.collect(RDD.scala:926)\n\tat org.apache.spark.rdd.PairRDDFunctions$$anonfun$countByKey$1.apply(PairRDDFunctions.scala:381)\n\tat org.apache.spark.rdd.PairRDDFunctions$$anonfun$countByKey$1.apply(PairRDDFunctions.scala:381)\n\tat org.apache.spark.rdd.RDDOperationScope$.withScope(RDDOperationScope.scala:150)\n\tat org.apache.spark.rdd.RDDOperationScope$.withScope(RDDOperationScope.scala:111)\n\tat org.apache.spark.rdd.RDD.withScope(RDD.scala:316)\n\tat org.apache.spark.rdd.PairRDDFunctions.countByKey(PairRDDFunctions.scala:380)\n\tat org.apache.spark.rdd.RDD$$anonfun$countByValue$1.apply(RDD.scala:1173)\n\tat org.apache.spark.rdd.RDD$$anonfun$countByValue$1.apply(RDD.scala:1173)\n\tat org.apache.spark.rdd.RDDOperationScope$.withScope(RDDOperationScope.scala:150)\n\tat org.apache.spark.rdd.RDDOperationScope$.withScope(RDDOperationScope.scala:111)\n\tat org.apache.spark.rdd.RDD.withScope(RDD.scala:316)\n\tat org.apache.spark.rdd.RDD.countByValue(RDD.scala:1172)\n\tat org.apache.spark.mllib.evaluation.MulticlassMetrics.labelCountByClass$lzycompute(MulticlassMetrics.scala:43)\n\tat org.apache.spark.mllib.evaluation.MulticlassMetrics.labelCountByClass(MulticlassMetrics.scala:43)\n\tat org.apache.spark.mllib.evaluation.MulticlassMetrics.weightedFMeasure$lzycompute(MulticlassMetrics.scala:205)\n\tat org.apache.spark.mllib.evaluation.MulticlassMetrics.weightedFMeasure(MulticlassMetrics.scala:205)\n\tat org.apache.spark.ml.evaluation.MulticlassClassificationEvaluator.evaluate(MulticlassClassificationEvaluator.scala:83)\n\tat sun.reflect.NativeMethodAccessorImpl.invoke0(Native Method)\n\tat sun.reflect.NativeMethodAccessorImpl.invoke(NativeMethodAccessorImpl.java:57)\n\tat sun.reflect.DelegatingMethodAccessorImpl.invoke(DelegatingMethodAccessorImpl.java:43)\n\tat java.lang.reflect.Method.invoke(Method.java:606)\n\tat py4j.reflection.MethodInvoker.invoke(MethodInvoker.java:231)\n\tat py4j.reflection.ReflectionEngine.invoke(ReflectionEngine.java:381)\n\tat py4j.Gateway.invoke(Gateway.java:259)\n\tat py4j.commands.AbstractCommand.invokeMethod(AbstractCommand.java:133)\n\tat py4j.commands.CallCommand.execute(CallCommand.java:79)\n\tat py4j.GatewayConnection.run(GatewayConnection.java:209)\n\tat java.lang.Thread.run(Thread.java:745)\nCaused by: java.util.NoSuchElementException: key not found: -1.0\n\tat scala.collection.MapLike$class.default(MapLike.scala:228)\n\tat scala.collection.AbstractMap.default(Map.scala:58)\n\tat scala.collection.MapLike$class.apply(MapLike.scala:141)\n\tat scala.collection.AbstractMap.apply(Map.scala:58)\n\tat org.apache.spark.ml.feature.VectorIndexerModel$$anonfun$10.apply(VectorIndexer.scala:331)\n\tat org.apache.spark.ml.feature.VectorIndexerModel$$anonfun$10.apply(VectorIndexer.scala:309)\n\tat org.apache.spark.ml.feature.VectorIndexerModel$$anonfun$11.apply(VectorIndexer.scala:351)\n\tat org.apache.spark.ml.feature.VectorIndexerModel$$anonfun$11.apply(VectorIndexer.scala:351)\n\tat org.apache.spark.sql.catalyst.expressions.GeneratedClass$SpecificUnsafeProjection.apply(Unknown Source)\n\tat org.apache.spark.sql.execution.Project$$anonfun$1$$anonfun$apply$1.apply(basicOperators.scala:51)\n\tat org.apache.spark.sql.execution.Project$$anonfun$1$$anonfun$apply$1.apply(basicOperators.scala:49)\n\tat scala.collection.Iterator$$anon$11.next(Iterator.scala:328)\n\tat scala.collection.Iterator$$anon$11.next(Iterator.scala:328)\n\tat scala.collection.Iterator$$anon$11.next(Iterator.scala:328)\n\tat scala.collection.Iterator$$anon$11.next(Iterator.scala:328)\n\tat scala.collection.Iterator$$anon$11.next(Iterator.scala:328)\n\tat scala.collection.Iterator$$anon$11.next(Iterator.scala:328)\n\tat org.apache.spark.util.collection.ExternalSorter.insertAll(ExternalSorter.scala:191)\n\tat org.apache.spark.shuffle.sort.SortShuffleWriter.write(SortShuffleWriter.scala:64)\n\tat org.apache.spark.scheduler.ShuffleMapTask.runTask(ShuffleMapTask.scala:73)\n\tat org.apache.spark.scheduler.ShuffleMapTask.runTask(ShuffleMapTask.scala:41)\n\tat org.apache.spark.scheduler.Task.run(Task.scala:89)\n\tat org.apache.spark.executor.Executor$TaskRunner.run(Executor.scala:213)\n\tat java.util.concurrent.ThreadPoolExecutor.runWorker(ThreadPoolExecutor.java:1145)\n\tat java.util.concurrent.ThreadPoolExecutor$Worker.run(ThreadPoolExecutor.java:615)\n\t... 1 more\n",
     "output_type": "error",
     "traceback": [
      "\u001b[1;31m---------------------------------------------------------------------------\u001b[0m",
      "\u001b[1;31mPy4JJavaError\u001b[0m                             Traceback (most recent call last)",
      "\u001b[1;32m<ipython-input-246-68fd60789493>\u001b[0m in \u001b[0;36m<module>\u001b[1;34m()\u001b[0m\n\u001b[0;32m    127\u001b[0m             \u001b[0mpredictions\u001b[0m \u001b[1;33m=\u001b[0m \u001b[0mmodel\u001b[0m\u001b[1;33m.\u001b[0m\u001b[0mtransform\u001b[0m\u001b[1;33m(\u001b[0m\u001b[0mcross_sql\u001b[0m\u001b[1;33m[\u001b[0m\u001b[0mi\u001b[0m\u001b[1;33m]\u001b[0m\u001b[1;33m)\u001b[0m\u001b[1;33m\u001b[0m\u001b[0m\n\u001b[0;32m    128\u001b[0m             \u001b[0mevaluator\u001b[0m \u001b[1;33m=\u001b[0m \u001b[0mMulticlassClassificationEvaluator\u001b[0m\u001b[1;33m(\u001b[0m\u001b[0mlabelCol\u001b[0m\u001b[1;33m=\u001b[0m\u001b[1;34m\"indexedLabel\"\u001b[0m\u001b[1;33m,\u001b[0m \u001b[0mpredictionCol\u001b[0m\u001b[1;33m=\u001b[0m\u001b[1;34m\"prediction\"\u001b[0m\u001b[1;33m)\u001b[0m\u001b[1;31m#, metricName=\"accuracy\")\u001b[0m\u001b[1;33m\u001b[0m\u001b[0m\n\u001b[1;32m--> 129\u001b[1;33m             \u001b[0maccuracy\u001b[0m \u001b[1;33m=\u001b[0m \u001b[0mevaluator\u001b[0m\u001b[1;33m.\u001b[0m\u001b[0mevaluate\u001b[0m\u001b[1;33m(\u001b[0m\u001b[0mpredictions\u001b[0m\u001b[1;33m)\u001b[0m\u001b[1;33m\u001b[0m\u001b[0m\n\u001b[0m\u001b[0;32m    130\u001b[0m             \u001b[1;32mprint\u001b[0m\u001b[1;33m(\u001b[0m\u001b[1;34m\"Test Error(%d) = %g\"\u001b[0m \u001b[1;33m%\u001b[0m \u001b[1;33m(\u001b[0m\u001b[0mi\u001b[0m\u001b[1;33m,\u001b[0m\u001b[1;36m1.0\u001b[0m \u001b[1;33m-\u001b[0m \u001b[0maccuracy\u001b[0m\u001b[1;33m)\u001b[0m\u001b[1;33m)\u001b[0m\u001b[1;33m\u001b[0m\u001b[0m\n\u001b[0;32m    131\u001b[0m             \u001b[0mTest_Error\u001b[0m\u001b[1;33m.\u001b[0m\u001b[0mappend\u001b[0m\u001b[1;33m(\u001b[0m\u001b[1;36m1.0\u001b[0m \u001b[1;33m-\u001b[0m \u001b[0maccuracy\u001b[0m\u001b[1;33m)\u001b[0m\u001b[1;33m\u001b[0m\u001b[0m\n",
      "\u001b[1;32m/usr/local/spark/python/pyspark/ml/evaluation.pyc\u001b[0m in \u001b[0;36mevaluate\u001b[1;34m(self, dataset, params)\u001b[0m\n\u001b[0;32m     67\u001b[0m                 \u001b[1;32mreturn\u001b[0m \u001b[0mself\u001b[0m\u001b[1;33m.\u001b[0m\u001b[0mcopy\u001b[0m\u001b[1;33m(\u001b[0m\u001b[0mparams\u001b[0m\u001b[1;33m)\u001b[0m\u001b[1;33m.\u001b[0m\u001b[0m_evaluate\u001b[0m\u001b[1;33m(\u001b[0m\u001b[0mdataset\u001b[0m\u001b[1;33m)\u001b[0m\u001b[1;33m\u001b[0m\u001b[0m\n\u001b[0;32m     68\u001b[0m             \u001b[1;32melse\u001b[0m\u001b[1;33m:\u001b[0m\u001b[1;33m\u001b[0m\u001b[0m\n\u001b[1;32m---> 69\u001b[1;33m                 \u001b[1;32mreturn\u001b[0m \u001b[0mself\u001b[0m\u001b[1;33m.\u001b[0m\u001b[0m_evaluate\u001b[0m\u001b[1;33m(\u001b[0m\u001b[0mdataset\u001b[0m\u001b[1;33m)\u001b[0m\u001b[1;33m\u001b[0m\u001b[0m\n\u001b[0m\u001b[0;32m     70\u001b[0m         \u001b[1;32melse\u001b[0m\u001b[1;33m:\u001b[0m\u001b[1;33m\u001b[0m\u001b[0m\n\u001b[0;32m     71\u001b[0m             \u001b[1;32mraise\u001b[0m \u001b[0mValueError\u001b[0m\u001b[1;33m(\u001b[0m\u001b[1;34m\"Params must be a param map but got %s.\"\u001b[0m \u001b[1;33m%\u001b[0m \u001b[0mtype\u001b[0m\u001b[1;33m(\u001b[0m\u001b[0mparams\u001b[0m\u001b[1;33m)\u001b[0m\u001b[1;33m)\u001b[0m\u001b[1;33m\u001b[0m\u001b[0m\n",
      "\u001b[1;32m/usr/local/spark/python/pyspark/ml/evaluation.pyc\u001b[0m in \u001b[0;36m_evaluate\u001b[1;34m(self, dataset)\u001b[0m\n\u001b[0;32m     97\u001b[0m         \"\"\"\n\u001b[0;32m     98\u001b[0m         \u001b[0mself\u001b[0m\u001b[1;33m.\u001b[0m\u001b[0m_transfer_params_to_java\u001b[0m\u001b[1;33m(\u001b[0m\u001b[1;33m)\u001b[0m\u001b[1;33m\u001b[0m\u001b[0m\n\u001b[1;32m---> 99\u001b[1;33m         \u001b[1;32mreturn\u001b[0m \u001b[0mself\u001b[0m\u001b[1;33m.\u001b[0m\u001b[0m_java_obj\u001b[0m\u001b[1;33m.\u001b[0m\u001b[0mevaluate\u001b[0m\u001b[1;33m(\u001b[0m\u001b[0mdataset\u001b[0m\u001b[1;33m.\u001b[0m\u001b[0m_jdf\u001b[0m\u001b[1;33m)\u001b[0m\u001b[1;33m\u001b[0m\u001b[0m\n\u001b[0m\u001b[0;32m    100\u001b[0m \u001b[1;33m\u001b[0m\u001b[0m\n\u001b[0;32m    101\u001b[0m     \u001b[1;32mdef\u001b[0m \u001b[0misLargerBetter\u001b[0m\u001b[1;33m(\u001b[0m\u001b[0mself\u001b[0m\u001b[1;33m)\u001b[0m\u001b[1;33m:\u001b[0m\u001b[1;33m\u001b[0m\u001b[0m\n",
      "\u001b[1;32m/usr/local/spark/python/lib/py4j-0.9-src.zip/py4j/java_gateway.py\u001b[0m in \u001b[0;36m__call__\u001b[1;34m(self, *args)\u001b[0m\n\u001b[0;32m    811\u001b[0m         \u001b[0manswer\u001b[0m \u001b[1;33m=\u001b[0m \u001b[0mself\u001b[0m\u001b[1;33m.\u001b[0m\u001b[0mgateway_client\u001b[0m\u001b[1;33m.\u001b[0m\u001b[0msend_command\u001b[0m\u001b[1;33m(\u001b[0m\u001b[0mcommand\u001b[0m\u001b[1;33m)\u001b[0m\u001b[1;33m\u001b[0m\u001b[0m\n\u001b[0;32m    812\u001b[0m         return_value = get_return_value(\n\u001b[1;32m--> 813\u001b[1;33m             answer, self.gateway_client, self.target_id, self.name)\n\u001b[0m\u001b[0;32m    814\u001b[0m \u001b[1;33m\u001b[0m\u001b[0m\n\u001b[0;32m    815\u001b[0m         \u001b[1;32mfor\u001b[0m \u001b[0mtemp_arg\u001b[0m \u001b[1;32min\u001b[0m \u001b[0mtemp_args\u001b[0m\u001b[1;33m:\u001b[0m\u001b[1;33m\u001b[0m\u001b[0m\n",
      "\u001b[1;32m/usr/local/spark/python/pyspark/sql/utils.pyc\u001b[0m in \u001b[0;36mdeco\u001b[1;34m(*a, **kw)\u001b[0m\n\u001b[0;32m     43\u001b[0m     \u001b[1;32mdef\u001b[0m \u001b[0mdeco\u001b[0m\u001b[1;33m(\u001b[0m\u001b[1;33m*\u001b[0m\u001b[0ma\u001b[0m\u001b[1;33m,\u001b[0m \u001b[1;33m**\u001b[0m\u001b[0mkw\u001b[0m\u001b[1;33m)\u001b[0m\u001b[1;33m:\u001b[0m\u001b[1;33m\u001b[0m\u001b[0m\n\u001b[0;32m     44\u001b[0m         \u001b[1;32mtry\u001b[0m\u001b[1;33m:\u001b[0m\u001b[1;33m\u001b[0m\u001b[0m\n\u001b[1;32m---> 45\u001b[1;33m             \u001b[1;32mreturn\u001b[0m \u001b[0mf\u001b[0m\u001b[1;33m(\u001b[0m\u001b[1;33m*\u001b[0m\u001b[0ma\u001b[0m\u001b[1;33m,\u001b[0m \u001b[1;33m**\u001b[0m\u001b[0mkw\u001b[0m\u001b[1;33m)\u001b[0m\u001b[1;33m\u001b[0m\u001b[0m\n\u001b[0m\u001b[0;32m     46\u001b[0m         \u001b[1;32mexcept\u001b[0m \u001b[0mpy4j\u001b[0m\u001b[1;33m.\u001b[0m\u001b[0mprotocol\u001b[0m\u001b[1;33m.\u001b[0m\u001b[0mPy4JJavaError\u001b[0m \u001b[1;32mas\u001b[0m \u001b[0me\u001b[0m\u001b[1;33m:\u001b[0m\u001b[1;33m\u001b[0m\u001b[0m\n\u001b[0;32m     47\u001b[0m             \u001b[0ms\u001b[0m \u001b[1;33m=\u001b[0m \u001b[0me\u001b[0m\u001b[1;33m.\u001b[0m\u001b[0mjava_exception\u001b[0m\u001b[1;33m.\u001b[0m\u001b[0mtoString\u001b[0m\u001b[1;33m(\u001b[0m\u001b[1;33m)\u001b[0m\u001b[1;33m\u001b[0m\u001b[0m\n",
      "\u001b[1;32m/usr/local/spark/python/lib/py4j-0.9-src.zip/py4j/protocol.py\u001b[0m in \u001b[0;36mget_return_value\u001b[1;34m(answer, gateway_client, target_id, name)\u001b[0m\n\u001b[0;32m    306\u001b[0m                 raise Py4JJavaError(\n\u001b[0;32m    307\u001b[0m                     \u001b[1;34m\"An error occurred while calling {0}{1}{2}.\\n\"\u001b[0m\u001b[1;33m.\u001b[0m\u001b[1;33m\u001b[0m\u001b[0m\n\u001b[1;32m--> 308\u001b[1;33m                     format(target_id, \".\", name), value)\n\u001b[0m\u001b[0;32m    309\u001b[0m             \u001b[1;32melse\u001b[0m\u001b[1;33m:\u001b[0m\u001b[1;33m\u001b[0m\u001b[0m\n\u001b[0;32m    310\u001b[0m                 raise Py4JError(\n",
      "\u001b[1;31mPy4JJavaError\u001b[0m: An error occurred while calling o57241.evaluate.\n: org.apache.spark.SparkException: Job aborted due to stage failure: Task 0 in stage 12699.0 failed 1 times, most recent failure: Lost task 0.0 in stage 12699.0 (TID 12696, localhost): java.util.NoSuchElementException: key not found: -1.0\n\tat scala.collection.MapLike$class.default(MapLike.scala:228)\n\tat scala.collection.AbstractMap.default(Map.scala:58)\n\tat scala.collection.MapLike$class.apply(MapLike.scala:141)\n\tat scala.collection.AbstractMap.apply(Map.scala:58)\n\tat org.apache.spark.ml.feature.VectorIndexerModel$$anonfun$10.apply(VectorIndexer.scala:331)\n\tat org.apache.spark.ml.feature.VectorIndexerModel$$anonfun$10.apply(VectorIndexer.scala:309)\n\tat org.apache.spark.ml.feature.VectorIndexerModel$$anonfun$11.apply(VectorIndexer.scala:351)\n\tat org.apache.spark.ml.feature.VectorIndexerModel$$anonfun$11.apply(VectorIndexer.scala:351)\n\tat org.apache.spark.sql.catalyst.expressions.GeneratedClass$SpecificUnsafeProjection.apply(Unknown Source)\n\tat org.apache.spark.sql.execution.Project$$anonfun$1$$anonfun$apply$1.apply(basicOperators.scala:51)\n\tat org.apache.spark.sql.execution.Project$$anonfun$1$$anonfun$apply$1.apply(basicOperators.scala:49)\n\tat scala.collection.Iterator$$anon$11.next(Iterator.scala:328)\n\tat scala.collection.Iterator$$anon$11.next(Iterator.scala:328)\n\tat scala.collection.Iterator$$anon$11.next(Iterator.scala:328)\n\tat scala.collection.Iterator$$anon$11.next(Iterator.scala:328)\n\tat scala.collection.Iterator$$anon$11.next(Iterator.scala:328)\n\tat scala.collection.Iterator$$anon$11.next(Iterator.scala:328)\n\tat org.apache.spark.util.collection.ExternalSorter.insertAll(ExternalSorter.scala:191)\n\tat org.apache.spark.shuffle.sort.SortShuffleWriter.write(SortShuffleWriter.scala:64)\n\tat org.apache.spark.scheduler.ShuffleMapTask.runTask(ShuffleMapTask.scala:73)\n\tat org.apache.spark.scheduler.ShuffleMapTask.runTask(ShuffleMapTask.scala:41)\n\tat org.apache.spark.scheduler.Task.run(Task.scala:89)\n\tat org.apache.spark.executor.Executor$TaskRunner.run(Executor.scala:213)\n\tat java.util.concurrent.ThreadPoolExecutor.runWorker(ThreadPoolExecutor.java:1145)\n\tat java.util.concurrent.ThreadPoolExecutor$Worker.run(ThreadPoolExecutor.java:615)\n\tat java.lang.Thread.run(Thread.java:745)\n\nDriver stacktrace:\n\tat org.apache.spark.scheduler.DAGScheduler.org$apache$spark$scheduler$DAGScheduler$$failJobAndIndependentStages(DAGScheduler.scala:1431)\n\tat org.apache.spark.scheduler.DAGScheduler$$anonfun$abortStage$1.apply(DAGScheduler.scala:1419)\n\tat org.apache.spark.scheduler.DAGScheduler$$anonfun$abortStage$1.apply(DAGScheduler.scala:1418)\n\tat scala.collection.mutable.ResizableArray$class.foreach(ResizableArray.scala:59)\n\tat scala.collection.mutable.ArrayBuffer.foreach(ArrayBuffer.scala:47)\n\tat org.apache.spark.scheduler.DAGScheduler.abortStage(DAGScheduler.scala:1418)\n\tat org.apache.spark.scheduler.DAGScheduler$$anonfun$handleTaskSetFailed$1.apply(DAGScheduler.scala:799)\n\tat org.apache.spark.scheduler.DAGScheduler$$anonfun$handleTaskSetFailed$1.apply(DAGScheduler.scala:799)\n\tat scala.Option.foreach(Option.scala:236)\n\tat org.apache.spark.scheduler.DAGScheduler.handleTaskSetFailed(DAGScheduler.scala:799)\n\tat org.apache.spark.scheduler.DAGSchedulerEventProcessLoop.doOnReceive(DAGScheduler.scala:1640)\n\tat org.apache.spark.scheduler.DAGSchedulerEventProcessLoop.onReceive(DAGScheduler.scala:1599)\n\tat org.apache.spark.scheduler.DAGSchedulerEventProcessLoop.onReceive(DAGScheduler.scala:1588)\n\tat org.apache.spark.util.EventLoop$$anon$1.run(EventLoop.scala:48)\n\tat org.apache.spark.scheduler.DAGScheduler.runJob(DAGScheduler.scala:620)\n\tat org.apache.spark.SparkContext.runJob(SparkContext.scala:1832)\n\tat org.apache.spark.SparkContext.runJob(SparkContext.scala:1845)\n\tat org.apache.spark.SparkContext.runJob(SparkContext.scala:1858)\n\tat org.apache.spark.SparkContext.runJob(SparkContext.scala:1929)\n\tat org.apache.spark.rdd.RDD$$anonfun$collect$1.apply(RDD.scala:927)\n\tat org.apache.spark.rdd.RDDOperationScope$.withScope(RDDOperationScope.scala:150)\n\tat org.apache.spark.rdd.RDDOperationScope$.withScope(RDDOperationScope.scala:111)\n\tat org.apache.spark.rdd.RDD.withScope(RDD.scala:316)\n\tat org.apache.spark.rdd.RDD.collect(RDD.scala:926)\n\tat org.apache.spark.rdd.PairRDDFunctions$$anonfun$countByKey$1.apply(PairRDDFunctions.scala:381)\n\tat org.apache.spark.rdd.PairRDDFunctions$$anonfun$countByKey$1.apply(PairRDDFunctions.scala:381)\n\tat org.apache.spark.rdd.RDDOperationScope$.withScope(RDDOperationScope.scala:150)\n\tat org.apache.spark.rdd.RDDOperationScope$.withScope(RDDOperationScope.scala:111)\n\tat org.apache.spark.rdd.RDD.withScope(RDD.scala:316)\n\tat org.apache.spark.rdd.PairRDDFunctions.countByKey(PairRDDFunctions.scala:380)\n\tat org.apache.spark.rdd.RDD$$anonfun$countByValue$1.apply(RDD.scala:1173)\n\tat org.apache.spark.rdd.RDD$$anonfun$countByValue$1.apply(RDD.scala:1173)\n\tat org.apache.spark.rdd.RDDOperationScope$.withScope(RDDOperationScope.scala:150)\n\tat org.apache.spark.rdd.RDDOperationScope$.withScope(RDDOperationScope.scala:111)\n\tat org.apache.spark.rdd.RDD.withScope(RDD.scala:316)\n\tat org.apache.spark.rdd.RDD.countByValue(RDD.scala:1172)\n\tat org.apache.spark.mllib.evaluation.MulticlassMetrics.labelCountByClass$lzycompute(MulticlassMetrics.scala:43)\n\tat org.apache.spark.mllib.evaluation.MulticlassMetrics.labelCountByClass(MulticlassMetrics.scala:43)\n\tat org.apache.spark.mllib.evaluation.MulticlassMetrics.weightedFMeasure$lzycompute(MulticlassMetrics.scala:205)\n\tat org.apache.spark.mllib.evaluation.MulticlassMetrics.weightedFMeasure(MulticlassMetrics.scala:205)\n\tat org.apache.spark.ml.evaluation.MulticlassClassificationEvaluator.evaluate(MulticlassClassificationEvaluator.scala:83)\n\tat sun.reflect.NativeMethodAccessorImpl.invoke0(Native Method)\n\tat sun.reflect.NativeMethodAccessorImpl.invoke(NativeMethodAccessorImpl.java:57)\n\tat sun.reflect.DelegatingMethodAccessorImpl.invoke(DelegatingMethodAccessorImpl.java:43)\n\tat java.lang.reflect.Method.invoke(Method.java:606)\n\tat py4j.reflection.MethodInvoker.invoke(MethodInvoker.java:231)\n\tat py4j.reflection.ReflectionEngine.invoke(ReflectionEngine.java:381)\n\tat py4j.Gateway.invoke(Gateway.java:259)\n\tat py4j.commands.AbstractCommand.invokeMethod(AbstractCommand.java:133)\n\tat py4j.commands.CallCommand.execute(CallCommand.java:79)\n\tat py4j.GatewayConnection.run(GatewayConnection.java:209)\n\tat java.lang.Thread.run(Thread.java:745)\nCaused by: java.util.NoSuchElementException: key not found: -1.0\n\tat scala.collection.MapLike$class.default(MapLike.scala:228)\n\tat scala.collection.AbstractMap.default(Map.scala:58)\n\tat scala.collection.MapLike$class.apply(MapLike.scala:141)\n\tat scala.collection.AbstractMap.apply(Map.scala:58)\n\tat org.apache.spark.ml.feature.VectorIndexerModel$$anonfun$10.apply(VectorIndexer.scala:331)\n\tat org.apache.spark.ml.feature.VectorIndexerModel$$anonfun$10.apply(VectorIndexer.scala:309)\n\tat org.apache.spark.ml.feature.VectorIndexerModel$$anonfun$11.apply(VectorIndexer.scala:351)\n\tat org.apache.spark.ml.feature.VectorIndexerModel$$anonfun$11.apply(VectorIndexer.scala:351)\n\tat org.apache.spark.sql.catalyst.expressions.GeneratedClass$SpecificUnsafeProjection.apply(Unknown Source)\n\tat org.apache.spark.sql.execution.Project$$anonfun$1$$anonfun$apply$1.apply(basicOperators.scala:51)\n\tat org.apache.spark.sql.execution.Project$$anonfun$1$$anonfun$apply$1.apply(basicOperators.scala:49)\n\tat scala.collection.Iterator$$anon$11.next(Iterator.scala:328)\n\tat scala.collection.Iterator$$anon$11.next(Iterator.scala:328)\n\tat scala.collection.Iterator$$anon$11.next(Iterator.scala:328)\n\tat scala.collection.Iterator$$anon$11.next(Iterator.scala:328)\n\tat scala.collection.Iterator$$anon$11.next(Iterator.scala:328)\n\tat scala.collection.Iterator$$anon$11.next(Iterator.scala:328)\n\tat org.apache.spark.util.collection.ExternalSorter.insertAll(ExternalSorter.scala:191)\n\tat org.apache.spark.shuffle.sort.SortShuffleWriter.write(SortShuffleWriter.scala:64)\n\tat org.apache.spark.scheduler.ShuffleMapTask.runTask(ShuffleMapTask.scala:73)\n\tat org.apache.spark.scheduler.ShuffleMapTask.runTask(ShuffleMapTask.scala:41)\n\tat org.apache.spark.scheduler.Task.run(Task.scala:89)\n\tat org.apache.spark.executor.Executor$TaskRunner.run(Executor.scala:213)\n\tat java.util.concurrent.ThreadPoolExecutor.runWorker(ThreadPoolExecutor.java:1145)\n\tat java.util.concurrent.ThreadPoolExecutor$Worker.run(ThreadPoolExecutor.java:615)\n\t... 1 more\n"
     ]
    }
   ],
   "source": [
    "from pyspark.ml.feature import StringIndexer, VectorIndexer\n",
    "from pyspark.ml.feature import VectorAssembler\n",
    "from pyspark.ml import Pipeline\n",
    "from pyspark.ml.evaluation import MulticlassClassificationEvaluator\n",
    "from pyspark.ml.classification import RandomForestClassifier\n",
    "import time \n",
    "sql_sc = SQLContext(sc)\n",
    "train_data.iloc[:(m/5),:]\n",
    "train_data.iloc[(m/5):(2*m/5),:]\n",
    "train_data.iloc[(2*m/5):(3*m/5),:]\n",
    "train_data.iloc[(3*m/5):(5*m/5),:]\n",
    "train_data.iloc[(4*m/5):m,:]\n",
    "\n",
    "cross_data_list = [i for i in range(1,6)]\n",
    "cross_data_list[0] = train_data.iloc[:(m/5),:]\n",
    "cross_data_list[1] = train_data.iloc[(m/5):(2*m/5),:]\n",
    "cross_data_list[2] = train_data.iloc[(2*m/5):(3*m/5),:]\n",
    "cross_data_list[3] = train_data.iloc[(3*m/5):(5*m/5),:]\n",
    "cross_data_list[4] = train_data.iloc[(4*m/5):m,:]\n",
    "cross_data_pandas = [i for i in range(1,6)]\n",
    "for i in range(0,5,1):\n",
    "    cross_data_pandas[i] = pd.DataFrame(cross_data_list[i])\n",
    "#cross_data_pandas[4]\n",
    "\n",
    "cross_sql = [i for i in range(1,6)]\n",
    "for i in range(0,5,1):\n",
    "    cross_sql[i] = sql_sc.createDataFrame(cross_data_pandas[i])\n",
    "\n",
    "assembler1 = VectorAssembler(inputCols=[\"RSI2\",\"RSI3\",\"RSI4\",\"RSI5\",\"RSI6\",\"RSI7\",\"RSI8\"\n",
    "                                       ,\"RSI9\",\"RSI10\",\"RSI11\",\"RSI12\",\"RSI13\",\"RSI14\",\"RSI15\"\n",
    "                                       ,\"RSI17\",\"RSI_V2\",\"RSI_V3\",\"RSI_V4\",\"RSI_V5\",\"RSI_V6\"\n",
    "                                       ,\"RSI_V7\",\"RSI_V8\",\"RSI_V9\",\"RSI_V10\",\"RSI_V11\",\"RSI_V12\"\n",
    "                                       ,\"RSI_V13\",\"RSI_V14\",\"RSI_V15\",\"RSI_V16\",\"RSI_V17\",\"RSI_H2\"\n",
    "                                       ,\"RSI_H3\",\"RSI_H4\",\"RSI_H5\",\"RSI_H6\",\"RSI_H7\",\"RSI_H8\",\"RSI_H9\"\n",
    "                                       ,\"RSI_H10\",\"RSI_H11\",\"RSI_H12\",\"RSI_H13\",\"RSI_H14\",\"RSI_H15\"\n",
    "                                       ,\"RSI_H16\",\"RSI_H17\",\"BIAS1\", \"BIAS2\", \"BIAS3\",\"BIAS4\",\"BIAS5\"\n",
    "                                       ,\"BIAS6\",\"BIAS7\",\"BIAS8\",\"BIAS9\",\"BIAS10\",\"BIAS11\",\"BIAS12\"\n",
    "                                       ,\"BIAS13\",\"BIAS14\",\"BIAS15\",\"BIAS16\",\"BIAS17\",\"BIAS18\"\n",
    "                                       ,\"BIAS19\",\"BIAS20\",\"BIAS21\",\"BIAS22\",\"BIAS23\",\"BIAS24\"\n",
    "                                       ,'MA1cross','MA2cross','MA3cross','MA4cross','MA5cross','MA6cross'\n",
    "                                       ,'MA7cross','MA8cross','MA9cross','MA10cross','MA11cross','MA12cross'\n",
    "                                       ,'MA13cross','MA14cross','MA15cross','MA16cross','MA17cross','MA18cross'\n",
    "                                       ,'MA19cross','MA20cross','MA21cross','MA22cross','MA23cross','MA24cross'\n",
    "                                       ,'MA25cross','MA26cross','MA27cross','MA28cross','MA29cross','MA30cross'\n",
    "                                       ,'MA31cross','MA32cross','MA33cross','MA34cross','MA35cross','MA36cross'\n",
    "                                       #,'MA37cross','MA38cross','MA39cross','MA40cross','MA41cross','MA42cross'\n",
    "                                       #,'MA43cross','MA44cross','MA45cross','MA46cross','MA47cross','MA48cross'\n",
    "                                       #,'MA49cross','MA50cross','MA51cross','MA52cross','MA53cross','MA54cross'\n",
    "                                       #,'MA55cross','MA56cross','MA57cross','MA58cross','MA59cross','MA60cross'\n",
    "                                       #,'MA1-MA6','MA2-MA7','MA3-MA8','MA4-MA9','MA5-MA10','MA6-MA11','MA7-MA12'\n",
    "                                       #,'MA8-MA13','MA9-MA14','MA10-MA15','MA11-MA16','MA12-MA17','MA13-MA18'\n",
    "                                       #,'MA14-MA19','MA15-MA20','MA16-MA21','MA17-MA22','MA18-MA23','MA19-MA24'\n",
    "                                       #,'MA20-MA25','MA21-MA26','MA22-MA27','MA23-MA28','MA24-MA29','MA25-MA30'\n",
    "                                       #,'MA26-MA31','MA27-MA32','MA28-MA33','MA29-MA34','MA30-MA35','MA31-MA36'\n",
    "                                       #,'MA32-MA37','MA33-MA38','MA34-MA39','MA35-MA40','MA36-MA41','MA37-MA42'\n",
    "                                       #,'MA38-MA43','MA39-MA44','MA40-MA45','MA41-MA46','MA42-MA47','MA43-MA48'\n",
    "                                       #,'MA44-MA49','MA45-MA50','MA46-MA51','MA47-MA52','MA48-MA53','MA49-MA54'\n",
    "                                       #,'MA50-MA55','MA51-MA56','MA52-MA57','MA53-MA58','MA54-MA59'\n",
    "                                       #,'MA55-MA60','WMS2_lag','WMS3_lag','WMS4_lag','WMS5_lag','WMS6_lag'\n",
    "                                       #,'WMS7_lag','WMS8_lag','WMS9_lag','WMS10_lag','WMS11_lag','WMS12_lag'\n",
    "                                       #,'WMS13_lag','WMS14_lag','WMS15_lag','WMS16_lag','WMS17_lag','WMS18_lag'\n",
    "                                       ,'WMS19_lag'], outputCol=\"features\")\n",
    "for i in range(0,5,1):\n",
    "    cross_sql[i] = assembler1.transform(cross_sql[i])\n",
    "    \n",
    "frames = [i for i in range(1,6)]\n",
    "for i in range(0,5):\n",
    "    #print(i)\n",
    "    frames[i] = pd.concat([cross_data_pandas[(i+1)%5],cross_data_pandas[(i+2)%5],cross_data_pandas[(i+3)%5],cross_data_pandas[(i+4)%5]])\n",
    "    result_sql = [i for i in range(1,6)]\n",
    "\n",
    "for i in range(0,5):   \n",
    "    result_sql[i] = sql_sc.createDataFrame(frames[i])   \n",
    "    \n",
    "assembler1 = VectorAssembler(inputCols=[\"RSI2\",\"RSI3\",\"RSI4\",\"RSI5\",\"RSI6\",\"RSI7\",\"RSI8\"\n",
    "                                       ,\"RSI9\",\"RSI10\",\"RSI11\",\"RSI12\",\"RSI13\",\"RSI14\",\"RSI15\"\n",
    "                                       ,\"RSI17\",\"RSI_V2\",\"RSI_V3\",\"RSI_V4\",\"RSI_V5\",\"RSI_V6\"\n",
    "                                       ,\"RSI_V7\",\"RSI_V8\",\"RSI_V9\",\"RSI_V10\",\"RSI_V11\",\"RSI_V12\"\n",
    "                                       ,\"RSI_V13\",\"RSI_V14\",\"RSI_V15\",\"RSI_V16\",\"RSI_V17\",\"RSI_H2\"\n",
    "                                       ,\"RSI_H3\",\"RSI_H4\",\"RSI_H5\",\"RSI_H6\",\"RSI_H7\",\"RSI_H8\",\"RSI_H9\"\n",
    "                                       ,\"RSI_H10\",\"RSI_H11\",\"RSI_H12\",\"RSI_H13\",\"RSI_H14\",\"RSI_H15\"\n",
    "                                       ,\"RSI_H16\",\"RSI_H17\",\"BIAS1\", \"BIAS2\", \"BIAS3\",\"BIAS4\",\"BIAS5\"\n",
    "                                       ,\"BIAS6\",\"BIAS7\",\"BIAS8\",\"BIAS9\",\"BIAS10\",\"BIAS11\",\"BIAS12\"\n",
    "                                       ,\"BIAS13\",\"BIAS14\",\"BIAS15\",\"BIAS16\",\"BIAS17\",\"BIAS18\"\n",
    "                                       ,\"BIAS19\",\"BIAS20\",\"BIAS21\",\"BIAS22\",\"BIAS23\",\"BIAS24\"\n",
    "                                       ,'MA1cross','MA2cross','MA3cross','MA4cross','MA5cross','MA6cross'\n",
    "                                       ,'MA7cross','MA8cross','MA9cross','MA10cross','MA11cross','MA12cross'\n",
    "                                       ,'MA13cross','MA14cross','MA15cross','MA16cross','MA17cross','MA18cross'\n",
    "                                       ,'MA19cross','MA20cross','MA21cross','MA22cross','MA23cross','MA24cross'\n",
    "                                       ,'MA25cross','MA26cross','MA27cross','MA28cross','MA29cross','MA30cross'\n",
    "                                       ,'MA31cross','MA32cross','MA33cross','MA34cross','MA35cross','MA36cross'\n",
    "                                       #,'MA37cross','MA38cross','MA39cross','MA40cross','MA41cross','MA42cross'\n",
    "                                       #,'MA43cross','MA44cross','MA45cross','MA46cross','MA47cross','MA48cross'\n",
    "                                       #,'MA49cross','MA50cross','MA51cross','MA52cross','MA53cross','MA54cross'\n",
    "                                       #,'MA55cross','MA56cross','MA57cross','MA58cross','MA59cross','MA60cross'\n",
    "                                       #,'MA1-MA6','MA2-MA7','MA3-MA8','MA4-MA9','MA5-MA10','MA6-MA11','MA7-MA12'\n",
    "                                       #,'MA8-MA13','MA9-MA14','MA10-MA15','MA11-MA16','MA12-MA17','MA13-MA18'\n",
    "                                       #,'MA14-MA19','MA15-MA20','MA16-MA21','MA17-MA22','MA18-MA23','MA19-MA24'\n",
    "                                       #,'MA20-MA25','MA21-MA26','MA22-MA27','MA23-MA28','MA24-MA29','MA25-MA30'\n",
    "                                       #,'MA26-MA31','MA27-MA32','MA28-MA33','MA29-MA34','MA30-MA35','MA31-MA36'\n",
    "                                       #,'MA32-MA37','MA33-MA38','MA34-MA39','MA35-MA40','MA36-MA41','MA37-MA42'\n",
    "                                       #,'MA38-MA43','MA39-MA44','MA40-MA45','MA41-MA46','MA42-MA47','MA43-MA48'\n",
    "                                       #,'MA44-MA49','MA45-MA50','MA46-MA51','MA47-MA52','MA48-MA53','MA49-MA54'\n",
    "                                       #,'MA50-MA55','MA51-MA56','MA52-MA57','MA53-MA58','MA54-MA59'\n",
    "                                       #,'MA55-MA60','WMS2_lag','WMS3_lag','WMS4_lag','WMS5_lag','WMS6_lag'\n",
    "                                       #,'WMS7_lag','WMS8_lag','WMS9_lag','WMS10_lag','WMS11_lag','WMS12_lag'\n",
    "                                       #,'WMS13_lag','WMS14_lag','WMS15_lag','WMS16_lag','WMS17_lag','WMS18_lag'\n",
    "                                       ,'WMS19_lag'],outputCol=\"features\")\n",
    "for i in range(0,5):  \n",
    "    result_sql[i] = assembler1.transform(result_sql[i])\n",
    "\n",
    "start = time.time()\n",
    "\n",
    "cv5_test_error = []    \n",
    "numTrees_maxDepth = []    \n",
    "for j in range(1,7,1):\n",
    "    for k in range(1,21,1):\n",
    "        Test_Error = []\n",
    "        for i in range(0,5):\n",
    "            labelIndexer = StringIndexer(inputCol = \"UP_DOWN\", outputCol=\"indexedLabel\").fit(result_sql[i])\n",
    "            featureIndexer = VectorIndexer(inputCol = \"features\", outputCol=\"indexedFeatures\").fit(result_sql[i])\n",
    "            #rf = RandomForestClassifier(labelCol=\"labelIndexer\", featuresCol=\"features\")\n",
    "            rf = RandomForestClassifier(labelCol=\"indexedLabel\", featuresCol=\"indexedFeatures\",numTrees = k,maxDepth = j)\n",
    "            # Chain indexers and forest in a Pipeline\n",
    "            pipeline = Pipeline(stages=[labelIndexer,featureIndexer,rf])\n",
    "            model = pipeline.fit(result_sql[i])\n",
    "            predictions = model.transform(cross_sql[i])\n",
    "            evaluator = MulticlassClassificationEvaluator(labelCol=\"indexedLabel\", predictionCol=\"prediction\")#, metricName=\"accuracy\")\n",
    "            accuracy = evaluator.evaluate(predictions)\n",
    "            print(\"Test Error(%d) = %g\" % (i,1.0 - accuracy))\n",
    "            Test_Error.append(1.0 - accuracy)\n",
    "        cv5_test_error.append(mean(Test_Error))\n",
    "        numTrees_maxDepth.append([i,j])\n",
    "\n",
    "end = time.time()\n",
    "print \"Cross Validation 5 Folds Hyperparameter Tuning : Time taken = %f second\"%(end - start)\n",
    "        \n",
    "mintest = np.min(cv5_test_error)\n",
    "c = []\n",
    "for i in range(len(cv5_test_error)):\n",
    "    c.append(np.min(cv5_test_error) == cv5_test_error[i])\n",
    "    \n",
    "for i in range(len(cv5_test_error)):    \n",
    "    if c[i] == True:\n",
    "        print(numTrees_maxDepth[i],mintest)       "
   ]
  },
  {
   "cell_type": "code",
   "execution_count": null,
   "metadata": {
    "collapsed": true
   },
   "outputs": [],
   "source": []
  },
  {
   "cell_type": "code",
   "execution_count": 23,
   "metadata": {
    "collapsed": true
   },
   "outputs": [],
   "source": [
    "train_data = data1.iloc[:m,:]\n",
    "train_sql = sql_sc.createDataFrame(train_data)\n",
    "test_data = data1.iloc[m:,:]\n",
    "test_sql = sql_sc.createDataFrame(test_data)\n",
    "\n",
    "assembler1 = VectorAssembler(inputCols=[\"RSI2\",\"RSI3\",\"RSI4\",\"RSI5\",\"RSI6\",\"RSI7\",\"RSI8\"\n",
    "                                       ,\"RSI9\",\"RSI10\",\"RSI11\",\"RSI12\",\"RSI13\",\"RSI14\",\"RSI15\"\n",
    "                                       ,\"RSI17\",\"RSI_V2\",\"RSI_V3\",\"RSI_V4\",\"RSI_V5\",\"RSI_V6\"\n",
    "                                       ,\"RSI_V7\",\"RSI_V8\",\"RSI_V9\",\"RSI_V10\",\"RSI_V11\",\"RSI_V12\"\n",
    "                                       ,\"RSI_V13\",\"RSI_V14\",\"RSI_V15\",\"RSI_V16\",\"RSI_V17\",\"RSI_H2\"\n",
    "                                       ,\"RSI_H3\",\"RSI_H4\",\"RSI_H5\",\"RSI_H6\",\"RSI_H7\",\"RSI_H8\",\"RSI_H9\"\n",
    "                                       ,\"RSI_H10\",\"RSI_H11\",\"RSI_H12\",\"RSI_H13\",\"RSI_H14\",\"RSI_H15\"\n",
    "                                       ,\"RSI_H16\",\"RSI_H17\",\"BIAS1\", \"BIAS2\", \"BIAS3\",\"BIAS4\",\"BIAS5\"\n",
    "                                       ,\"BIAS6\",\"BIAS7\",\"BIAS8\",\"BIAS9\",\"BIAS10\",\"BIAS11\",\"BIAS12\"\n",
    "                                       ,\"BIAS13\",\"BIAS14\",\"BIAS15\",\"BIAS16\",\"BIAS17\",\"BIAS18\"\n",
    "                                       ,\"BIAS19\",\"BIAS20\",\"BIAS21\",\"BIAS22\",\"BIAS23\",\"BIAS24\"\n",
    "                                       ,'MA1cross','MA2cross','MA3cross','MA4cross','MA5cross','MA6cross'\n",
    "                                       ,'MA7cross','MA8cross','MA9cross','MA10cross','MA11cross','MA12cross'\n",
    "                                       ,'MA13cross','MA14cross','MA15cross','MA16cross','MA17cross','MA18cross'\n",
    "                                       ,'MA19cross','MA20cross','MA21cross','MA22cross','MA23cross','MA24cross'\n",
    "                                       ,'MA25cross','MA26cross','MA27cross','MA28cross','MA29cross','MA30cross'\n",
    "                                       ,'MA31cross','MA32cross','MA33cross','MA34cross','MA35cross','MA36cross'\n",
    "                                       ,'MA37cross','MA38cross','MA39cross','MA40cross','MA41cross','MA42cross'\n",
    "                                       ,'MA43cross','MA44cross','MA45cross','MA46cross','MA47cross','MA48cross'\n",
    "                                       ,'MA49cross','MA50cross','MA51cross','MA52cross','MA53cross','MA54cross'\n",
    "                                       ,'MA55cross','MA56cross','MA57cross','MA58cross','MA59cross','MA60cross'\n",
    "                                       ,'MA1-MA6','MA2-MA7','MA3-MA8','MA4-MA9','MA5-MA10','MA6-MA11','MA7-MA12'\n",
    "                                       ,'MA8-MA13','MA9-MA14','MA10-MA15','MA11-MA16','MA12-MA17','MA13-MA18'\n",
    "                                       ,'MA14-MA19','MA15-MA20','MA16-MA21','MA17-MA22','MA18-MA23','MA19-MA24'\n",
    "                                       ,'MA20-MA25','MA21-MA26','MA22-MA27','MA23-MA28','MA24-MA29','MA25-MA30'\n",
    "                                       ,'MA26-MA31','MA27-MA32','MA28-MA33','MA29-MA34','MA30-MA35','MA31-MA36'\n",
    "                                       ,'MA32-MA37','MA33-MA38','MA34-MA39','MA35-MA40','MA36-MA41','MA37-MA42'\n",
    "                                       ,'MA38-MA43','MA39-MA44','MA40-MA45','MA41-MA46','MA42-MA47','MA43-MA48'\n",
    "                                       ,'MA44-MA49','MA45-MA50','MA46-MA51','MA47-MA52','MA48-MA53','MA49-MA54'\n",
    "                                       ,'MA50-MA55','MA51-MA56','MA52-MA57','MA53-MA58','MA54-MA59'\n",
    "                                       ,'MA55-MA60','WMS2_lag','WMS3_lag','WMS4_lag','WMS5_lag','WMS6_lag'\n",
    "                                       ,'WMS7_lag','WMS8_lag','WMS9_lag','WMS10_lag','WMS11_lag','WMS12_lag'\n",
    "                                       ,'WMS13_lag','WMS14_lag','WMS15_lag','WMS16_lag','WMS17_lag','WMS18_lag'\n",
    "                                       ,'WMS19_lag'],outputCol=\"features\")\n",
    "train_sql = assembler1.transform(train_sql)\n",
    "labelIndexer = StringIndexer(inputCol = \"UP_DOWN\", outputCol=\"indexedLabel\").fit(train_sql)\n",
    "featureIndexer = VectorIndexer(inputCol = \"features\", outputCol=\"indexedFeatures\").fit(train_sql)\n",
    "rf = RandomForestClassifier(labelCol=\"indexedLabel\", featuresCol=\"indexedFeatures\",numTrees = 4,maxDepth = 6)\n",
    "pipeline = Pipeline(stages=[labelIndexer,featureIndexer,rf])\n",
    "model = pipeline.fit(train_sql)\n",
    "assembler = VectorAssembler(inputCols=[\"RSI2\",\"RSI3\",\"RSI4\",\"RSI5\",\"RSI6\",\"RSI7\",\"RSI8\"\n",
    "                                       ,\"RSI9\",\"RSI10\",\"RSI11\",\"RSI12\",\"RSI13\",\"RSI14\",\"RSI15\"\n",
    "                                       ,\"RSI17\",\"RSI_V2\",\"RSI_V3\",\"RSI_V4\",\"RSI_V5\",\"RSI_V6\"\n",
    "                                       ,\"RSI_V7\",\"RSI_V8\",\"RSI_V9\",\"RSI_V10\",\"RSI_V11\",\"RSI_V12\"\n",
    "                                       ,\"RSI_V13\",\"RSI_V14\",\"RSI_V15\",\"RSI_V16\",\"RSI_V17\",\"RSI_H2\"\n",
    "                                       ,\"RSI_H3\",\"RSI_H4\",\"RSI_H5\",\"RSI_H6\",\"RSI_H7\",\"RSI_H8\",\"RSI_H9\"\n",
    "                                       ,\"RSI_H10\",\"RSI_H11\",\"RSI_H12\",\"RSI_H13\",\"RSI_H14\",\"RSI_H15\"\n",
    "                                       ,\"RSI_H16\",\"RSI_H17\",\"BIAS1\", \"BIAS2\", \"BIAS3\",\"BIAS4\",\"BIAS5\"\n",
    "                                       ,\"BIAS6\",\"BIAS7\",\"BIAS8\",\"BIAS9\",\"BIAS10\",\"BIAS11\",\"BIAS12\"\n",
    "                                       ,\"BIAS13\",\"BIAS14\",\"BIAS15\",\"BIAS16\",\"BIAS17\",\"BIAS18\"\n",
    "                                       ,\"BIAS19\",\"BIAS20\",\"BIAS21\",\"BIAS22\",\"BIAS23\",\"BIAS24\"\n",
    "                                       ,'MA1cross','MA2cross','MA3cross','MA4cross','MA5cross','MA6cross'\n",
    "                                       ,'MA7cross','MA8cross','MA9cross','MA10cross','MA11cross','MA12cross'\n",
    "                                       ,'MA13cross','MA14cross','MA15cross','MA16cross','MA17cross','MA18cross'\n",
    "                                       ,'MA19cross','MA20cross','MA21cross','MA22cross','MA23cross','MA24cross'\n",
    "                                       ,'MA25cross','MA26cross','MA27cross','MA28cross','MA29cross','MA30cross'\n",
    "                                       ,'MA31cross','MA32cross','MA33cross','MA34cross','MA35cross','MA36cross'\n",
    "                                       ,'MA37cross','MA38cross','MA39cross','MA40cross','MA41cross','MA42cross'\n",
    "                                       ,'MA43cross','MA44cross','MA45cross','MA46cross','MA47cross','MA48cross'\n",
    "                                       ,'MA49cross','MA50cross','MA51cross','MA52cross','MA53cross','MA54cross'\n",
    "                                       ,'MA55cross','MA56cross','MA57cross','MA58cross','MA59cross','MA60cross'\n",
    "                                       ,'MA1-MA6','MA2-MA7','MA3-MA8','MA4-MA9','MA5-MA10','MA6-MA11','MA7-MA12'\n",
    "                                       ,'MA8-MA13','MA9-MA14','MA10-MA15','MA11-MA16','MA12-MA17','MA13-MA18'\n",
    "                                       ,'MA14-MA19','MA15-MA20','MA16-MA21','MA17-MA22','MA18-MA23','MA19-MA24'\n",
    "                                       ,'MA20-MA25','MA21-MA26','MA22-MA27','MA23-MA28','MA24-MA29','MA25-MA30'\n",
    "                                       ,'MA26-MA31','MA27-MA32','MA28-MA33','MA29-MA34','MA30-MA35','MA31-MA36'\n",
    "                                       ,'MA32-MA37','MA33-MA38','MA34-MA39','MA35-MA40','MA36-MA41','MA37-MA42'\n",
    "                                       ,'MA38-MA43','MA39-MA44','MA40-MA45','MA41-MA46','MA42-MA47','MA43-MA48'\n",
    "                                       ,'MA44-MA49','MA45-MA50','MA46-MA51','MA47-MA52','MA48-MA53','MA49-MA54'\n",
    "                                       ,'MA50-MA55','MA51-MA56','MA52-MA57','MA53-MA58','MA54-MA59'\n",
    "                                       ,'MA55-MA60','WMS2_lag','WMS3_lag','WMS4_lag','WMS5_lag','WMS6_lag'\n",
    "                                       ,'WMS7_lag','WMS8_lag','WMS9_lag','WMS10_lag','WMS11_lag','WMS12_lag'\n",
    "                                       ,'WMS13_lag','WMS14_lag','WMS15_lag','WMS16_lag','WMS17_lag','WMS18_lag'\n",
    "                                       ,'WMS19_lag'],outputCol=\"features\")\n",
    "test_sql = assembler.transform(test_sql)\n",
    "predictions = model.transform(test_sql)\n",
    "evaluator = MulticlassClassificationEvaluator(labelCol=\"indexedLabel\", predictionCol=\"prediction\")#, metricName=\"accuracy\")\n",
    "#accuracy = evaluator.evaluate(predictions)\n",
    "#accuracy"
   ]
  },
  {
   "cell_type": "code",
   "execution_count": 24,
   "metadata": {
    "collapsed": true
   },
   "outputs": [],
   "source": [
    "from sklearn.metrics import confusion_matrix\n",
    "def plot_confusion_matrix(cm, title='Confusion matrix', cmap=plt.cm.Blues):\n",
    "    plt.imshow(cm, interpolation='nearest', cmap=cmap)\n",
    "    plt.title(title)\n",
    "    plt.colorbar()\n",
    "    #tick_marks = np.arange(len(iris.target_names))\n",
    "    #plt.xticks(tick_marks, iris.target_names, rotation=45)\n",
    "    #plt.yticks(tick_marks, iris.target_names)\n",
    "    plt.tight_layout()\n",
    "    plt.ylabel('True label')\n",
    "    plt.xlabel('Predicted label')"
   ]
  },
  {
   "cell_type": "code",
   "execution_count": 25,
   "metadata": {
    "collapsed": false
   },
   "outputs": [
    {
     "data": {
      "text/html": [
       "<div>\n",
       "<table border=\"1\" class=\"dataframe\">\n",
       "  <thead>\n",
       "    <tr style=\"text-align: right;\">\n",
       "      <th>preds</th>\n",
       "      <th>0.0</th>\n",
       "      <th>1.0</th>\n",
       "    </tr>\n",
       "    <tr>\n",
       "      <th>actual</th>\n",
       "      <th></th>\n",
       "      <th></th>\n",
       "    </tr>\n",
       "  </thead>\n",
       "  <tbody>\n",
       "    <tr>\n",
       "      <th>0.0</th>\n",
       "      <td>467</td>\n",
       "      <td>40</td>\n",
       "    </tr>\n",
       "    <tr>\n",
       "      <th>1.0</th>\n",
       "      <td>393</td>\n",
       "      <td>24</td>\n",
       "    </tr>\n",
       "  </tbody>\n",
       "</table>\n",
       "</div>"
      ],
      "text/plain": [
       "preds   0.0  1.0\n",
       "actual          \n",
       "0.0     467   40\n",
       "1.0     393   24"
      ]
     },
     "execution_count": 25,
     "metadata": {},
     "output_type": "execute_result"
    }
   ],
   "source": [
    "prediction_1101 = predictions.select(\"prediction\", \"indexedLabel\")\n",
    "prediction_1101_pandas = prediction_1101.toPandas()\n",
    "cm = confusion_matrix(prediction_1101_pandas['indexedLabel'], prediction_1101_pandas['prediction'])\n",
    "pd.crosstab(prediction_1101_pandas['indexedLabel'], prediction_1101_pandas['prediction'], rownames=['actual'], colnames=['preds'])"
   ]
  },
  {
   "cell_type": "code",
   "execution_count": 27,
   "metadata": {
    "collapsed": true
   },
   "outputs": [],
   "source": [
    "def plot_confusion_matrix(cm, title='Confusion matrix', cmap=plt.cm.Blues):\n",
    "    plt.imshow(cm, interpolation='nearest', cmap=cmap)\n",
    "    plt.title(title)\n",
    "    plt.colorbar()\n",
    "    #tick_marks = np.arange(len(iris.target_names))\n",
    "    #plt.xticks(tick_marks, iris.target_names, rotation=45)\n",
    "    #plt.yticks(tick_marks, iris.target_names)\n",
    "    plt.tight_layout()\n",
    "    plt.ylabel('True label')\n",
    "    plt.xlabel('Predicted label')"
   ]
  },
  {
   "cell_type": "code",
   "execution_count": 28,
   "metadata": {
    "collapsed": false
   },
   "outputs": [
    {
     "data": {
      "image/png": "[encoded data removed]",
      "text/plain": [
       "<matplotlib.figure.Figure at 0x7fa36e8801d0>"
      ]
     },
     "metadata": {},
     "output_type": "display_data"
    }
   ],
   "source": [
    "plot_confusion_matrix(cm)\n",
    "plt.show()"
   ]
  },
  {
   "cell_type": "markdown",
   "metadata": {},
   "source": [
    "當沖策略：每天都會買賣，預測漲買一張而預測跌則放空一張"
   ]
  },
  {
   "cell_type": "markdown",
   "metadata": {},
   "source": [
    "一張一千股，買一張的價格等於股價乘上股數"
   ]
  },
  {
   "cell_type": "code",
   "execution_count": 78,
   "metadata": {
    "collapsed": false
   },
   "outputs": [],
   "source": [
    "data_p = data[['Close','Open']][(4621-n):4622].values\n",
    "data_p1 = pd.DataFrame(data_p,columns = ['Close','Open'])\n",
    "result = np.c_[prediction_1101_pandas['indexedLabel'],prediction_1101_pandas['prediction']]\n",
    "result1 = pd.DataFrame(result , columns = ['test', 'prediction'])\n",
    "result2 = pd.concat([data_p1, result1], axis=1)\n",
    "result2[\"Cl - Op\"] = result2['Close'] - result2['Open']\n",
    "result2['prediction'] = result2['prediction'].replace(0,-1)\n",
    "result2['profit'] = 1000*result2['Open'] * result2['Cl - Op'] * result2['prediction']"
   ]
  },
  {
   "cell_type": "code",
   "execution_count": 79,
   "metadata": {
    "collapsed": false
   },
   "outputs": [
    {
     "data": {
      "text/html": [
       "<div>\n",
       "<table border=\"1\" class=\"dataframe\">\n",
       "  <thead>\n",
       "    <tr style=\"text-align: right;\">\n",
       "      <th></th>\n",
       "      <th>Close</th>\n",
       "      <th>Open</th>\n",
       "      <th>test</th>\n",
       "      <th>prediction</th>\n",
       "      <th>Cl - Op</th>\n",
       "      <th>profit</th>\n",
       "    </tr>\n",
       "  </thead>\n",
       "  <tbody>\n",
       "    <tr>\n",
       "      <th>0</th>\n",
       "      <td>28.76</td>\n",
       "      <td>28.67</td>\n",
       "      <td>1.0</td>\n",
       "      <td>-1.0</td>\n",
       "      <td>0.09</td>\n",
       "      <td>-2580.3</td>\n",
       "    </tr>\n",
       "    <tr>\n",
       "      <th>1</th>\n",
       "      <td>28.67</td>\n",
       "      <td>28.76</td>\n",
       "      <td>1.0</td>\n",
       "      <td>1.0</td>\n",
       "      <td>-0.09</td>\n",
       "      <td>-2588.4</td>\n",
       "    </tr>\n",
       "    <tr>\n",
       "      <th>2</th>\n",
       "      <td>28.63</td>\n",
       "      <td>28.67</td>\n",
       "      <td>0.0</td>\n",
       "      <td>-1.0</td>\n",
       "      <td>-0.04</td>\n",
       "      <td>1146.8</td>\n",
       "    </tr>\n",
       "    <tr>\n",
       "      <th>3</th>\n",
       "      <td>28.29</td>\n",
       "      <td>28.50</td>\n",
       "      <td>0.0</td>\n",
       "      <td>-1.0</td>\n",
       "      <td>-0.21</td>\n",
       "      <td>5985.0</td>\n",
       "    </tr>\n",
       "    <tr>\n",
       "      <th>4</th>\n",
       "      <td>27.95</td>\n",
       "      <td>28.33</td>\n",
       "      <td>0.0</td>\n",
       "      <td>-1.0</td>\n",
       "      <td>-0.38</td>\n",
       "      <td>10765.4</td>\n",
       "    </tr>\n",
       "  </tbody>\n",
       "</table>\n",
       "</div>"
      ],
      "text/plain": [
       "   Close   Open  test  prediction  Cl - Op   profit\n",
       "0  28.76  28.67   1.0        -1.0     0.09  -2580.3\n",
       "1  28.67  28.76   1.0         1.0    -0.09  -2588.4\n",
       "2  28.63  28.67   0.0        -1.0    -0.04   1146.8\n",
       "3  28.29  28.50   0.0        -1.0    -0.21   5985.0\n",
       "4  27.95  28.33   0.0        -1.0    -0.38  10765.4"
      ]
     },
     "execution_count": 79,
     "metadata": {},
     "output_type": "execute_result"
    }
   ],
   "source": [
    "result2.head()"
   ]
  },
  {
   "cell_type": "code",
   "execution_count": 80,
   "metadata": {
    "collapsed": false
   },
   "outputs": [
    {
     "data": {
      "text/plain": [
       "<matplotlib.axes._subplots.AxesSubplot at 0x7fa359123590>"
      ]
     },
     "execution_count": 80,
     "metadata": {},
     "output_type": "execute_result"
    },
    {
     "data": {
      "image/png": "[encoded data removed]",
      "text/plain": [
       "<matplotlib.figure.Figure at 0x7fa35c134c50>"
      ]
     },
     "metadata": {},
     "output_type": "display_data"
    }
   ],
   "source": [
    "a = result2['profit'].cumsum()\n",
    "from IPython.core.pylabtools import figsize\n",
    "figsize(10.5, 8.5)\n",
    "a.plot()"
   ]
  },
  {
   "cell_type": "code",
   "execution_count": 81,
   "metadata": {
    "collapsed": true
   },
   "outputs": [],
   "source": [
    "result2['processing fee1'] = np.where(result2['prediction'] == 1,1000*(result2['Close']*(4.425/1000.0) + result2['Open']*(1.425/1000.0))*1\n",
    "                                      ,1000*(result2['Close']*(1.425/1000.0) + result2['Open']*(4.425/1000.0)))\n",
    "result2['profit_r_fee'] = result2['profit'] -  result2['processing fee1']"
   ]
  },
  {
   "cell_type": "code",
   "execution_count": 82,
   "metadata": {
    "collapsed": false
   },
   "outputs": [
    {
     "data": {
      "text/plain": [
       "<matplotlib.axes._subplots.AxesSubplot at 0x7fa359097150>"
      ]
     },
     "execution_count": 82,
     "metadata": {},
     "output_type": "execute_result"
    },
    {
     "data": {
      "image/png": "[encoded data removed]",
      "text/plain": [
       "<matplotlib.figure.Figure at 0x7fa35913b350>"
      ]
     },
     "metadata": {},
     "output_type": "display_data"
    }
   ],
   "source": [
    "b = result2['profit_r_fee'].cumsum()\n",
    "from IPython.core.pylabtools import figsize\n",
    "figsize(10.5, 8.5)\n",
    "b.plot()"
   ]
  },
  {
   "cell_type": "code",
   "execution_count": 103,
   "metadata": {
    "collapsed": false
   },
   "outputs": [],
   "source": [
    "data_p = data[['Close','Open']][(4621-n):4622].values\n",
    "data_p1 = pd.DataFrame(data_p,columns = ['Close','Open'])\n",
    "result = np.c_[prediction_1101_pandas['indexedLabel'],prediction_1101_pandas['prediction']]\n",
    "result1 = pd.DataFrame(result , columns = ['test', 'prediction'])\n",
    "result2 = pd.concat([data_p1, result1], axis=1)\n",
    "result2[\"Cl - Op\"] = result2['Close'] - result2['Open']\n",
    "result2['prediction'] = result2['prediction'].replace(0,-1)\n",
    "result2['profit'] = 1000*result2['Open'] * result2['Cl - Op'] * result2['prediction']\n",
    "data_PE = data[['PE']][(4621-n):4622].values\n",
    "data_PE = pd.DataFrame(data_PE,columns = ['PE'])\n",
    "result2 = pd.concat([data_PE, result2], axis=1)"
   ]
  },
  {
   "cell_type": "code",
   "execution_count": 129,
   "metadata": {
    "collapsed": false
   },
   "outputs": [
    {
     "data": {
      "text/html": [
       "<div>\n",
       "<table border=\"1\" class=\"dataframe\">\n",
       "  <thead>\n",
       "    <tr style=\"text-align: right;\">\n",
       "      <th></th>\n",
       "      <th>PE</th>\n",
       "      <th>Close</th>\n",
       "      <th>Open</th>\n",
       "      <th>test</th>\n",
       "      <th>prediction</th>\n",
       "      <th>Cl - Op</th>\n",
       "      <th>profit</th>\n",
       "      <th>profit2</th>\n",
       "      <th>processing_fee_2</th>\n",
       "    </tr>\n",
       "  </thead>\n",
       "  <tbody>\n",
       "    <tr>\n",
       "      <th>0</th>\n",
       "      <td>14.35</td>\n",
       "      <td>28.76</td>\n",
       "      <td>28.67</td>\n",
       "      <td>1.0</td>\n",
       "      <td>-1.0</td>\n",
       "      <td>0.09</td>\n",
       "      <td>-2580.3</td>\n",
       "      <td>0.0</td>\n",
       "      <td>0.0</td>\n",
       "    </tr>\n",
       "    <tr>\n",
       "      <th>1</th>\n",
       "      <td>14.30</td>\n",
       "      <td>28.67</td>\n",
       "      <td>28.76</td>\n",
       "      <td>1.0</td>\n",
       "      <td>1.0</td>\n",
       "      <td>-0.09</td>\n",
       "      <td>-2588.4</td>\n",
       "      <td>0.0</td>\n",
       "      <td>0.0</td>\n",
       "    </tr>\n",
       "    <tr>\n",
       "      <th>2</th>\n",
       "      <td>14.28</td>\n",
       "      <td>28.63</td>\n",
       "      <td>28.67</td>\n",
       "      <td>0.0</td>\n",
       "      <td>-1.0</td>\n",
       "      <td>-0.04</td>\n",
       "      <td>1146.8</td>\n",
       "      <td>0.0</td>\n",
       "      <td>0.0</td>\n",
       "    </tr>\n",
       "    <tr>\n",
       "      <th>3</th>\n",
       "      <td>14.11</td>\n",
       "      <td>28.29</td>\n",
       "      <td>28.50</td>\n",
       "      <td>0.0</td>\n",
       "      <td>-1.0</td>\n",
       "      <td>-0.21</td>\n",
       "      <td>5985.0</td>\n",
       "      <td>0.0</td>\n",
       "      <td>0.0</td>\n",
       "    </tr>\n",
       "    <tr>\n",
       "      <th>4</th>\n",
       "      <td>13.95</td>\n",
       "      <td>27.95</td>\n",
       "      <td>28.33</td>\n",
       "      <td>0.0</td>\n",
       "      <td>-1.0</td>\n",
       "      <td>-0.38</td>\n",
       "      <td>10765.4</td>\n",
       "      <td>0.0</td>\n",
       "      <td>0.0</td>\n",
       "    </tr>\n",
       "  </tbody>\n",
       "</table>\n",
       "</div>"
      ],
      "text/plain": [
       "      PE  Close   Open  test  prediction  Cl - Op   profit  profit2  \\\n",
       "0  14.35  28.76  28.67   1.0        -1.0     0.09  -2580.3      0.0   \n",
       "1  14.30  28.67  28.76   1.0         1.0    -0.09  -2588.4      0.0   \n",
       "2  14.28  28.63  28.67   0.0        -1.0    -0.04   1146.8      0.0   \n",
       "3  14.11  28.29  28.50   0.0        -1.0    -0.21   5985.0      0.0   \n",
       "4  13.95  27.95  28.33   0.0        -1.0    -0.38  10765.4      0.0   \n",
       "\n",
       "   processing_fee_2  \n",
       "0               0.0  \n",
       "1               0.0  \n",
       "2               0.0  \n",
       "3               0.0  \n",
       "4               0.0  "
      ]
     },
     "execution_count": 129,
     "metadata": {},
     "output_type": "execute_result"
    }
   ],
   "source": [
    "result2.head()"
   ]
  },
  {
   "cell_type": "code",
   "execution_count": 124,
   "metadata": {
    "collapsed": false
   },
   "outputs": [],
   "source": [
    "result2['profit2'] = 0.0\n",
    "result2['profit2'][0] = 0 \n",
    "for i in range(5,len(result2)-1,1):\n",
    "    if result2['prediction'][i+1] == 1 and result2['prediction'][i] == -1 and result2['PE'][i] < result2['PE'][i-5:i-1].mean():\n",
    "        result2['profit2'][i+1] = result2['profit2'][i] + 1000 * (-1) * result2['Open'][i+1]\n",
    "    elif result2['prediction'][i+1] == 1 and result2['prediction'][i] == 1:\n",
    "        result2['profit2'][i+1] = result2['profit2'][i] \n",
    "    elif result2['prediction'][i+1] == -1 and result2['prediction'][i] == 1 and result2['PE'][i] > result2['PE'][i-5:i-1].mean():\n",
    "        result2['profit2'][i+1] = result2['profit2'][i] + 1000 * result2['Open'][i+1]\n",
    "    elif result2['prediction'][i+1] == -1 and result2['prediction'][i] == -1:\n",
    "        result2['profit2'][i+1] = result2['profit2'][i] "
   ]
  },
  {
   "cell_type": "code",
   "execution_count": 125,
   "metadata": {
    "collapsed": false
   },
   "outputs": [
    {
     "data": {
      "text/html": [
       "<div>\n",
       "<table border=\"1\" class=\"dataframe\">\n",
       "  <thead>\n",
       "    <tr style=\"text-align: right;\">\n",
       "      <th></th>\n",
       "      <th>PE</th>\n",
       "      <th>Close</th>\n",
       "      <th>Open</th>\n",
       "      <th>test</th>\n",
       "      <th>prediction</th>\n",
       "      <th>Cl - Op</th>\n",
       "      <th>profit</th>\n",
       "      <th>profit2</th>\n",
       "      <th>processing_fee_2</th>\n",
       "    </tr>\n",
       "  </thead>\n",
       "  <tbody>\n",
       "    <tr>\n",
       "      <th>0</th>\n",
       "      <td>14.35</td>\n",
       "      <td>28.76</td>\n",
       "      <td>28.67</td>\n",
       "      <td>1.0</td>\n",
       "      <td>-1.0</td>\n",
       "      <td>0.09</td>\n",
       "      <td>-2580.3</td>\n",
       "      <td>0.0</td>\n",
       "      <td>0.0</td>\n",
       "    </tr>\n",
       "    <tr>\n",
       "      <th>1</th>\n",
       "      <td>14.30</td>\n",
       "      <td>28.67</td>\n",
       "      <td>28.76</td>\n",
       "      <td>1.0</td>\n",
       "      <td>1.0</td>\n",
       "      <td>-0.09</td>\n",
       "      <td>-2588.4</td>\n",
       "      <td>0.0</td>\n",
       "      <td>0.0</td>\n",
       "    </tr>\n",
       "    <tr>\n",
       "      <th>2</th>\n",
       "      <td>14.28</td>\n",
       "      <td>28.63</td>\n",
       "      <td>28.67</td>\n",
       "      <td>0.0</td>\n",
       "      <td>-1.0</td>\n",
       "      <td>-0.04</td>\n",
       "      <td>1146.8</td>\n",
       "      <td>0.0</td>\n",
       "      <td>0.0</td>\n",
       "    </tr>\n",
       "    <tr>\n",
       "      <th>3</th>\n",
       "      <td>14.11</td>\n",
       "      <td>28.29</td>\n",
       "      <td>28.50</td>\n",
       "      <td>0.0</td>\n",
       "      <td>-1.0</td>\n",
       "      <td>-0.21</td>\n",
       "      <td>5985.0</td>\n",
       "      <td>0.0</td>\n",
       "      <td>0.0</td>\n",
       "    </tr>\n",
       "    <tr>\n",
       "      <th>4</th>\n",
       "      <td>13.95</td>\n",
       "      <td>27.95</td>\n",
       "      <td>28.33</td>\n",
       "      <td>0.0</td>\n",
       "      <td>-1.0</td>\n",
       "      <td>-0.38</td>\n",
       "      <td>10765.4</td>\n",
       "      <td>0.0</td>\n",
       "      <td>0.0</td>\n",
       "    </tr>\n",
       "  </tbody>\n",
       "</table>\n",
       "</div>"
      ],
      "text/plain": [
       "      PE  Close   Open  test  prediction  Cl - Op   profit  profit2  \\\n",
       "0  14.35  28.76  28.67   1.0        -1.0     0.09  -2580.3      0.0   \n",
       "1  14.30  28.67  28.76   1.0         1.0    -0.09  -2588.4      0.0   \n",
       "2  14.28  28.63  28.67   0.0        -1.0    -0.04   1146.8      0.0   \n",
       "3  14.11  28.29  28.50   0.0        -1.0    -0.21   5985.0      0.0   \n",
       "4  13.95  27.95  28.33   0.0        -1.0    -0.38  10765.4      0.0   \n",
       "\n",
       "   processing_fee_2  \n",
       "0               0.0  \n",
       "1               0.0  \n",
       "2               0.0  \n",
       "3               0.0  \n",
       "4               0.0  "
      ]
     },
     "execution_count": 125,
     "metadata": {},
     "output_type": "execute_result"
    }
   ],
   "source": [
    "result2.head()"
   ]
  },
  {
   "cell_type": "code",
   "execution_count": 126,
   "metadata": {
    "collapsed": false
   },
   "outputs": [
    {
     "data": {
      "text/plain": [
       "<matplotlib.axes._subplots.AxesSubplot at 0x7fa358774f50>"
      ]
     },
     "execution_count": 126,
     "metadata": {},
     "output_type": "execute_result"
    },
    {
     "data": {
      "image/png": "[encoded data removed]",
      "text/plain": [
       "<matplotlib.figure.Figure at 0x7fa3586f3f90>"
      ]
     },
     "metadata": {},
     "output_type": "display_data"
    }
   ],
   "source": [
    "result2['profit2'].plot()"
   ]
  },
  {
   "cell_type": "code",
   "execution_count": 127,
   "metadata": {
    "collapsed": true
   },
   "outputs": [],
   "source": [
    "result2['processing_fee_2'] = 0.0\n",
    "result2['processing_fee_2'][0] = 0#(-1) * result2['Open'][0]\n",
    "\n",
    "for i in range(5,len(result2)-1,1):\n",
    "    if result2['prediction'][i+1] == 1 and result2['prediction'][i] == -1 and result2['PE'][i] < result2['PE'][i-5:i-1].mean():\n",
    "        result2['processing_fee_2'][i+1] = result2['processing_fee_2'][i] + 1000 * (-1) * result2['Open'][i+1] - (1000 * result2['Open'][i+1])*((1.425/1000.0))\n",
    "    elif result2['prediction'][i+1] == 1 and result2['prediction'][i] == 1:\n",
    "        result2['processing_fee_2'][i+1] = result2['processing_fee_2'][i]\n",
    "    elif result2['prediction'][i+1] == -1 and result2['prediction'][i] == 1 and result2['PE'][i] > result2['PE'][i-5:i-1].mean():\n",
    "        result2['processing_fee_2'][i+1] = result2['processing_fee_2'][i] + 1000 * result2['Open'][i+1] - (1000 * result2['Open'][i+1])*(4.425/1000.0)\n",
    "    elif result2['prediction'][i+1] == -1 and result2['prediction'][i] == -1:\n",
    "        result2['processing_fee_2'][i+1] = result2['processing_fee_2'][i]"
   ]
  },
  {
   "cell_type": "code",
   "execution_count": 128,
   "metadata": {
    "collapsed": false
   },
   "outputs": [
    {
     "data": {
      "text/plain": [
       "<matplotlib.axes._subplots.AxesSubplot at 0x7fa3585d0a10>"
      ]
     },
     "execution_count": 128,
     "metadata": {},
     "output_type": "execute_result"
    },
    {
     "data": {
      "image/png": "[encoded data removed]",
      "text/plain": [
       "<matplotlib.figure.Figure at 0x7fa358620f50>"
      ]
     },
     "metadata": {},
     "output_type": "display_data"
    }
   ],
   "source": [
    "result2['processing_fee_2'].plot()#[1101:2301].plot()"
   ]
  },
  {
   "cell_type": "code",
   "execution_count": null,
   "metadata": {
    "collapsed": true
   },
   "outputs": [],
   "source": []
  },
  {
   "cell_type": "code",
   "execution_count": null,
   "metadata": {
    "collapsed": true
   },
   "outputs": [],
   "source": []
  }
 ],
 "metadata": {
  "kernelspec": {
   "display_name": "Python 2",
   "language": "python",
   "name": "python2"
  },
  "language_info": {
   "codemirror_mode": {
    "name": "ipython",
    "version": 2
   },
   "file_extension": ".py",
   "mimetype": "text/x-python",
   "name": "python",
   "nbconvert_exporter": "python",
   "pygments_lexer": "ipython2",
   "version": "2.7.11"
  }
 },
 "nbformat": 4,
 "nbformat_minor": 0
}
